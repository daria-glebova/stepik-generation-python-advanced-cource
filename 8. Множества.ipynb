{
 "cells": [
  {
   "cell_type": "markdown",
   "id": "668819be",
   "metadata": {},
   "source": [
    "# 1. Тимур и его команда"
   ]
  },
  {
   "cell_type": "markdown",
   "id": "231e6a56",
   "metadata": {},
   "source": [
    "На летних каникулах Тимур и ученики онлайн-школы BEEGEEK решили отдохнуть. В результате nn учеников школы поехали отдыхать на море, mm учеников съездили в деревню, а kk учеников сходили в горы. Оказалось, что и в деревне, и на море были xx учеников, а в деревне и в горах — yy учеников. Побывать и в горах, и на море не удалось никому. \n",
    "\n",
    "Напишите программу для определения количества учеников в школе, если никто не смог посетить все три места сразу, а zz учеников писали ДВИ по математике для поступления в МГУ, и никуда не ездили.\n",
    "\n",
    "#### Формат входных данных\n",
    "На вход программе подаются числа n, m, k, x, y, z каждое на отдельной строке.\n",
    "\n",
    "#### Формат выходных данных\n",
    "Программа должна вывести одно число в соответствии с условием задачи."
   ]
  },
  {
   "cell_type": "code",
   "execution_count": 2,
   "id": "6af154d6",
   "metadata": {},
   "outputs": [
    {
     "name": "stdout",
     "output_type": "stream",
     "text": [
      "14\n",
      "16\n",
      "5\n",
      "10\n",
      "3\n",
      "2\n",
      "24\n"
     ]
    }
   ],
   "source": [
    "n, m, k, x, y, z = int(input()), int(input()), int(input()), int(input()), int(input()), int(input())\n",
    "print(n - x + m + k - y + z)"
   ]
  },
  {
   "cell_type": "markdown",
   "id": "563e9428",
   "metadata": {},
   "source": [
    "# 2. Книги на прочтение 🌶️"
   ]
  },
  {
   "cell_type": "markdown",
   "id": "6c30e385",
   "metadata": {},
   "source": [
    "Ученики 10 класса онлайн-школы BEEGEEK получили задание прочесть на летних каникулах три книги:\n",
    "\n",
    "1) \"Что такое математика?\";\n",
    "\n",
    "2) \"Математическая составляющая\";\n",
    "\n",
    "3) \"100 гениальных идей по математике\".\n",
    "\n",
    "Оказалось, что n учеников прочитали первую книгу, m учеников — вторую, k учеников — третью. Также известно, что x учеников прочли первую или вторую, или обе эти книги, y учеников — вторую или третью, или обе, z учеников — первую и третью, или хотя бы одну из этих двух книг. Полностью выполнили задание только t учеников. Всего в 10 классе учится a учеников. Напишите программу, которая выводит сколько учеников:\n",
    "\n",
    "прочитали только одну книгу;\n",
    "прочитали две книги;\n",
    "не прочитали ни одной из рекомендованных книг.\n",
    "#### Формат входных данных\n",
    "На вход программе подаются числа n, m, k, x, y, z, t, a каждое на отдельной строке.\n",
    "\n",
    "#### Формат выходных данных\n",
    "Программа должна вывести три числа в соответствии с условием задачи, каждое на отдельной строке."
   ]
  },
  {
   "cell_type": "code",
   "execution_count": 2,
   "id": "0f326739",
   "metadata": {
    "scrolled": true
   },
   "outputs": [
    {
     "name": "stdout",
     "output_type": "stream",
     "text": [
      "19\n",
      "18\n",
      "22\n",
      "32\n",
      "33\n",
      "35\n",
      "2\n",
      "50\n",
      "29\n",
      "12\n",
      "7\n"
     ]
    }
   ],
   "source": [
    "n, m, k, x, y, z, t, a = int(input()), int(input()), int(input()), int(input()), int(input()), int(input()), int(input()), int(input())\n",
    "\n",
    "# прочитали две книги\n",
    "q1 = n + m - x - t\n",
    "q2 = k + m - y - t\n",
    "q3 = n + k - z - t\n",
    "\n",
    "q = q1 + q2 + q3\n",
    "\n",
    "# прочитали одну книгу\n",
    "qq1 = n - q1 - q3 - t\n",
    "qq2 = m - q1 - q2 - t\n",
    "qq3 = k - q2 - q3 - t\n",
    "\n",
    "qq = qq1 + qq2 + qq3\n",
    "\n",
    "# не прочитали ни одной книги\n",
    "qqq = a - qq - q - t\n",
    "\n",
    "print(qq)\n",
    "print(q)\n",
    "print(qqq)"
   ]
  },
  {
   "cell_type": "markdown",
   "id": "ace2783c",
   "metadata": {},
   "source": [
    "# 3. \n",
    "Дополните приведенный код так, чтобы он вывел сумму минимального и максимального элементов множества numbers."
   ]
  },
  {
   "cell_type": "code",
   "execution_count": 3,
   "id": "aa524061",
   "metadata": {},
   "outputs": [
    {
     "name": "stdout",
     "output_type": "stream",
     "text": [
      "13.6618\n"
     ]
    }
   ],
   "source": [
    "numbers = {1.414, 12.5, 3.1415, 2.718, 9.8, 1.414, 1.1618, 1.324, 2.718, 1.324}\n",
    "\n",
    "print(min(numbers) + max(numbers))"
   ]
  },
  {
   "cell_type": "markdown",
   "id": "fe314a6c",
   "metadata": {},
   "source": [
    "# 4. \n",
    "Дополните приведенный код, чтобы он вывел среднее арифметическое элементов множества numbers."
   ]
  },
  {
   "cell_type": "code",
   "execution_count": 4,
   "id": "c44bbd35",
   "metadata": {},
   "outputs": [
    {
     "name": "stdout",
     "output_type": "stream",
     "text": [
      "11.0\n"
     ]
    }
   ],
   "source": [
    "numbers = {20, 6, 8, 18, 18, 2, 4, 6, 8, 10, 12, 14, 16, 18, 20, 12, 8, 8, 10, 4, 2, 2, 2, 16, 20}\n",
    "average = sum(numbers) / len(numbers)\n",
    "\n",
    "print(average)"
   ]
  },
  {
   "cell_type": "markdown",
   "id": "15b3b1a6",
   "metadata": {},
   "source": [
    "# 5. \n",
    "Дополните приведенный код, чтобы он вывел сумму квадратов элементов множества numbers."
   ]
  },
  {
   "cell_type": "code",
   "execution_count": 5,
   "id": "011f73b4",
   "metadata": {},
   "outputs": [
    {
     "name": "stdout",
     "output_type": "stream",
     "text": [
      "82649672\n"
     ]
    }
   ],
   "source": [
    "numbers = {9089, -67, -32, 1, 78, 23, -65, 99, 9089, 34, -32, 0, -67, 1, 11, 111, 111, 1, 23}\n",
    "Sum = 0\n",
    "\n",
    "for num in numbers:\n",
    "    Sum += num**2\n",
    "\n",
    "print(Sum)"
   ]
  },
  {
   "cell_type": "markdown",
   "id": "ab1219c0",
   "metadata": {},
   "source": [
    "# 6. \n",
    "Дополните приведенный код, чтобы он вывел элементы множества fruits, каждый на отдельной строке, отсортированные по убыванию (в обратном лексикографическом порядке).\n",
    "\n",
    "Примечание. Выводите каждый элемент множества на отдельной строке."
   ]
  },
  {
   "cell_type": "code",
   "execution_count": 8,
   "id": "111f9cab",
   "metadata": {},
   "outputs": [
    {
     "name": "stdout",
     "output_type": "stream",
     "text": [
      "pineapple\n",
      "grapefruit\n",
      "cherry\n",
      "banana\n",
      "avocado\n",
      "apricot\n",
      "apple\n"
     ]
    }
   ],
   "source": [
    "fruits = {'apple', 'banana', 'cherry', 'avocado', 'pineapple', 'apricot', 'banana', 'avocado', 'grapefruit'}\n",
    "sortfruits = sorted(fruits, reverse=True)\n",
    "print(*sortfruits, sep='\\n')"
   ]
  },
  {
   "cell_type": "markdown",
   "id": "cd05cb8f",
   "metadata": {},
   "source": [
    "# 7. Количество различных символов\n",
    "На вход программе подается строка текста. Напишите программу, которая определяет количество различных символов в строке.\n",
    "\n",
    "#### Формат входных данных\n",
    "На вход программе подается строка текста.\n",
    "\n",
    "#### Формат выходных данных\n",
    "Программа должна вывести количество различных символов в строке.\n",
    "\n",
    "#### Примечание. \n",
    "Задачу можно решить в одну строчку кода."
   ]
  },
  {
   "cell_type": "code",
   "execution_count": 9,
   "id": "3ece98e2",
   "metadata": {},
   "outputs": [
    {
     "name": "stdout",
     "output_type": "stream",
     "text": [
      "ab bc\n",
      "4\n"
     ]
    }
   ],
   "source": [
    "print(len(set(input())))"
   ]
  },
  {
   "cell_type": "markdown",
   "id": "f3d8b3d5",
   "metadata": {},
   "source": [
    "# 8. Неповторимые цифры\n",
    "На вход программе подается строка, состоящая из цифр. Необходимо определить, верно ли, что в ее записи ни одна из цифр не повторяется?\n",
    "\n",
    "#### Формат входных данных\n",
    "На вход программе подается строка, состоящая из цифр\n",
    "\n",
    "#### Формат выходных данных\n",
    "Программа должна вывести YES если ни одна из цифр в строке не повторяется и NO в противном случае."
   ]
  },
  {
   "cell_type": "code",
   "execution_count": 14,
   "id": "961fc80e",
   "metadata": {},
   "outputs": [
    {
     "name": "stdout",
     "output_type": "stream",
     "text": [
      "1093482\n",
      "YES\n"
     ]
    }
   ],
   "source": [
    "numbers = input()\n",
    "if len(set(numbers)) == len(list(numbers)):\n",
    "    print('YES')\n",
    "else:\n",
    "    print('NO')"
   ]
  },
  {
   "cell_type": "markdown",
   "id": "58de71ce",
   "metadata": {},
   "source": [
    "# 9. Все 10 цифр\n",
    "На вход программе подаются две строки, состоящие из цифр. Необходимо определить, верно ли, что в записи этих двух строк используются все десять цифр?\n",
    "\n",
    "#### Формат входных данных\n",
    "На вход подаются две строки, состоящие из цифр.\n",
    "\n",
    "#### Формат выходных данных\n",
    "Программа должна вывести YES, если в записи этих двух строк используются все десять цифр, и NO в противном случае."
   ]
  },
  {
   "cell_type": "code",
   "execution_count": 18,
   "id": "058c0495",
   "metadata": {},
   "outputs": [
    {
     "name": "stdout",
     "output_type": "stream",
     "text": [
      "12387\n",
      "94230\n",
      "NO\n"
     ]
    }
   ],
   "source": [
    "lis = list(input() + input())\n",
    "if len(set(lis)) == 10:\n",
    "    print('YES')\n",
    "else:\n",
    "    print('NO')"
   ]
  },
  {
   "cell_type": "markdown",
   "id": "008b4bb5",
   "metadata": {},
   "source": [
    "# 10. Одинаковые наборы\n",
    "На вход программе подаются две строки, состоящие из цифр. Необходимо определить, верно ли, что для записи этих строк были использованы одинаковые наборы цифр?\n",
    "\n",
    "#### Формат входных данных\n",
    "На вход подаются две строки, состоящие из цифр.\n",
    "\n",
    "#### Формат выходных данных\n",
    "Программа должна вывести YES, если для записи этих строк были использованы одинаковые наборы цифр и NO, в противном случае."
   ]
  },
  {
   "cell_type": "code",
   "execution_count": 19,
   "id": "e1a5ee9f",
   "metadata": {},
   "outputs": [
    {
     "name": "stdout",
     "output_type": "stream",
     "text": [
      "0943\n",
      "9304\n",
      "YES\n"
     ]
    }
   ],
   "source": [
    "n, m = set(input()), set(input())\n",
    "if n == m:\n",
    "    print('YES')\n",
    "else:\n",
    "    print('NO')"
   ]
  },
  {
   "cell_type": "markdown",
   "id": "e54af956",
   "metadata": {},
   "source": [
    "# 11. Три слова\n",
    "На вход программе подается строка, состоящая из трех слов. Верно ли, что для записи всех трех слов был использован один и тот же набор букв?\n",
    "\n",
    "#### Формат входных данных\n",
    "На вход программе подается строка, состоящая из трех слов.\n",
    "\n",
    "#### Формат выходных данных\n",
    "Программа должна вывести YES, если для записи всех трех слов был использован один и тот же набор букв и NO в противном случае."
   ]
  },
  {
   "cell_type": "code",
   "execution_count": 23,
   "id": "b7e2c7db",
   "metadata": {},
   "outputs": [
    {
     "name": "stdout",
     "output_type": "stream",
     "text": [
      "автор товар отвар\n",
      "YES\n"
     ]
    }
   ],
   "source": [
    "lis = list(input().split())\n",
    "if set(lis[0]) == set(lis[1]) and set(lis[1]) == set(lis[2]):\n",
    "    print('YES')\n",
    "else:\n",
    "    print('NO')"
   ]
  },
  {
   "cell_type": "markdown",
   "id": "dc68fa2d",
   "metadata": {},
   "source": [
    "# 12. Уникальные символы 1\n",
    "Напишите программу для вывода количества уникальных символов каждого считанного слова без учета регистра.\n",
    "\n",
    "#### Формат входных данных\n",
    "На вход программе в первой строке подается число n – общее количество слов. Далее идут n строк с словами.\n",
    "\n",
    "#### Формат выходных данных\n",
    "Программа должна вывести на отдельной строке количество уникальных символов для каждого слова."
   ]
  },
  {
   "cell_type": "code",
   "execution_count": 9,
   "id": "c5b95dbc",
   "metadata": {},
   "outputs": [
    {
     "name": "stdout",
     "output_type": "stream",
     "text": [
      "3\n",
      "Тимур\n",
      "Beegeek\n",
      "АнанАс\n",
      "5\n",
      "4\n",
      "3\n"
     ]
    }
   ],
   "source": [
    "n = int(input())\n",
    "length = []\n",
    "\n",
    "for _ in range(n):\n",
    "    word = input().lower()\n",
    "    length.append(len(set(word)))\n",
    "\n",
    "print(*length, sep='\\n')"
   ]
  },
  {
   "cell_type": "markdown",
   "id": "2b027b24",
   "metadata": {},
   "source": [
    "# 13. Уникальные символы 2\n",
    "Напишите программу для вывода общего количества уникальных символов во всех считанных словах без учета регистра.\n",
    "\n",
    "#### Формат входных данных\n",
    "На вход программе в первой строке подается число n – общее количество слов. Далее идут n строк со словами.\n",
    "\n",
    "#### Формат выходных данных\n",
    "Программа должна вывести одно число – общее количество уникальных символов во всех словах без учета регистра."
   ]
  },
  {
   "cell_type": "code",
   "execution_count": 19,
   "id": "efa66bb9",
   "metadata": {},
   "outputs": [
    {
     "name": "stdout",
     "output_type": "stream",
     "text": [
      "4\n",
      "авТорИтет\n",
      "небо\n",
      "машинА\n",
      "Мёд\n",
      "13\n"
     ]
    }
   ],
   "source": [
    "n = int(input())\n",
    "lis = []\n",
    "\n",
    "for _ in range(n):\n",
    "    word = input().lower()\n",
    "    word = list(set(word))\n",
    "    lis.extend(word)\n",
    "\n",
    "print(len(set(lis)))"
   ]
  },
  {
   "cell_type": "markdown",
   "id": "656ffabc",
   "metadata": {},
   "source": [
    "# 14. Количество слов в тексте\n",
    "Напишите программу для определения общего количества различных слов в строке текста.\n",
    "\n",
    "#### Формат входных данных\n",
    "На вход программе подается строка текста.\n",
    "\n",
    "#### Формат выходных данных\n",
    "Программа должна вывести одно число – общее количество различных слов в строке без учета регистра.\n",
    "\n",
    "#### Примечание 1. \n",
    "Словом считается последовательность непробельных символов, идущих подряд, слова разделены одним или большим числом пробелов.\n",
    "\n",
    "#### Примечание 2. \n",
    "Знаками препинания .,;:-?! пренебрегаем."
   ]
  },
  {
   "cell_type": "code",
   "execution_count": 29,
   "id": "aaca5e57",
   "metadata": {},
   "outputs": [
    {
     "name": "stdout",
     "output_type": "stream",
     "text": [
      "Snowflakes, snowflakes falling down. Snowflakes, covering up the ground. Making a blanket, soft and white. Making a blanket in the night.\n",
      "15\n"
     ]
    }
   ],
   "source": [
    "string = str(input()).lower()\n",
    "\n",
    "for i in '.,;:-?!':\n",
    "    string = string.replace(i,'')\n",
    "\n",
    "string_set = set(list(string.split()))\n",
    "\n",
    "print(len(string_set))"
   ]
  },
  {
   "cell_type": "markdown",
   "id": "42f0eee7",
   "metadata": {},
   "source": [
    "# 15. Встречалось ли число раньше?\n",
    "На вход программе подается строка текста, содержащая числа. Для каждого числа выведите слово YES (в отдельной строке), если это число ранее встречалось в последовательности или NO, если не встречалось.\n",
    "\n",
    "#### Формат входных данных\n",
    "На вход программе подается строка текста, содержащая числа, разделенные символом пробела.\n",
    "\n",
    "#### Формат выходных данных\n",
    "Программа должна вывести текст в соответствии с условием задачи.\n",
    "\n",
    "#### Примечание. \n",
    "Ведущие нули в числах должны игнорироваться."
   ]
  },
  {
   "cell_type": "code",
   "execution_count": 13,
   "id": "4ba4df9e",
   "metadata": {},
   "outputs": [
    {
     "name": "stdout",
     "output_type": "stream",
     "text": [
      "1 02 2 002 3 4\n",
      "NO\n",
      "NO\n",
      "YES\n",
      "YES\n",
      "NO\n",
      "NO\n"
     ]
    }
   ],
   "source": [
    "lis = list(input().split())\n",
    "Set = set()\n",
    "\n",
    "for i in lis:\n",
    "    if i.lstrip('0') in Set:\n",
    "        print('YES')\n",
    "    else:\n",
    "        print('NO')\n",
    "        Set.add(i.lstrip('0'))"
   ]
  },
  {
   "cell_type": "markdown",
   "id": "8343917d",
   "metadata": {},
   "source": [
    "# 16. Количество совпадающих\n",
    "На вход программе подаются две строки текста, содержащие числа. Напишите программу, которая определяет количество чисел, которые есть как в первой строке, так и во второй.\n",
    "\n",
    "#### Формат входных данных\n",
    "На вход программе подаются две строки текста, содержащие числа, отделенные символом пробела.\n",
    "\n",
    "#### Формат выходных данных\n",
    "Программа должна вывести количество чисел, содержащихся одновременно как в первой строке, так и во второй."
   ]
  },
  {
   "cell_type": "code",
   "execution_count": 17,
   "id": "b56a30aa",
   "metadata": {},
   "outputs": [
    {
     "name": "stdout",
     "output_type": "stream",
     "text": [
      "1 3 2\n",
      "4 3 2\n",
      "4\n"
     ]
    }
   ],
   "source": [
    "myset1, myset2 = set(list(input().split())), set(list(input().split()))\n",
    "myset3 = myset1.intersection(myset2)\n",
    "print(len(myset3))"
   ]
  },
  {
   "cell_type": "markdown",
   "id": "02943c37",
   "metadata": {},
   "source": [
    "# 17. Общие числа\n",
    "На вход программе подаются две строки текста, содержащие числа. Напишите программу, которая выводит все числа в порядке возрастания, которые есть как в первой строке, так и во второй.\n",
    "\n",
    "#### Формат входных данных\n",
    "На вход программе подаются две строки текста, содержащие числа, отделенные символом пробела.\n",
    "\n",
    "#### Формат выходных данных\n",
    "Программа должна вывести множество чисел, встречающихся в обеих строках."
   ]
  },
  {
   "cell_type": "code",
   "execution_count": 24,
   "id": "f8696e6a",
   "metadata": {},
   "outputs": [
    {
     "name": "stdout",
     "output_type": "stream",
     "text": [
      "1 2 3\n",
      "1 2 4 5\n",
      "1 2\n"
     ]
    }
   ],
   "source": [
    "myset1, myset2 = set([int(i) for i in input().split()]), set([int(i) for i in input().split()])\n",
    "myset3 = myset1.intersection(myset2)\n",
    "print(*sorted(myset3)) "
   ]
  },
  {
   "cell_type": "markdown",
   "id": "e91e1c72",
   "metadata": {},
   "source": [
    "# 18. Числа первой строки\n",
    "На вход программе подаются две строки текста, содержащие числа. Напишите программу, которая выводит все числа в порядке возрастания, которые есть в первой строке, но отсутствуют во второй.\n",
    "\n",
    "#### Формат входных данных\n",
    "На вход программе подаются две строки текста, содержащие числа, отделенные символом пробела.\n",
    "\n",
    "#### Формат выходных данных\n",
    "Программа должна вывести множество чисел, встречающихся только в первой строке."
   ]
  },
  {
   "cell_type": "code",
   "execution_count": 26,
   "id": "bf561527",
   "metadata": {},
   "outputs": [
    {
     "name": "stdout",
     "output_type": "stream",
     "text": [
      "1 2 3 4\n",
      "5 6 7 8\n",
      "1 2 3 4\n"
     ]
    }
   ],
   "source": [
    "myset1, myset2 = set([int(i) for i in input().split()]), set([int(i) for i in input().split()])\n",
    "myset3 = myset1.difference(myset2)\n",
    "print(*sorted(myset3)) "
   ]
  },
  {
   "cell_type": "markdown",
   "id": "66e1dd5a",
   "metadata": {},
   "source": [
    "# 19. Общие цифры\n",
    "На вход программе подается натуральное число n, а затем n различных натуральных чисел, каждое на отдельной строке. Напишите программу, которая выводит все общие цифры в порядке возрастания у всех введенных чисел.\n",
    "\n",
    "#### Формат входных данных\n",
    "На вход программе подаются натуральное число n ≥ 1, а затем n различных натуральных чисел, каждое на отдельной строке.\n",
    "\n",
    "#### Формат выходных данных\n",
    "Программа должна вывести цифры в соответствии с условием задачи. Если общих цифр нет, то ничего выводить не нужно."
   ]
  },
  {
   "cell_type": "code",
   "execution_count": 33,
   "id": "a250ab3a",
   "metadata": {},
   "outputs": [
    {
     "name": "stdout",
     "output_type": "stream",
     "text": [
      "4\n",
      "12345\n",
      "236\n",
      "3452222\n",
      "9302\n",
      "2 3\n"
     ]
    }
   ],
   "source": [
    "n = int(input())\n",
    "lis = []\n",
    "\n",
    "for _ in range(n):\n",
    "    num = input()\n",
    "    lis.append(num)\n",
    "\n",
    "Set = set(lis[0])\n",
    "\n",
    "for i in range(n):\n",
    "    Set.intersection_update(set(lis[i]))\n",
    "\n",
    "print(*sorted(Set)) "
   ]
  },
  {
   "cell_type": "markdown",
   "id": "6a8653c3",
   "metadata": {},
   "source": [
    "# 20. Одинаковые цифры\n",
    "На вход программе подаются два числа. Напишите программу, определяющую, есть ли в данных числах одинаковые цифры.\n",
    "\n",
    "#### Формат входных данных\n",
    "На вход программе подаются два натуральных числа, каждое на отдельной строке.\n",
    "\n",
    "#### Формат выходных данных\n",
    "Программа должна вывести YES, если в записи данных чисел есть одинаковые цифры и NO если нет."
   ]
  },
  {
   "cell_type": "code",
   "execution_count": 2,
   "id": "a063036e",
   "metadata": {},
   "outputs": [
    {
     "name": "stdout",
     "output_type": "stream",
     "text": [
      "1523\n",
      "3678\n",
      "YES\n"
     ]
    }
   ],
   "source": [
    "num1, num2 = set([int(i) for i in input()]), set([int(i) for i in input()])\n",
    "if num1.isdisjoint(num2):\n",
    "    print('NO')\n",
    "else:\n",
    "    print('YES')"
   ]
  },
  {
   "cell_type": "markdown",
   "id": "e9234804",
   "metadata": {},
   "source": [
    "# 21. Все цифры\n",
    "На вход программе подаются два числа. Напишите программу, которая определяет, входят ли в запись первого числа все цифры, содержащиеся в записи второго (независимо от повтора, то есть количества цифр) числа или нет.\n",
    "\n",
    "#### Формат входных данных\n",
    "На вход программе подаются два натуральных числа, каждое на отдельной строке.\n",
    "\n",
    "#### Формат выходных данных\n",
    "Программа должна вывести YES, если в запись первого числа входят все цифры, содержащиеся в записи второго числа и NO в противном случае."
   ]
  },
  {
   "cell_type": "code",
   "execution_count": 5,
   "id": "5539e306",
   "metadata": {},
   "outputs": [
    {
     "name": "stdout",
     "output_type": "stream",
     "text": [
      "1254\n",
      "1243\n",
      "NO\n"
     ]
    }
   ],
   "source": [
    "num1, num2 = set([int(i) for i in input()]), set([int(i) for i in input()])\n",
    "if num2.issubset(num1):\n",
    "    print('YES')\n",
    "else:\n",
    "    print('NO')"
   ]
  },
  {
   "cell_type": "markdown",
   "id": "caa69635",
   "metadata": {},
   "source": [
    "# 22. Урок информатики\n",
    "Даны по 10-балльной шкале оценки по информатике трех учеников. Напишите программу, которая выводит множество оценок, которые есть и у первого и у второго учеников, но которых нет у третьего ученика.\n",
    "\n",
    "#### Формат входных данных\n",
    "На вход программе подаются оценки трех учеников, разделенные символом пробела (оценки каждого ученика на отдельной строке).\n",
    "\n",
    "#### Формат выходных данных\n",
    "Программа должна вывести множество оценок в порядке убывания на одной строке, разделенных пробелами, в соответствии с условием задачи.\n",
    "\n",
    "#### Примечание. \n",
    "Оценка ученика находится в диапазоне от 0 до 10 включительно."
   ]
  },
  {
   "cell_type": "code",
   "execution_count": 10,
   "id": "f4ff7e07",
   "metadata": {},
   "outputs": [
    {
     "name": "stdout",
     "output_type": "stream",
     "text": [
      "1 5 4 2 5 6 6 2 3 3 5 2\n",
      "2 3 5 1 2 1 2 6 7 1 1 6\n",
      "1 4 6 9 8 7 0 9 0 9 8 10\n",
      "5 3 2\n"
     ]
    }
   ],
   "source": [
    "student1, student2, student3 = set([int(i) for i in input().split()]), set([int(i) for i in input().split()]), set([int(i) for i in input().split()])\n",
    "print(*sorted(((student1 & student2) - student3), reverse=True))"
   ]
  },
  {
   "cell_type": "markdown",
   "id": "e176e085",
   "metadata": {},
   "source": [
    "# 23. Урок математики\n",
    "Даны по 10-балльной шкале оценки по математике трех учеников. Напишите программу, которая выводит множество оценок, имеющихся у учеников, которые встречаются не более, чем у двух из указанных учеников.\n",
    "\n",
    "#### Формат входных данных\n",
    "На вход программе подаются оценки трех учеников, разделенные символом пробела (оценки каждого ученика на отдельной строке).\n",
    "\n",
    "#### Формат выходных данных\n",
    "Программа должна вывести множество оценок в порядке возрастания на одной строке, разделенных пробелами, в соответствии с условием задачи.\n",
    "\n",
    "#### Примечание. \n",
    "Оценка ученика находится в диапазоне от 0 до 10 включительно."
   ]
  },
  {
   "cell_type": "code",
   "execution_count": 12,
   "id": "20de6b62",
   "metadata": {},
   "outputs": [
    {
     "name": "stdout",
     "output_type": "stream",
     "text": [
      "1 5 4 2 5 6 6 2 3 3 5 2\n",
      "2 3 5 10 2 10 2 6 7 10 10 6\n",
      "1 4 6 9 8 7 0 9 0 9 8 10\n",
      "0 1 2 3 4 5 7 8 9 10\n"
     ]
    }
   ],
   "source": [
    "student1, student2, student3 = set([int(i) for i in input().split()]), set([int(i) for i in input().split()]), set([int(i) for i in input().split()])\n",
    "print(*sorted((student1 | student2 | student3) - (student1 & student2 & student3)))"
   ]
  },
  {
   "cell_type": "markdown",
   "id": "6ce30a0a",
   "metadata": {},
   "source": [
    "# 24. Урок физики\n",
    "Даны по 10-балльной шкале оценки по физике трех учеников. Напишите программу, которая выводит множество оценок третьего ученика, которые не встречаются ни у первого, ни у второго ученика.\n",
    "\n",
    "#### Формат входных данных\n",
    "На вход программе подаются оценки трех учеников, разделенные символом пробела (оценки каждого ученика на отдельной строке).\n",
    "\n",
    "#### Формат выходных данных\n",
    "Программа должна вывести множество оценок в порядке убывания на одной строке, разделенных пробелами, в соответствии с условием задачи.\n",
    "\n",
    "#### Примечание. \n",
    "Оценка ученика находится в диапазоне от 0 до 10 включительно."
   ]
  },
  {
   "cell_type": "code",
   "execution_count": 14,
   "id": "a2380256",
   "metadata": {},
   "outputs": [
    {
     "name": "stdout",
     "output_type": "stream",
     "text": [
      "1 5 4 2 5 6 6 2 3 3 5 2\n",
      "2 3 5 1 2 1 2 6 7 1 1 6\n",
      "1 4 6 9 8 7 0 9 0 9 8 10\n",
      "10 9 8 0\n"
     ]
    }
   ],
   "source": [
    "student1, student2, student3 = set([int(i) for i in input().split()]), set([int(i) for i in input().split()]), set([int(i) for i in input().split()])\n",
    "print(*sorted((student3 - (student1 | student2)), reverse=True))"
   ]
  },
  {
   "cell_type": "markdown",
   "id": "4ccf1ccd",
   "metadata": {},
   "source": [
    "# 25. Урок биологии\n",
    "Даны по 10-балльной шкале оценки по биологии трех учеников. Напишите программу, которая выводит множество оценок, не встречающихся ни у одного из трех учеников.\n",
    "\n",
    "#### Формат входных данных\n",
    "На вход программе подаются оценки трех учеников, разделенные символом пробела (оценки каждого ученика на отдельной строке).\n",
    "\n",
    "#### Формат выходных данных\n",
    "Программа должна вывести множество оценок в порядке возрастания на одной строке, разделенных пробелами, в соответствии с условием задачи.\n",
    "\n",
    "#### Примечание. \n",
    "Оценка ученика находится в диапазоне от 0 до 10 включительно."
   ]
  },
  {
   "cell_type": "code",
   "execution_count": 15,
   "id": "b3a2917e",
   "metadata": {},
   "outputs": [
    {
     "name": "stdout",
     "output_type": "stream",
     "text": [
      "1 5 4 2 5 6 6 2 3 3 5 2\n",
      "2 3 5 1 2 1 2 6 7 1 1 6\n",
      "1 4 6 8 8 7 0 6 0 3 8 1\n",
      "9 10\n"
     ]
    }
   ],
   "source": [
    "student1, student2, student3 = set([int(i) for i in input().split()]), set([int(i) for i in input().split()]), set([int(i) for i in input().split()])\n",
    "A = set(range(11))\n",
    "print(*sorted(A - (student1 | student2 | student3)))"
   ]
  },
  {
   "cell_type": "markdown",
   "id": "d534117a",
   "metadata": {},
   "source": [
    "# 26. \n",
    "Используя генератор множеств, дополните приведенный код так, чтобы получить множество, содержащее уникальные значения списка items. Результат вывести на одной строке, в упорядоченном виде, разделяя элементы одним символом пробела.\n",
    "\n",
    "#### Примечание. \n",
    "Обратите внимание, некоторые элементы списка – числа, а некоторые – строки, при этом строки необходимо трактовать как числа."
   ]
  },
  {
   "cell_type": "code",
   "execution_count": 16,
   "id": "21e2bd8e",
   "metadata": {},
   "outputs": [
    {
     "name": "stdout",
     "output_type": "stream",
     "text": [
      "1 5 6 10 12 23 30 34 45 56 67 89 90\n"
     ]
    }
   ],
   "source": [
    "items = [10, '30', 30, 10, '56', 34, '12', 90, 89, 34, 45, '67', 12, 10, 90, 23, '45', 56, '56', 1, 5, '6', 5]\n",
    "myset = {int(i) for i in items}\n",
    "print(*sorted(myset))"
   ]
  },
  {
   "cell_type": "markdown",
   "id": "f4245d52",
   "metadata": {},
   "source": [
    "# 27. \n",
    "Используя генератор множеств, дополните приведенный код так, чтобы получить множество, содержащее первую букву каждого слова (в нижнем регистре) списка words. Результат вывести на одной строке в алфавитном порядке, разделяя элементы одним символом пробела."
   ]
  },
  {
   "cell_type": "code",
   "execution_count": 17,
   "id": "7da12243",
   "metadata": {},
   "outputs": [
    {
     "name": "stdout",
     "output_type": "stream",
     "text": [
      "a c g l o p t w\n"
     ]
    }
   ],
   "source": [
    "words = ['Plum', 'Grapefruit', 'apple', 'orange', 'pomegranate', 'Cranberry', 'lime', 'Lemon', 'grapes', 'persimmon', 'tangerine', 'Watermelon', 'currant', 'Almond']\n",
    "myset = {i[0].lower() for i in words}\n",
    "print(*sorted(myset))"
   ]
  },
  {
   "cell_type": "markdown",
   "id": "395deaab",
   "metadata": {},
   "source": [
    "# 28. \n",
    "Используя генератор множеств, дополните приведенный код так, чтобы получить множество, содержащее уникальные слова (в нижнем регистре) строки sentence. Результат вывести на одной строке в алфавитном порядке, разделяя элементы одним символом пробела.\n",
    "\n",
    "#### Примечание. \n",
    "Учтите, что знаки пунктуации не относятся к словам."
   ]
  },
  {
   "cell_type": "code",
   "execution_count": 48,
   "id": "cd0cd861",
   "metadata": {},
   "outputs": [
    {
     "name": "stdout",
     "output_type": "stream",
     "text": [
      "a about accident all am and at bloom bottom by can darkest day dells died dusk entered for freak furry golden had hedge her hill hollows i if in infancy know lightning memory midges mother my nothing observation of or over past photogenic picnic pocket rambler redolent remnants save set some stand still style subsists suddenly summer sun surely suspended the those three traversed under very warmth was when which with within writing you\n"
     ]
    }
   ],
   "source": [
    "sentence = '''My very photogenic mother died in a freak accident (picnic, lightning) when I was three, and, save for a pocket of warmth in the darkest past, nothing of her subsists within the hollows and dells of memory, over which, if you can still stand my style (I am writing under observation), the sun of my infancy had set: surely, you all know those redolent remnants of day suspended, with the midges, about some hedge in bloom or suddenly entered and traversed by the rambler, at the bottom of a hill, in the summer dusk; a furry warmth, golden midges.'''\n",
    "\n",
    "for i in '(),.;?!-:':\n",
    "    sentence = sentence.replace(i, '')\n",
    "\n",
    "myset = {i for i in sentence.lower().split()}\n",
    "\n",
    "print(*sorted(myset))"
   ]
  },
  {
   "cell_type": "markdown",
   "id": "13558efa",
   "metadata": {},
   "source": [
    "# 29. \n",
    "Используя генератор множеств, дополните приведенный код так, чтобы получить множество, содержащее уникальные слова  строки sentence длиною меньше 4 символов. Результат вывести на одной строке (в нижнем регистре) в алфавитном порядке, разделяя элементы одним символом пробела.\n",
    "\n",
    "#### Примечание. \n",
    "Учтите, что знаки пунктуации не относятся к словам."
   ]
  },
  {
   "cell_type": "code",
   "execution_count": 51,
   "id": "c836584c",
   "metadata": {},
   "outputs": [
    {
     "name": "stdout",
     "output_type": "stream",
     "text": [
      "a all am and at by can day for had her i if in my of or set sun the was you\n"
     ]
    }
   ],
   "source": [
    "sentence = '''My very photogenic mother died in a freak accident (picnic, lightning) when I was three, and, save for a pocket of warmth in the darkest past, nothing of her subsists within the hollows and dells of memory, over which, if you can still stand my style (I am writing under observation), the sun of my infancy had set: surely, you all know those redolent remnants of day suspended, with the midges, about some hedge in bloom or suddenly entered and traversed by the rambler, at the bottom of a hill, in the summer dusk; a furry warmth, golden midges.'''\n",
    "\n",
    "for i in '(),.;?!-:':\n",
    "    sentence = sentence.replace(i, '')\n",
    "\n",
    "myset = {i for i in sentence.lower().split() if (len(i) < 4)}\n",
    "\n",
    "print(*sorted(myset))"
   ]
  },
  {
   "cell_type": "markdown",
   "id": "7fac6034",
   "metadata": {},
   "source": [
    "# 30.\n",
    "Используя генератор множеств, дополните приведенный код так, чтобы он выбрал из списка files уникальные имена файлов c расширением .png, независимо от регистра имен и расширений. Имена файлов вывести вместе с расширением, все на одной строке, в нижнем регистре, в алфавитном порядке через пробел.\n",
    "\n",
    "#### Примечание. \n",
    "Если бы список files содержал следующие имена файлов:\n",
    "\n",
    "files = ['python.png', 'qwerty.py', 'Python.PNg', 'apple.pnG', 'zebra.PNG',  'solution.Py', 'stepik.org', 'kotlin.ko', 'github.git', 'ZeBrA.PnG']\n",
    "\n",
    "то ответом был бы:\n",
    "\n",
    "apple.png python.png zebra.png"
   ]
  },
  {
   "cell_type": "code",
   "execution_count": 53,
   "id": "5daa30fd",
   "metadata": {},
   "outputs": [
    {
     "name": "stdout",
     "output_type": "stream",
     "text": [
      "board.png png.png python.png stepik.png\n"
     ]
    }
   ],
   "source": [
    "files = ['python.png', 'qwerty.py', 'stepik.png', 'beegeek.org', 'windows.pnp', 'pen.txt', 'phone.py', 'book.txT', 'board.pNg', 'keyBoard.jpg', 'Python.PNg', 'apple.jpeg', 'png.png', 'input.tXt', 'split.pop', 'solution.Py', 'stepik.org', 'kotlin.ko', 'github.git']\n",
    "\n",
    "myset = {i.lower() for i in files if set('.png').issubset(i.lower())}\n",
    "\n",
    "print(*sorted(myset))"
   ]
  }
 ],
 "metadata": {
  "kernelspec": {
   "display_name": "Python 3 (ipykernel)",
   "language": "python",
   "name": "python3"
  },
  "language_info": {
   "codemirror_mode": {
    "name": "ipython",
    "version": 3
   },
   "file_extension": ".py",
   "mimetype": "text/x-python",
   "name": "python",
   "nbconvert_exporter": "python",
   "pygments_lexer": "ipython3",
   "version": "3.9.12"
  }
 },
 "nbformat": 4,
 "nbformat_minor": 5
}
