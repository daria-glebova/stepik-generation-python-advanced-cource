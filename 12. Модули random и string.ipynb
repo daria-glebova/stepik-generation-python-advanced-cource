{
 "cells": [
  {
   "cell_type": "markdown",
   "id": "a7c627e4",
   "metadata": {},
   "source": [
    "# 1.\n",
    "\n",
    "Напишите программу, которая с помощью модуля random моделирует броски монеты. Программа принимает на вход количество попыток и выводит результаты бросков: Орел или Решка (каждое на отдельной строке).\n",
    "\n",
    "<strong> Примечание. </strong> Например, при n = 7 ваша программа может выводить:\n",
    "\n",
    "- Орел\n",
    "- Решка \n",
    "- Решка\n",
    "- Орел\n",
    "- Орел\n",
    "- Орел\n",
    "- Решка"
   ]
  },
  {
   "cell_type": "code",
   "execution_count": 6,
   "id": "ca35e047",
   "metadata": {},
   "outputs": [
    {
     "name": "stdout",
     "output_type": "stream",
     "text": [
      "7\n",
      "Орел\n",
      "Решка\n",
      "Орел\n",
      "Орел\n",
      "Орел\n",
      "Орел\n",
      "Решка\n"
     ]
    }
   ],
   "source": [
    "import random\n",
    "\n",
    "n = int(input())    # количество попыток\n",
    "dic = {0: 'Орел', 1: 'Решка'}\n",
    "\n",
    "for _ in range(n):\n",
    "    print(dic[random.randint(0, 1)])"
   ]
  },
  {
   "cell_type": "markdown",
   "id": "6d4e96a9",
   "metadata": {},
   "source": [
    "# 2.\n",
    "Напишите программу, которая с помощью модуля random моделирует броски игрального кубика c 6 гранями. Программа принимает на вход количество попыток и выводит результаты бросков — выпавшее число, которое написано на грани кубика (каждое на отдельной строке).\n",
    "\n",
    "<strong> Примечание. </strong> Например, при n = 7 ваша программа может выводить:\n",
    "\n",
    "- 5\n",
    "- 5 \n",
    "- 6\n",
    "- 6\n",
    "- 2\n",
    "- 6\n",
    "- 2"
   ]
  },
  {
   "cell_type": "code",
   "execution_count": 7,
   "id": "2f1dc7d6",
   "metadata": {},
   "outputs": [
    {
     "name": "stdout",
     "output_type": "stream",
     "text": [
      "7\n",
      "1\n",
      "3\n",
      "1\n",
      "4\n",
      "2\n",
      "5\n",
      "6\n"
     ]
    }
   ],
   "source": [
    "import random\n",
    "\n",
    "n = int(input())    # количество попыток\n",
    "\n",
    "for _ in range(n):\n",
    "    print(random.randint(1, 6))"
   ]
  },
  {
   "cell_type": "markdown",
   "id": "abb26a44",
   "metadata": {},
   "source": [
    "# 3.\n",
    "\n",
    "Напишите программу, которая с помощью модуля random генерирует случайный пароль. Программа принимает на вход длину пароля и выводит случайный пароль, содержащий только символы английского алфавита a..z, A..Z (в нижнем и верхнем регистре).\n",
    "\n",
    "<strong> Примечание 1. </strong> Символам A..Z английского языка соответствуют номера с 65 по 90 в таблице символов ASCII.\n",
    "\n",
    "<strong> Примечание 2. </strong> Символам a..z английского языка соответствуют номера с 97 по 122 в таблице символов ASCII.\n",
    "\n",
    "<strong> Примечание 3. </strong> Используйте функцию chr() для получения символа по его номеру в таблице символов ASCII.\n",
    "\n",
    "<strong> Примечание 4. </strong> Например, при длине пароля, равной 15 символам ваша программа может выводить:\n",
    "\n",
    "peJFAmhqfaAeKDu"
   ]
  },
  {
   "cell_type": "code",
   "execution_count": 48,
   "id": "20f5fefa",
   "metadata": {},
   "outputs": [
    {
     "name": "stdout",
     "output_type": "stream",
     "text": [
      "16\n",
      "JgIbkKKnWXkUQNSZ\n"
     ]
    }
   ],
   "source": [
    "import random\n",
    "\n",
    "length = int(input())    # длина пароля\n",
    "qwerty = ''\n",
    "letters = 'abcdefghijklmnopqrstuvwxyzABCDEFGHIJKLMNOPQRSTUVWXYZ'\n",
    "\n",
    "qwerty = [random.choice(letters) for _ in range(length)]\n",
    "    \n",
    "print(''.join(qwerty))"
   ]
  },
  {
   "cell_type": "markdown",
   "id": "211d3b0a",
   "metadata": {},
   "source": [
    "# 4. \n",
    "Лотерейный билет содержит 7 чисел из диапазона от 1 до 49 (включительно).\n",
    "\n",
    "Напишите программу, которая с помощью модуля random генерирует 7 различных случайных чисел для лотерейного билета. Программа должна вывести числа в порядке возрастания на одной строке через один символ пробела.\n",
    "\n",
    "<strong> Примечание. </strong> Убедитесь, что сгенерированные числа не содержат дубликатов."
   ]
  },
  {
   "cell_type": "code",
   "execution_count": 26,
   "id": "8cfdf532",
   "metadata": {},
   "outputs": [
    {
     "name": "stdout",
     "output_type": "stream",
     "text": [
      "11 17 25 36 36 37 37\n"
     ]
    }
   ],
   "source": [
    "import random\n",
    "\n",
    "result = tuple()\n",
    "\n",
    "while not len(result) == 7:\n",
    "    temp = random.randint(1, 49)\n",
    "    result = (*result, temp)\n",
    "    \n",
    "print(*sorted(result), sep=' ')"
   ]
  },
  {
   "cell_type": "markdown",
   "id": "cc1fcf6f",
   "metadata": {},
   "source": [
    "# 5.\n",
    "IP адрес состоит из четырех чисел из диапазона от 0 до 255 (включительно) разделенных точкой.\n",
    "\n",
    "Напишите функцию generate_ip(), которая с помощью модуля random  генерирует и возвращает случайный корректный IP адрес.\n",
    "\n",
    "<strong> Примечание 1. </strong> Пример правильного (неправильного) IP адреса:\n",
    "\n",
    "192.168.5.250        # правильный\n",
    "\n",
    "199.300.521.255      # неправильный\n",
    "\n",
    "<strong> Примечание 2. </strong> Вызывать функцию generate_ip() не нужно, требуется только реализовать."
   ]
  },
  {
   "cell_type": "code",
   "execution_count": 30,
   "id": "554e1c3a",
   "metadata": {},
   "outputs": [
    {
     "name": "stdout",
     "output_type": "stream",
     "text": [
      "158.51.96.137\n"
     ]
    }
   ],
   "source": [
    "import random\n",
    "\n",
    "def generate_ip():\n",
    "    \n",
    "    ip = ''\n",
    "    \n",
    "    for _ in range(4):\n",
    "        ip += str(random.randint(0, 255)) + '.'\n",
    "        \n",
    "    return ip.rstrip('.')\n",
    "\n",
    "# print(generate_ip())"
   ]
  },
  {
   "cell_type": "markdown",
   "id": "92275355",
   "metadata": {},
   "source": [
    "# 6. \n",
    "Почтовый индекс в Латверии имеет вид: LetterLetterNumber_NumberLetterLetter, где Letter – заглавная буква английского алфавита, Number – число от 0 до 99 (включительно).\n",
    "\n",
    "Напишите функцию generate_index(), которая с помощью модуля random генерирует и возвращает случайный корректный почтовый индекс Латверии.\n",
    "\n",
    "<strong> Примечание 1. </strong> Пример правильного (неправильного) индекса Латверии:\n",
    "\n",
    "AB23_56VG          # правильный\n",
    "\n",
    "V3F_231GT          # неправильный\n",
    "\n",
    "<strong> Примечание 2. </strong> Обратите внимание на символ _ в почтовом индексе.\n",
    "\n",
    "<strong> Примечание 3. </strong> Вызывать функцию generate_index() не нужно, требуется только реализовать."
   ]
  },
  {
   "cell_type": "code",
   "execution_count": 1,
   "id": "afd3f352",
   "metadata": {},
   "outputs": [],
   "source": [
    "import random\n",
    "import string\n",
    "\n",
    "def generate_index():\n",
    "    \n",
    "    d = list(string.ascii_uppercase)\n",
    "    index = ''\n",
    "    \n",
    "    index += random.choice(d) + random.choice(d) + str(random.randint(0, 99)) + '_' + str(random.randint(0, 99)) + random.choice(d) + random.choice(d)\n",
    "    \n",
    "    return index"
   ]
  },
  {
   "cell_type": "markdown",
   "id": "accc1f20",
   "metadata": {},
   "source": [
    "# 7. \n",
    "Напишите программу, которая с помощью модуля random перемешивает случайным образом содержимое матрицы (двумерного списка).\n",
    "\n",
    "<strong> Примечание. </strong> Выводить содержимое матрицы не нужно."
   ]
  },
  {
   "cell_type": "code",
   "execution_count": 39,
   "id": "aff0d97e",
   "metadata": {},
   "outputs": [],
   "source": [
    "import random\n",
    "\n",
    "matrix = [[1, 2, 3, 4],\n",
    "          [5, 6, 7, 8],\n",
    "          [9, 10, 11, 12],\n",
    "          [13, 14, 15, 16]]\n",
    "\n",
    "random.shuffle(matrix)"
   ]
  },
  {
   "cell_type": "markdown",
   "id": "046456b1",
   "metadata": {},
   "source": [
    "# 8. \n",
    "Напишите программу, которая с помощью модуля random генерирует 100 случайных номеров лотерейных билетов и выводит их каждый на отдельной строке. Обратите внимание, вы должны придерживаться следующих условий:\n",
    "\n",
    "- номер не может начинаться с нулей;\n",
    "- номер лотерейного билета должен состоять из 7 цифр;\n",
    "- все 100 лотерейных билетов должны быть различными."
   ]
  },
  {
   "cell_type": "code",
   "execution_count": 16,
   "id": "488e2f70",
   "metadata": {},
   "outputs": [
    {
     "name": "stdout",
     "output_type": "stream",
     "text": [
      "4259909\n",
      "4518216\n",
      "5212189\n",
      "4163213\n",
      "4534740\n",
      "6104232\n",
      "9711962\n",
      "7161882\n",
      "5321100\n",
      "9667244\n",
      "8401501\n",
      "7747826\n",
      "1711643\n",
      "8690716\n",
      "5765524\n",
      "8881421\n",
      "3333311\n",
      "7124071\n",
      "5093245\n",
      "8082156\n",
      "1770280\n",
      "7367161\n",
      "5225880\n",
      "1745670\n",
      "2318062\n",
      "5696911\n",
      "8956209\n",
      "1594767\n",
      "2063678\n",
      "1893736\n",
      "3295603\n",
      "2824977\n",
      "1308891\n",
      "4690738\n",
      "9846212\n",
      "4938894\n",
      "3714230\n",
      "7243014\n",
      "7450799\n",
      "9794436\n",
      "2806560\n",
      "1346922\n",
      "9478029\n",
      "9015229\n",
      "7347195\n",
      "8409367\n",
      "6939332\n",
      "2360281\n",
      "3551872\n",
      "4861410\n",
      "8648483\n",
      "8898656\n",
      "8926663\n",
      "3497098\n",
      "9343864\n",
      "1832502\n",
      "3547146\n",
      "3492636\n",
      "8227863\n",
      "7565975\n",
      "7548505\n",
      "7797890\n",
      "8930745\n",
      "8776428\n",
      "1365003\n",
      "8658303\n",
      "8919607\n",
      "6649181\n",
      "4841262\n",
      "8160173\n",
      "8904518\n",
      "5632365\n",
      "1013122\n",
      "2414908\n",
      "9893244\n",
      "4139398\n",
      "9896583\n",
      "9188132\n",
      "9797381\n",
      "9133385\n",
      "6872553\n",
      "6043284\n",
      "2758822\n",
      "9172805\n",
      "1298109\n",
      "4865719\n",
      "9721228\n",
      "5098329\n",
      "1601380\n",
      "8933576\n",
      "5216395\n",
      "3974597\n",
      "2276595\n",
      "6492545\n",
      "7886667\n",
      "7073526\n",
      "1955024\n",
      "7233009\n",
      "8164392\n",
      "9173785\n"
     ]
    }
   ],
   "source": [
    "import random\n",
    "\n",
    "result = set()\n",
    "\n",
    "while not len(result) == 100:\n",
    "    temp = random.randint(1000000, 9999999)\n",
    "    result = (*result, str(temp))\n",
    "    \n",
    "res = tuple(result)\n",
    "\n",
    "for i in range(100):\n",
    "    print(res[i])"
   ]
  },
  {
   "cell_type": "markdown",
   "id": "f8a305d9",
   "metadata": {},
   "source": [
    "# 9. \n",
    "Анаграмма – это слово образованное путём перестановки букв, составляющих другое слово.\n",
    "\n",
    "Например, слова пила и липа или пост и стоп – анаграммы.\n",
    "\n",
    "Напишите программу, которая считывает одно слово и выводит с помощью модуля random его случайную анаграмму.\n",
    "\n",
    "<strong> Примечание. </strong> Обратите внимание на то, что метод shuffle() работает со списком, а не со строкой."
   ]
  },
  {
   "cell_type": "code",
   "execution_count": 59,
   "id": "84962896",
   "metadata": {},
   "outputs": [
    {
     "name": "stdout",
     "output_type": "stream",
     "text": [
      "asdfgh\n",
      "adgsfh\n"
     ]
    }
   ],
   "source": [
    "import random\n",
    "n = list(input())\n",
    "random.shuffle(n)\n",
    "n = ''.join(n)\n",
    "print(n)"
   ]
  },
  {
   "cell_type": "markdown",
   "id": "d25b7354",
   "metadata": {},
   "source": [
    "# 10. \n",
    "Для игры в бинго требуется карточка размером  5 × 5, содержащая различные (уникальные) целые числа от 1 до 75 (включительно), при этом центральная клетка является пустой (она заполняется числом 0).\n",
    "\n",
    "Напишите программу, которая с помощью модуля random генерирует и выводит случайную карточку для игры в бинго.\n",
    "\n",
    "<strong> Примечание. </strong> Для наглядности рекомендуем отводить на вывод каждого числа ровно 3 символа. Для этого используйте строковый метод ljust()."
   ]
  },
  {
   "cell_type": "code",
   "execution_count": 17,
   "id": "1a599367",
   "metadata": {},
   "outputs": [
    {
     "name": "stdout",
     "output_type": "stream",
     "text": [
      "3  10 11 12 13 \n",
      "14 22 26 27 28 \n",
      "32 35 0  46 48 \n",
      "51 55 56 58 60 \n",
      "65 68 69 71 74 \n"
     ]
    }
   ],
   "source": [
    "import random\n",
    "\n",
    "s = set()\n",
    "\n",
    "while not len(s) == 25:\n",
    "    s.add(random.randint(1, 75))\n",
    "\n",
    "lis = list(s)\n",
    "lis[12] = 0\n",
    "\n",
    "matrix = [lis[x:x+5] for x in range(0, 25, 5)]\n",
    "\n",
    "for n in range(5):\n",
    "    for m in range(5):\n",
    "        print(str(matrix[n][m]).ljust(3), end='')\n",
    "    print()"
   ]
  },
  {
   "cell_type": "markdown",
   "id": "8a30c311",
   "metadata": {},
   "source": [
    "# 11. Тайный друг 🌶️\n",
    "Напишите программу, которая случайным образом назначает каждому ученику его тайного друга, который будет вместе с ним решать задачи по программированию.\n",
    "\n",
    "#### Формат входных данных\n",
    "На вход программе в первой строке подается число n – общее количество учеников. Далее идут n строк, содержащих имена и фамилии учеников.\n",
    "\n",
    "#### Формат выходных данных\n",
    "Программа должна вывести имя и фамилию ученика (в соответствии с исходным порядком) и имя и фамилию его тайного друга, разделённые дефисом.\n",
    "\n",
    "<strong> Примечание. </strong> Обратите внимание, что нельзя быть тайным другом самому себе и нельзя быть тайным другом для нескольких учеников."
   ]
  },
  {
   "cell_type": "code",
   "execution_count": 2,
   "id": "f4bf9d56",
   "metadata": {},
   "outputs": [
    {
     "name": "stdout",
     "output_type": "stream",
     "text": [
      "5\n",
      "Владимир Смолов\n",
      "Тагир Хан\n",
      "Давид Лавров\n",
      "Арина Приходько\n",
      "Глеб Анисимов\n",
      "Владимир Смолов - Тагир Хан\n",
      "Тагир Хан - Арина Приходько\n",
      "Давид Лавров - Глеб Анисимов\n",
      "Арина Приходько - Давид Лавров\n",
      "Глеб Анисимов - Владимир Смолов\n"
     ]
    }
   ],
   "source": [
    "import random\n",
    "\n",
    "names1 = []\n",
    "names2 = []\n",
    "result = []\n",
    "\n",
    "for _ in range(int(input())):\n",
    "    person = str(input())\n",
    "    names1.append(person)\n",
    "    names2.append(person)\n",
    "\n",
    "for n1 in names1:\n",
    "    f = n1 in names2\n",
    "    if f:\n",
    "        names2.remove(n1)\n",
    "        \n",
    "    if not names2:\n",
    "        prev = result[-1]\n",
    "        result.remove(prev)\n",
    "        result.append(prev.split(' - ')[0] + \" - \" + n1)\n",
    "        result.append(n1 + \" - \" + prev.split(' - ')[1])\n",
    "    else:\n",
    "        n2 = random.choice(names2)\n",
    "        couple = n1 + ' - ' + n2\n",
    "        result.append(couple)\n",
    "        names2.remove(n2)\n",
    "        if f:\n",
    "            names2.append(n1)\n",
    "\n",
    "print(*result, sep='\\n')"
   ]
  },
  {
   "cell_type": "markdown",
   "id": "3a04f9b8",
   "metadata": {},
   "source": [
    "# 12. Генератор паролей 1\n",
    "Напишите программу, которая с помощью модуля random генерирует n паролей длиной m символов, состоящих из строчных и прописных английских букв и цифр, кроме тех, которые легко перепутать между собой:\n",
    "\n",
    "- «l» (L маленькое);\n",
    "- «I» (i большое);\n",
    "- «1» (цифра);\n",
    "- «o» и «O» (большая и маленькая буквы);\n",
    "- «0» (цифра).\n",
    "\n",
    "#### Формат входных данных\n",
    "\n",
    "На вход программе подаются два числа n и m, каждое на отдельной строке.\n",
    "\n",
    "#### Формат выходных данных\n",
    "Программа должна вывести n паролей длиной m символов в соответствии с условием задачи, каждый на отдельной строке.\n",
    "\n",
    "<strong> Примечание 1. </strong> Считать, что числа n и m всегда таковы, что требуемые пароли сгенерировать возможно.\n",
    "\n",
    "<strong> Примечание 2. </strong> В каждом пароле необязательно должна присутствовать хотя бы одна цифра и буква в верхнем и нижнем регистре.\n",
    "\n",
    "<strong> Примечание 3. </strong> Решение задачи удобно оформить в виде двух вспомогательных функций:\n",
    "\n",
    "- функция generate_password(length) – возвращает случайный пароль длиной length символов;\n",
    "- функция generate_passwords(count, length) – возвращает список, состоящий из count случайных паролей длиной length символов.\n"
   ]
  },
  {
   "cell_type": "code",
   "execution_count": 9,
   "id": "7fa66436",
   "metadata": {},
   "outputs": [
    {
     "name": "stdout",
     "output_type": "stream",
     "text": [
      "6\n",
      "8\n",
      "yQAVa6Sj\n",
      "GUiXJa6d\n",
      "LJUvAzAF\n",
      "HhxVqNeV\n",
      "5MHrrmH8\n",
      "yrDFeyeP\n"
     ]
    }
   ],
   "source": [
    "import random\n",
    "import string\n",
    "\n",
    "\n",
    "def generate_password(length):\n",
    "    \n",
    "    letters = list(string.ascii_letters) + list(string.digits)\n",
    "    remove = ['l', 'I', '1', 'o', 'O', '0']\n",
    "    \n",
    "    for char in remove:\n",
    "        letters.remove(char)\n",
    "\n",
    "    password = ''\n",
    "    \n",
    "    for i in range(length):\n",
    "         password += random.choice(letters)\n",
    "            \n",
    "    return password\n",
    "\n",
    "\n",
    "def generate_passwords(count, length):\n",
    "    \n",
    "    passwords = []\n",
    "    for i in range(count):\n",
    "        passwords.append(generate_password(length))\n",
    "        \n",
    "    return passwords\n",
    "\n",
    "n, m = int(input()), int(input())\n",
    "\n",
    "print(*generate_passwords(n, m), sep='\\n')"
   ]
  },
  {
   "cell_type": "markdown",
   "id": "d41f072b",
   "metadata": {},
   "source": [
    "# 13. Генератор паролей 2 🌶️\n",
    "Напишите программу, которая с помощью модуля random генерирует n паролей длиной m символов, состоящих из строчных и прописных английских букв и цифр, кроме тех, которые легко перепутать между собой:\n",
    "\n",
    "- «l» (L маленькое);\n",
    "- «I» (i большое);\n",
    "- «1» (цифра);\n",
    "- «o» и «O» (большая и маленькая буквы);\n",
    "- «0» (цифра).\n",
    "\n",
    "<strong> Дополнительное условие: </strong> в каждом пароле обязательно должна присутствовать хотя бы одна цифра и как минимум по одной букве в верхнем и нижнем регистре.\n",
    "\n",
    "#### Формат входных данных\n",
    "На вход программе подаются два числа n и m, каждое на отдельной строке.\n",
    "\n",
    "#### Формат выходных данных\n",
    "Программа должна вывести n паролей длиной m символов в соответствии с условием задачи, каждый на отдельной строке.\n",
    "\n",
    "<strong> Примечание 1. </strong> Считать, что числа n и m всегда таковы, что требуемые пароли сгенерировать возможно.\n",
    "\n",
    "<strong> Примечание 2. </strong> Решение задачи удобно оформить в виде двух вспомогательных функций:\n",
    "\n",
    "- функция generate_password(length) – возвращает случайный пароль длиной length символов;\n",
    "- функция generate_passwords(count, length) – возвращает список, состоящий из count случайных паролей длиной length символов."
   ]
  },
  {
   "cell_type": "code",
   "execution_count": 30,
   "id": "a6fa2503",
   "metadata": {},
   "outputs": [
    {
     "name": "stdout",
     "output_type": "stream",
     "text": [
      "6\n",
      "9\n",
      "mK3Em9Mj4\n",
      "67jDzBd7d\n",
      "5XzHSNHH7\n",
      "pyJ35d5nv\n",
      "PqEdR3p4a\n",
      "qP6v7hy9B\n"
     ]
    }
   ],
   "source": [
    "import random\n",
    "import string\n",
    "\n",
    "\n",
    "def generate_password(length):\n",
    "    \n",
    "    letters_upper = list(string.ascii_uppercase)\n",
    "    letters_lower = list(string.ascii_lowercase)\n",
    "    numbers = list(string.digits)\n",
    "    remove = ['l', 'I', '1', 'o', 'O', '0']\n",
    "    \n",
    "    for char in remove:\n",
    "        if char in letters_upper:\n",
    "            letters_upper.remove(char)\n",
    "        elif char in letters_lower:\n",
    "            letters_lower.remove(char)\n",
    "        elif char in numbers:\n",
    "            numbers.remove(char)\n",
    "    \n",
    "    password = []\n",
    "    \n",
    "    password += random.choice(letters_upper) + random.choice(letters_lower) + random.choice(numbers)\n",
    "    \n",
    "    for _ in range(length - 3):\n",
    "        choice = random.choice(['upper', 'lower', 'number'])\n",
    "        if  choice == 'upper':\n",
    "            password.append(random.choice(letters_upper))\n",
    "        elif choice == 'lower':\n",
    "            password.append(random.choice(letters_lower))\n",
    "        elif choice == 'number':\n",
    "            password.append(random.choice(numbers))\n",
    "    \n",
    "    random.shuffle(password)\n",
    "    \n",
    "    return ''.join(password)\n",
    "\n",
    "\n",
    "\n",
    "\n",
    "def generate_passwords(count, length):\n",
    "    \n",
    "    passwords = []\n",
    "    for i in range(count):\n",
    "        passwords.append(generate_password(length))\n",
    "        \n",
    "    return passwords\n",
    "\n",
    "\n",
    "\n",
    "n, m = int(input()), int(input())\n",
    "\n",
    "print(*generate_passwords(n, m), sep='\\n')"
   ]
  },
  {
   "cell_type": "markdown",
   "id": "5a4e40e9",
   "metadata": {},
   "source": [
    ":)"
   ]
  },
  {
   "cell_type": "code",
   "execution_count": 32,
   "id": "5ba9cdc6",
   "metadata": {},
   "outputs": [],
   "source": [
    "from turtle import *\n",
    "color('red')\n",
    "begin_fill()\n",
    "pensize(3)\n",
    "left(50)\n",
    "forward(133)\n",
    "circle(50, 200)\n",
    "right(140)\n",
    "circle(50, 200)\n",
    "forward(133)\n",
    "end_fill()"
   ]
  },
  {
   "cell_type": "markdown",
   "id": "68987560",
   "metadata": {},
   "source": [
    "# 14. \n",
    "Напишите программу, которая при помощи метода Монте-Карло вычисляет площадь фигуры, задаваемой с помощью системы неравенств:\n",
    "  \n",
    "−2 ≤ x ≤ 2\n",
    "\n",
    "−2 ≤ y ≤ 2\n",
    "\n",
    "x^3 + y^4 + 2 ≥ 0\n",
    "\n",
    "3*x +y^2 ≤ 2"
   ]
  },
  {
   "cell_type": "code",
   "execution_count": 2,
   "id": "2d962e2a",
   "metadata": {},
   "outputs": [
    {
     "name": "stdout",
     "output_type": "stream",
     "text": [
      "7.137936\n"
     ]
    }
   ],
   "source": [
    "import random\n",
    "\n",
    "n = 10**6\n",
    "k = 0\n",
    "s0 = 16\n",
    "\n",
    "for _ in range(n):\n",
    "    x = random.uniform(-2, 2)\n",
    "    y = random.uniform(-2, 2)\n",
    "\n",
    "    if x**3 + y**4 + 2 >= 0 and 3*x + y**2 <= 2:\n",
    "        k += 1\n",
    "\n",
    "print((k/n)*s0)"
   ]
  },
  {
   "cell_type": "markdown",
   "id": "521087ff",
   "metadata": {},
   "source": [
    "# 15. \n",
    "Напишите программу, которая при помощи метода Монте-Карло определяет приближённое значение числа π.\n",
    "\n",
    "<strong> Примечание 1. </strong> Площадь единичного круга, то есть круга с радиусом, равным R = 1 равна S = π * R^2 = π.\n",
    "\n",
    "<strong> Примечание 2. </strong> Уравнение единичной окружности имеет вид x^2 + y^2 = 1."
   ]
  },
  {
   "cell_type": "code",
   "execution_count": 7,
   "id": "32355434",
   "metadata": {},
   "outputs": [
    {
     "name": "stdout",
     "output_type": "stream",
     "text": [
      "3.142152\n"
     ]
    }
   ],
   "source": [
    "import random\n",
    "\n",
    "n = 10**6\n",
    "\n",
    "k = 0\n",
    "s0 = 4\n",
    "\n",
    "for _ in range(n):\n",
    "    x = random.uniform(-1, 1)\n",
    "    y = random.uniform(-1, 1)\n",
    "\n",
    "    if x**2 + y**2 <= 1:\n",
    "        k += 1\n",
    "\n",
    "print((k/n)*s0)"
   ]
  }
 ],
 "metadata": {
  "kernelspec": {
   "display_name": "Python 3 (ipykernel)",
   "language": "python",
   "name": "python3"
  },
  "language_info": {
   "codemirror_mode": {
    "name": "ipython",
    "version": 3
   },
   "file_extension": ".py",
   "mimetype": "text/x-python",
   "name": "python",
   "nbconvert_exporter": "python",
   "pygments_lexer": "ipython3",
   "version": "3.9.12"
  }
 },
 "nbformat": 4,
 "nbformat_minor": 5
}
