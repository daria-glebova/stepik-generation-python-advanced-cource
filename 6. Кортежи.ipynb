{
 "cells": [
  {
   "cell_type": "markdown",
   "id": "45499329",
   "metadata": {},
   "source": [
    "# 1. \n",
    "Дополните приведенный код, используя индексацию кортежа, чтобы переменная last, содержала последний элемент кортежа countries."
   ]
  },
  {
   "cell_type": "code",
   "execution_count": 1,
   "id": "a94ba03e",
   "metadata": {},
   "outputs": [
    {
     "name": "stdout",
     "output_type": "stream",
     "text": [
      "Italy\n"
     ]
    }
   ],
   "source": [
    "countries = ('Russia', 'Argentina', 'Spain', 'Slovakia', 'Canada', 'Slovenia', 'Italy')\n",
    "last = countries[-1]\n",
    "print(last)"
   ]
  },
  {
   "cell_type": "markdown",
   "id": "55365e75",
   "metadata": {},
   "source": [
    "# 2.\n",
    "Дополните приведенный код, используя срезы, так чтобы он вывел первые 6 элементов кортежа primes.\n",
    "\n",
    "Примечание. Результатом вывода должна быть строка (2, 3, 5, 7, 11, 13)."
   ]
  },
  {
   "cell_type": "code",
   "execution_count": 2,
   "id": "2e21c1ba",
   "metadata": {},
   "outputs": [
    {
     "name": "stdout",
     "output_type": "stream",
     "text": [
      "(2, 3, 5, 7, 11, 13)\n"
     ]
    }
   ],
   "source": [
    "primes = (2, 3, 5, 7, 11, 13, 17, 19, 23, 29, 31, 37, 41, 43, 47, 53, 59, 61, 67, 71) \n",
    "print(primes[0:6])"
   ]
  },
  {
   "cell_type": "markdown",
   "id": "872b2193",
   "metadata": {},
   "source": [
    "# 3. \n",
    "Дополните приведенный код, используя срезы, так чтобы он вывел элементы кортежа countries, кроме первых двух.\n",
    "\n",
    "Примечание. Результатом вывода должна быть строка ('Slovakia', 'Canada', 'Slovenia', 'Italy', 'Spain', 'Ukraine', 'Chile', 'Cameroon')."
   ]
  },
  {
   "cell_type": "code",
   "execution_count": 3,
   "id": "80f09aeb",
   "metadata": {},
   "outputs": [
    {
     "name": "stdout",
     "output_type": "stream",
     "text": [
      "('Slovakia', 'Canada', 'Slovenia', 'Italy', 'Spain', 'Ukraine', 'Chile', 'Cameroon')\n"
     ]
    }
   ],
   "source": [
    "countries = ('Russia', 'Argentina', 'Slovakia', 'Canada', 'Slovenia', 'Italy', 'Spain', 'Ukraine', 'Chile', 'Cameroon')\n",
    "print(countries[2:])"
   ]
  },
  {
   "cell_type": "markdown",
   "id": "647b69b1",
   "metadata": {},
   "source": [
    "# 4. \n",
    "Дополните приведенный код, используя срезы, чтобы он вывел все элементы кортежа countries, кроме последних трех."
   ]
  },
  {
   "cell_type": "code",
   "execution_count": 5,
   "id": "eee776b3",
   "metadata": {},
   "outputs": [
    {
     "name": "stdout",
     "output_type": "stream",
     "text": [
      "('Russia', 'Argentina', 'Slovakia', 'Canada', 'Slovenia', 'Italy', 'Spain')\n"
     ]
    }
   ],
   "source": [
    "countries = ('Russia', 'Argentina', 'Slovakia', 'Canada', 'Slovenia', 'Italy', 'Spain', 'Ukraine', 'Chile', 'Cameroon')\n",
    "print(countries[:-3])"
   ]
  },
  {
   "cell_type": "markdown",
   "id": "931b5d81",
   "metadata": {},
   "source": [
    "# 5.\n",
    "Дополните приведенный код, используя срезы, чтобы он вывел все элементы кортежа countries, кроме двух последних и трех первых."
   ]
  },
  {
   "cell_type": "code",
   "execution_count": 6,
   "id": "34f74f9b",
   "metadata": {},
   "outputs": [
    {
     "name": "stdout",
     "output_type": "stream",
     "text": [
      "('Canada', 'Slovenia', 'Italy', 'Spain', 'Ukraine')\n"
     ]
    }
   ],
   "source": [
    "countries = ('Russia', 'Argentina', 'Slovakia', 'Canada', 'Slovenia', 'Italy', 'Spain', 'Ukraine', 'Chile', 'Cameroon')\n",
    "print(countries[3:-2])"
   ]
  },
  {
   "cell_type": "markdown",
   "id": "f9190120",
   "metadata": {},
   "source": [
    "# 6.\n",
    "Дополните приведенный код так, чтобы переменная number содержала количество элементов кортежа countries."
   ]
  },
  {
   "cell_type": "code",
   "execution_count": 7,
   "id": "b75db785",
   "metadata": {},
   "outputs": [
    {
     "name": "stdout",
     "output_type": "stream",
     "text": [
      "7\n"
     ]
    }
   ],
   "source": [
    "countries = ('Romania', 'Poland', 'Estonia', 'Bulgaria', 'Slovakia', 'Slovenia', 'Hungary')\n",
    "number = len(countries)\n",
    "print(number)"
   ]
  },
  {
   "cell_type": "markdown",
   "id": "3bcf5e33",
   "metadata": {},
   "source": [
    "# 7. \n",
    "Дополните приведенный код так, чтобы он вывел сумму минимального и максимального элементов кортежа numbers."
   ]
  },
  {
   "cell_type": "code",
   "execution_count": 8,
   "id": "df22718b",
   "metadata": {},
   "outputs": [
    {
     "name": "stdout",
     "output_type": "stream",
     "text": [
      "13.6618\n"
     ]
    }
   ],
   "source": [
    "numbers = (12.5, 3.1415, 2.718, 9.8, 1.414, 1.1618, 1.324)\n",
    "\n",
    "print(min(numbers) + max(numbers))"
   ]
  },
  {
   "cell_type": "markdown",
   "id": "412cdec8",
   "metadata": {},
   "source": [
    "# 8.\n",
    "Дополните приведенный код так, чтобы переменная index содержала индекс элемента «Slovenia» в кортеже countries."
   ]
  },
  {
   "cell_type": "code",
   "execution_count": 9,
   "id": "6fe72388",
   "metadata": {},
   "outputs": [
    {
     "name": "stdout",
     "output_type": "stream",
     "text": [
      "5\n"
     ]
    }
   ],
   "source": [
    "countries = ('Russia', 'Argentina', 'Spain', 'Slovakia', 'Canada', 'Slovenia', 'Italy')\n",
    "index = countries.index('Slovenia')\n",
    "print(index)"
   ]
  },
  {
   "cell_type": "markdown",
   "id": "b428a077",
   "metadata": {},
   "source": [
    "# 9.\n",
    "Дополните приведенный код так, чтобы переменная number, содержала количество вхождений «Spain» в кортеж countries."
   ]
  },
  {
   "cell_type": "code",
   "execution_count": 11,
   "id": "077319ea",
   "metadata": {},
   "outputs": [
    {
     "name": "stdout",
     "output_type": "stream",
     "text": [
      "3\n"
     ]
    }
   ],
   "source": [
    "countries = ('Russia', 'Argentina', 'Spain', 'Slovakia', 'Canada', 'Slovenia', 'Italy', 'Spain', 'Ukraine', 'Chile', 'Spain', 'Cameroon')\n",
    "number = countries.count('Spain')\n",
    "print(number)"
   ]
  },
  {
   "cell_type": "markdown",
   "id": "f1e86b90",
   "metadata": {},
   "source": [
    "# 10.\n",
    "Дополните приведенный код, используя операторы конкатенации (+) и умножения кортежа на число (*), чтобы он вывел кортеж:\n",
    "\n",
    "(1, 2, 3, 1, 2, 3, 6, 6, 6, 6, 6, 6, 6, 6, 6, 7, 8, 9, 10, 11, 12, 13)."
   ]
  },
  {
   "cell_type": "code",
   "execution_count": 12,
   "id": "678e57ae",
   "metadata": {},
   "outputs": [
    {
     "name": "stdout",
     "output_type": "stream",
     "text": [
      "(1, 2, 3, 1, 2, 3, 6, 6, 6, 6, 6, 6, 6, 6, 6, 7, 8, 9, 10, 11, 12, 13)\n"
     ]
    }
   ],
   "source": [
    "numbers1 = (1, 2, 3)\n",
    "numbers2 = (6,)\n",
    "numbers3 = (7, 8, 9, 10, 11, 12, 13)\n",
    "\n",
    "print(numbers1 * 2 + numbers2 * 9 + numbers3)"
   ]
  },
  {
   "cell_type": "markdown",
   "id": "37939084",
   "metadata": {},
   "source": [
    "# 11.\n",
    "В переменную city_name вводится название города (например, Москва), а в переменную city_year – год его основания (например, 1147). Заполните пропущенную строку таким образом, чтобы в переменной city оказался кортеж из значений этих двух переменных (сначала название города, затем год основания)."
   ]
  },
  {
   "cell_type": "code",
   "execution_count": 13,
   "id": "2030e149",
   "metadata": {},
   "outputs": [
    {
     "name": "stdout",
     "output_type": "stream",
     "text": [
      "Волжск\n",
      "3022\n",
      "('Волжск', 3022)\n"
     ]
    }
   ],
   "source": [
    "city_name = input()\n",
    "city_year = int(input())\n",
    "city = (city_name, city_year)\n",
    "print(city)"
   ]
  },
  {
   "cell_type": "markdown",
   "id": "669049db",
   "metadata": {},
   "source": [
    "# 12. \n",
    "Дополните приведенный код, так чтобы получить список, содержащий только непустые кортежи исходного списка tuples, не меняя порядка их следования."
   ]
  },
  {
   "cell_type": "code",
   "execution_count": 14,
   "id": "0d99885d",
   "metadata": {},
   "outputs": [
    {
     "name": "stdout",
     "output_type": "stream",
     "text": [
      "[('',), ('a', 'b'), ('a', 'b', 'c'), (1,), ('d',), ('', '')]\n"
     ]
    }
   ],
   "source": [
    "tuples = [(), (), ('',), ('a', 'b'), (), ('a', 'b', 'c'), (1,), (), (), ('d',), ('', ''), ()]\n",
    "non_empty_tuples = [t for t in tuples if len(t) > 0]\n",
    "\n",
    "print(non_empty_tuples)"
   ]
  },
  {
   "cell_type": "markdown",
   "id": "7b4af00d",
   "metadata": {},
   "source": [
    "# 13.\n",
    "Дополните приведенный код так, чтобы переменная new_tuples, содержала список кортежей на основе списка tuples с последним элементом каждого кортежа, замененным на численное значение 100."
   ]
  },
  {
   "cell_type": "code",
   "execution_count": 15,
   "id": "b130df80",
   "metadata": {},
   "outputs": [
    {
     "name": "stdout",
     "output_type": "stream",
     "text": [
      "[(10, 20, 100), (40, 50, 100), (70, 80, 100), (10, 100), (1, 2, 3, 100), (5, 6, 10, 2, 1, 100)]\n"
     ]
    }
   ],
   "source": [
    "tuples = [(10, 20, 40), (40, 50, 60), (70, 80, 90), (10, 90), (1, 2, 3, 4), (5, 6, 10, 2, 1, 77)]\n",
    "new_tuples = [t[:-1]+(100,) for t in tuples]\n",
    "print(new_tuples)"
   ]
  },
  {
   "cell_type": "markdown",
   "id": "c78a1c22",
   "metadata": {},
   "source": [
    "# 14. \n",
    "Дополните приведенный код так, чтобы он вывел произведение элементов кортежа numbers."
   ]
  },
  {
   "cell_type": "code",
   "execution_count": 16,
   "id": "96f37aec",
   "metadata": {},
   "outputs": [
    {
     "name": "stdout",
     "output_type": "stream",
     "text": [
      "129638530920927229333292160000\n"
     ]
    }
   ],
   "source": [
    "numbers = (2, 3, 5, 7, -11, 13, 17, 19, 23, 29, 31, -6, 41, 43, 47, 53, 59, 61, -96, 71, 1000, -1)\n",
    "total = 1\n",
    "\n",
    "for i in range(len(numbers)):\n",
    "    total = total * numbers[i]\n",
    "    \n",
    "print(total)"
   ]
  },
  {
   "cell_type": "markdown",
   "id": "48bf1a22",
   "metadata": {},
   "source": [
    "# 15.\n",
    "Дополните приведенный код так, чтобы он преобразовал строку в кортеж символов строки и вывел результат."
   ]
  },
  {
   "cell_type": "code",
   "execution_count": 17,
   "id": "489ba11a",
   "metadata": {},
   "outputs": [
    {
     "name": "stdout",
     "output_type": "stream",
     "text": [
      "('P', 'y', 't', 'h', 'o', 'n', ' ', 'д', 'л', 'я', ' ', 'п', 'р', 'о', 'д', 'в', 'и', 'н', 'у', 'т', 'ы', 'х', '!')\n"
     ]
    }
   ],
   "source": [
    "data = 'Python для продвинутых!'\n",
    "\n",
    "print(tuple(data))"
   ]
  },
  {
   "cell_type": "markdown",
   "id": "fbefb049",
   "metadata": {},
   "source": [
    "# 16. \n",
    "Программист Тимур написал программу для работы с биографическими данными русских поэтов. Данные содержатся в кортежах вида (фамилия, год рождения, город рождения). В процессе работы программы в некотором кортеже poet_data обнаружилась ошибка: ('Пушкин', 1799, 'Санкт-Петербург'), неверно указано место рождения, ведь Александр Пушкин родился в Москве.\n",
    "\n",
    "Дополните приведенный код так, чтобы в переменной poet_data находился правильный кортеж (с исправленным значением), а затем выведите его содержимое."
   ]
  },
  {
   "cell_type": "code",
   "execution_count": 18,
   "id": "7f727f05",
   "metadata": {},
   "outputs": [
    {
     "name": "stdout",
     "output_type": "stream",
     "text": [
      "('Пушкин', 1799, 'Москва')\n"
     ]
    }
   ],
   "source": [
    "poet_data = ('Пушкин', 1799, 'Санкт-Петербург')\n",
    "\n",
    "poet_data = list(poet_data)\n",
    "poet_data[2] = 'Москва'\n",
    "poet_data = tuple(poet_data)\n",
    "\n",
    "print(poet_data)"
   ]
  },
  {
   "cell_type": "markdown",
   "id": "3ee6e032",
   "metadata": {},
   "source": [
    "# 17.\n",
    "Дополните приведенный код так, чтобы он вывел список, содержащий средние арифметические значения чисел каждого вложенного кортежа в заданном кортеже кортежей numbers."
   ]
  },
  {
   "cell_type": "code",
   "execution_count": 19,
   "id": "0a975a3e",
   "metadata": {},
   "outputs": [
    {
     "name": "stdout",
     "output_type": "stream",
     "text": [
      "[10.5, 44.0, 58.0, 2.5, 50.0]\n"
     ]
    }
   ],
   "source": [
    "numbers = ((10, 10, 10, 12), (30, 45, 56, 45), (81, 80, 39, 32), (1, 2, 3, 4), (90, 10))\n",
    "avg = []\n",
    "for i in range(len(numbers)):\n",
    "    a = sum(list(numbers[i])) / len(list(numbers[i]))\n",
    "    avg.append(a)\n",
    "    \n",
    "print(avg)"
   ]
  },
  {
   "cell_type": "markdown",
   "id": "c40d5186",
   "metadata": {},
   "source": [
    "# 18. Вершина параболы\n",
    "Уравнение параболы имеет вид y = ax^2 + bx + c, где a =/= 0. Напишите программу, которая по введенным значениям a, b, c определяет и выводит вершину параболы.\n",
    "\n",
    "#### Формат входных данных\n",
    "На вход программе подаются три целых числа, каждое на отдельной строке.\n",
    "\n",
    "#### Формат выходных данных\n",
    "Программа должна вывести координаты вершины параболы.\n",
    "\n",
    "#### Примечание. \n",
    "Координаты вершины параболы y = ax^2 + bx + c имеют вид ((- b / 2*a); (4*a*c - b^2) / (4*a))"
   ]
  },
  {
   "cell_type": "code",
   "execution_count": 20,
   "id": "2f836208",
   "metadata": {},
   "outputs": [
    {
     "name": "stdout",
     "output_type": "stream",
     "text": [
      "-2\n",
      "6\n",
      "1\n",
      "(1.5, 5.5)\n"
     ]
    }
   ],
   "source": [
    "a, b, c = int(input()), int(input()), int(input())\n",
    "v1 = - (b / (2 * a))\n",
    "v2 = (4 * a * c - b**2) / (4 * a)\n",
    "\n",
    "print((v1, v2))"
   ]
  },
  {
   "cell_type": "markdown",
   "id": "39b079bd",
   "metadata": {},
   "source": [
    "# 19. Конкурсный отбор\n",
    "Напишите программу, которая выводит список хорошистов и отличников в классе.\n",
    "\n",
    "#### Формат входных данных\n",
    "На вход программе подается натуральное число n, далее следует n строк с фамилией школьника и его оценкой на каждой из них.\n",
    "\n",
    "#### Формат выходных данных\n",
    "Программа должна вывести сначала все введённые строки с фамилиями и оценками учеников в том же порядке. Затем следует пустая строка, а затем выводятся строки с фамилиями и оценками хорошистов и отличников (в том же порядке).\n",
    "\n",
    "#### Примечание 1. \n",
    "Оценка ученика – это натуральное число от 1 до 5.\n",
    "\n",
    "#### Примечание 2. \n",
    "Гарантируется, что в классе есть хотя бы один хорошист – обладатель оценки 4, или отличник – получивший 5."
   ]
  },
  {
   "cell_type": "code",
   "execution_count": 21,
   "id": "a1686476",
   "metadata": {},
   "outputs": [
    {
     "name": "stdout",
     "output_type": "stream",
     "text": [
      "3\n",
      "Гуев 3\n",
      "Чаниев 5\n",
      "Барсуков 2\n",
      "Гуев 3\n",
      "Чаниев 5\n",
      "Барсуков 2\n",
      "\n",
      "Чаниев 5\n",
      "\n"
     ]
    }
   ],
   "source": [
    "s = [tuple(input().split()) for _ in range(int(input()))]\n",
    "otl = [i for i in s if int(i[-1]) >= 4]\n",
    "\n",
    "for i in range(len(s)):\n",
    "    print(*s[i])\n",
    "print()\n",
    "for i in range(len(otl)):\n",
    "    print(*otl[i])\n",
    "print()  "
   ]
  },
  {
   "cell_type": "markdown",
   "id": "a66abeee",
   "metadata": {},
   "source": [
    "# 20. Последовательность Трибоначчи\n",
    "Напишите программу, которая считывает натуральное число n и выводит первые n чисел последовательности Трибоначчи.\n",
    "\n",
    "#### Формат входных данных\n",
    "На вход программе подается одно число n (n ≤ 100) – количество членов последовательности.\n",
    "\n",
    "#### Формат выходных данных\n",
    "Программа должна вывести члены последовательности Трибоначчи, отделенные символом пробела.\n",
    "\n",
    "#### Примечание. \n",
    "Последовательность Трибоначчи – последовательность натуральных чисел, где каждое последующее число является суммой трех предыдущих:\n",
    "1, 1, 1, 3, 5, 9, 17, 31, 57, 105"
   ]
  },
  {
   "cell_type": "code",
   "execution_count": 22,
   "id": "cae011a4",
   "metadata": {},
   "outputs": [
    {
     "name": "stdout",
     "output_type": "stream",
     "text": [
      "10\n",
      "1 1 1 3 5 9 17 31 57 105\n"
     ]
    }
   ],
   "source": [
    "n = int(input())\n",
    "f1, f2, f3 = 1, 1, 1\n",
    "res = []\n",
    "for i in range(n):\n",
    "    res.append(f1)\n",
    "    f1, f2, f3 = f2, f3, f1 + f2 + f3\n",
    "\n",
    "print(*tuple(res), sep=' ')"
   ]
  }
 ],
 "metadata": {
  "kernelspec": {
   "display_name": "Python 3 (ipykernel)",
   "language": "python",
   "name": "python3"
  },
  "language_info": {
   "codemirror_mode": {
    "name": "ipython",
    "version": 3
   },
   "file_extension": ".py",
   "mimetype": "text/x-python",
   "name": "python",
   "nbconvert_exporter": "python",
   "pygments_lexer": "ipython3",
   "version": "3.9.12"
  }
 },
 "nbformat": 4,
 "nbformat_minor": 5
}
