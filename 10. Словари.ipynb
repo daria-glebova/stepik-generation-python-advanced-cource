{
 "cells": [
  {
   "cell_type": "markdown",
   "id": "405050a3",
   "metadata": {},
   "source": [
    "# 1.\n",
    "Дополните приведенный код так, чтобы он вывел сумму минимального и максимального ключа в словаре my_dict."
   ]
  },
  {
   "cell_type": "code",
   "execution_count": 1,
   "id": "6a0c5fd6",
   "metadata": {},
   "outputs": [
    {
     "name": "stdout",
     "output_type": "stream",
     "text": [
      "99.12\n"
     ]
    }
   ],
   "source": [
    "my_dict = {1.12: 'aa', 67.9: 45, 3.11: 'ccc', 7.9: 'dd', 9.2: 'ee', 7.1: 'ff', 0.12: 'qq', 1.91: 'aa', 10.12: [1, 2, 3], 99.0: {9, 0, 1}}\n",
    "\n",
    "print(min(my_dict) + max(my_dict))"
   ]
  },
  {
   "cell_type": "markdown",
   "id": "1b2c051c",
   "metadata": {},
   "source": [
    "# 2.\n",
    "Дополните приведенный код, чтобы он вывел имена всех пользователей (в алфавитном порядке), чей номер оканчивается на 8.\n",
    "\n",
    "<strong> Примечание. </strong> Имена необходимо вывести на одной строке, разделяя символом пробела."
   ]
  },
  {
   "cell_type": "code",
   "execution_count": 2,
   "id": "21146116",
   "metadata": {},
   "outputs": [
    {
     "name": "stdout",
     "output_type": "stream",
     "text": [
      "Helga LJ Maria Riyad Ruslan\n"
     ]
    }
   ],
   "source": [
    "users = [{'name': 'Todd', 'phone': '551-1414', 'email': 'todd@gmail.com'},\n",
    "         {'name': 'Helga', 'phone': '555-1618', 'email': 'helga@mail.net'},\n",
    "         {'name': 'Olivia', 'phone': '449-3141', 'email': ''},\n",
    "         {'name': 'LJ', 'phone': '555-2718', 'email': 'lj@gmail.net'},\n",
    "         {'name': 'Ruslan', 'phone': '422-145-9098', 'email': 'rus-lan.cha@yandex.ru'},\n",
    "         {'name': 'John', 'phone': '233-421-32', 'email': ''},\n",
    "         {'name': 'Lara', 'phone': '+7998-676-2532', 'email': 'g.lara89@gmail.com'},\n",
    "         {'name': 'Alina', 'phone': '+7948-799-2434', 'email': 'ali.ch.b@gmail.com'},\n",
    "         {'name': 'Robert', 'phone': '420-2011', 'email': ''},\n",
    "         {'name': 'Riyad', 'phone': '128-8890-128', 'email': 'r.mahrez@mail.net'},\n",
    "         {'name': 'Khabib', 'phone': '+7995-600-9080', 'email': 'kh.nurmag@gmail.com'},\n",
    "         {'name': 'Olga', 'phone': '6449-314-1213', 'email': ''},\n",
    "         {'name': 'Roman', 'phone': '+7459-145-8059', 'email': 'roma988@mail.ru'},\n",
    "         {'name': 'Maria', 'phone': '12-129-3148', 'email': 'm.sharapova@gmail.com'},\n",
    "         {'name': 'Fedor', 'phone': '+7445-341-0545', 'email': ''},\n",
    "         {'name': 'Tim', 'phone': '242-449-3141', 'email': 'timm.ggg@yandex.ru'}]\n",
    "\n",
    "result = []\n",
    "for i in users:\n",
    "    if i['phone'][-1] == '8':\n",
    "        result.append(i['name'])\n",
    "\n",
    "print(*sorted(result))"
   ]
  },
  {
   "cell_type": "markdown",
   "id": "fd3f17bd",
   "metadata": {},
   "source": [
    "# 3.\n",
    "Дополните приведенный код, чтобы он вывел имена всех пользователей (в алфавитном порядке), у которых нет информации об электронной почте. \n",
    "\n",
    "<strong> Примечание 1. </strong> Ключ email может отсутствовать в словаре.\n",
    "\n",
    "<strong> Примечание 2. </strong> Имена необходимо вывести на одной строке, разделяя символом пробела."
   ]
  },
  {
   "cell_type": "code",
   "execution_count": 6,
   "id": "af741cdd",
   "metadata": {},
   "outputs": [
    {
     "name": "stdout",
     "output_type": "stream",
     "text": [
      "Alina Fedor Helga John Olga Olivia Robert Roman\n"
     ]
    }
   ],
   "source": [
    "users = [{'name': 'Todd', 'phone': '551-1414', 'email': 'todd@gmail.com'},\n",
    "         {'name': 'Helga', 'phone': '555-1618'},\n",
    "         {'name': 'Olivia', 'phone': '449-3141', 'email': ''},\n",
    "         {'name': 'LJ', 'phone': '555-2718', 'email': 'lj@gmail.net'},\n",
    "         {'name': 'Ruslan', 'phone': '422-145-9098', 'email': 'rus-lan.cha@yandex.ru'},\n",
    "         {'name': 'John', 'phone': '233-421-32', 'email': ''},\n",
    "         {'name': 'Lara', 'phone': '+7998-676-2532', 'email': 'g.lara89@gmail.com'},\n",
    "         {'name': 'Alina', 'phone': '+7948-799-2434'},\n",
    "         {'name': 'Robert', 'phone': '420-2011', 'email': ''},\n",
    "         {'name': 'Riyad', 'phone': '128-8890-128', 'email': 'r.mahrez@mail.net'},\n",
    "         {'name': 'Khabib', 'phone': '+7995-600-9080', 'email': 'kh.nurmag@gmail.com'},\n",
    "         {'name': 'Olga', 'phone': '6449-314-1213', 'email': ''},\n",
    "         {'name': 'Roman', 'phone': '+7459-145-8059'},\n",
    "         {'name': 'Maria', 'phone': '12-129-3148', 'email': 'm.sharapova@gmail.com'},\n",
    "         {'name': 'Fedor', 'phone': '+7445-341-0545', 'email': ''},\n",
    "         {'name': 'Tim', 'phone': '242-449-3141', 'email': 'timm.ggg@yandex.ru'}]\n",
    "\n",
    "result = []\n",
    "\n",
    "for i in users:\n",
    "    if 'email' in i:\n",
    "        if i['email'] == '':\n",
    "            result.append(i['name'])\n",
    "    else:\n",
    "        result.append(i['name'])\n",
    "\n",
    "print(*sorted(result))"
   ]
  },
  {
   "cell_type": "markdown",
   "id": "30cdfc36",
   "metadata": {},
   "source": [
    "# 4. Строковое представление\n",
    "Напишите программу, которая будет превращать натуральное число в строку, заменяя все цифры в числе на слова:\n",
    "\n",
    "- 0 на zero;\n",
    "- 1 на one;\n",
    "- 2 на two;\n",
    "- 3 на three;\n",
    "- 4 на four;\n",
    "- 5 на five;\n",
    "- 6 на six;\n",
    "- 7 на seven;\n",
    "- 8 на eight;\n",
    "- 9 на nine.\n",
    "\n",
    "#### Формат входных данных\n",
    "На вход программе подается натуральное число.\n",
    "\n",
    "#### Формат выходных данных\n",
    "Программа должна вывести строковое представление числа.\n",
    "\n",
    "<strong> Примечание. </strong> Используйте словарь вместо условного оператора."
   ]
  },
  {
   "cell_type": "code",
   "execution_count": 8,
   "id": "a32fba1d",
   "metadata": {},
   "outputs": [
    {
     "name": "stdout",
     "output_type": "stream",
     "text": [
      "230\n",
      "two three zero\n"
     ]
    }
   ],
   "source": [
    "my_dict = {\"0\": \"zero\",\n",
    "           \"1\": \"one\",\n",
    "           \"2\": \"two\",\n",
    "           \"3\": \"three\",\n",
    "           \"4\": \"four\",\n",
    "           \"5\": \"five\",\n",
    "           \"6\": \"six\",\n",
    "           \"7\": \"seven\",\n",
    "           \"8\": \"eight\",\n",
    "           \"9\": \"nine\"}\n",
    "\n",
    "my_list = [i for i in input()]\n",
    "result = []\n",
    "\n",
    "for num in my_list:\n",
    "    result.append(my_dict[num])\n",
    "\n",
    "print(*result)"
   ]
  },
  {
   "cell_type": "markdown",
   "id": "3f0843ed",
   "metadata": {},
   "source": [
    "# 5. Информация об учебных курсах\n",
    "Напишите программу, которая по номеру курса выводит информацию о данном курсе. \n",
    "\n",
    "#### Формат входных данных\n",
    "На вход программе подается одна строка – номер курса.\n",
    "\n",
    "#### Формат выходных данных\n",
    "Программа должна вывести номер курса, затем номер аудитории, имя преподавателя и время проведения курса в соответствии с примерами.\n",
    "\n",
    "<strong> Примечание 1. </strong> Используйте словарь вместо условного оператора.\n",
    "\n",
    "<strong> Примечание 2. </strong> Для удобного вывода используйте строковый метод format() или f-строки."
   ]
  },
  {
   "cell_type": "code",
   "execution_count": 9,
   "id": "ad523eaf",
   "metadata": {},
   "outputs": [
    {
     "name": "stdout",
     "output_type": "stream",
     "text": [
      "CS102\n",
      "CS102: 4501, Альварадо, 9:00\n"
     ]
    }
   ],
   "source": [
    "my_dict = d = {\"CS101\": \"3004, Хайнс, 8:00\",\n",
    "               \"CS102\": \"4501, Альварадо, 9:00\",\n",
    "               \"CS103\": \"6755, Рич, 10:00\",\n",
    "               \"NT110\": \"1244, Берк, 11:00\",\n",
    "               \"CM241\": \"1411, Ли, 13:00\"}\n",
    "Key = input()\n",
    "print('{}: {}'.format(Key, my_dict[Key]))"
   ]
  },
  {
   "cell_type": "markdown",
   "id": "87298ef1",
   "metadata": {},
   "source": [
    "# 6. Набор сообщений\n",
    "На мобильных кнопочных телефонах текстовые сообщения можно отправлять с помощью цифровой клавиатуры. Поскольку с каждой клавишей связано несколько букв, для большинства букв требуется несколько нажатий клавиш. При однократном нажатии цифры генерируется первый символ, указанный для этой клавиши. Нажатие цифры 2, 3, 4 или 5 раз генерирует второй, третий, четвертый или пятый символ клавиши.\n",
    "\n",
    "Напишите программу, которая отображает нажатия клавиш, необходимые для введенного сообщения.\n",
    "\n",
    "#### Формат входных данных\n",
    "На вход программе подается одна строка – текстовое сообщение.\n",
    "\n",
    "#### Формат выходных данных\n",
    "Программа должна вывести нажатия клавиш, необходимых для введенного сообщения.\n",
    "\n",
    "<strong> Примечание 1. </strong> Ваша программа должна обрабатывать как прописные, так и строчные буквы.\n",
    "\n",
    "<strong> Примечание 2. </strong> Ваша программа должна игнорировать любые символы, не указанные в приведенной выше таблице."
   ]
  },
  {
   "cell_type": "code",
   "execution_count": 10,
   "id": "aa1b957e",
   "metadata": {},
   "outputs": [
    {
     "name": "stdout",
     "output_type": "stream",
     "text": [
      "Hello, World!\n",
      "4433555555666110966677755531111\n"
     ]
    }
   ],
   "source": [
    "my_dict = {'.': '1', ',': '11', '?': '111', '!': '1111', ':': '11111',\n",
    "           'A': '2', 'B': '22', 'C': '222',\n",
    "           'D': '3','E': '33', 'F': '333',\n",
    "           'G': '4', 'H': '44', 'I': '444',\n",
    "           'J': '5', 'K': '55', 'L': '555',\n",
    "           'M': '6', 'N': '66', 'O': '666',\n",
    "           'P': '7', 'Q': '77', 'R': '777', 'S': '7777',\n",
    "           'T': '8', 'U': '88', 'V': '888',\n",
    "           'W': '9', 'X': '99', 'Y': '999', 'Z': '9999',\n",
    "           ' ': '0'}\n",
    "\n",
    "string = input().upper().replace('\"', '')\n",
    "result = ''\n",
    "\n",
    "for letter in string:\n",
    "    result += my_dict[letter]\n",
    "    \n",
    "print(result)"
   ]
  },
  {
   "cell_type": "markdown",
   "id": "417cc7fb",
   "metadata": {},
   "source": [
    "# 7. Код Морзе\n",
    "Код Морзе для представления цифр и букв использует тире и точки.\n",
    "\n",
    "Напишите программу для кодирования текстового сообщения в соответствии с кодом Морзе.\n",
    "\n",
    "#### Формат входных данных\n",
    "На вход программе подается одна строка – текстовое сообщение.\n",
    "\n",
    "#### Формат выходных данных\n",
    "Программа должна вывести закодированное с помощью кода Морзе сообщение, оставляя пробел между каждым закодированным символом (последовательностью тире и точек).\n",
    "\n",
    "<srong> Примечание 1. </srong> Ваша программа должна игнорировать любые символы, не перечисленные в таблице."
   ]
  },
  {
   "cell_type": "code",
   "execution_count": 15,
   "id": "c0277f1b",
   "metadata": {},
   "outputs": [
    {
     "name": "stdout",
     "output_type": "stream",
     "text": [
      "Agent 007\n",
      ".- --. . -. - ----- ----- --... \n"
     ]
    }
   ],
   "source": [
    "letters = [c for c in 'ABCDEFGHIJKLMNOPQRSTUVWXYZ0123456789']\n",
    "morse = ['.-', '-...', '-.-.', '-..', '.', '..-.', '--.', '....', \n",
    "         '..', '.---', '-.-', '.-..', '--', '-.', '---', '.--.', \n",
    "         '--.-', '.-.', '...', '-', '..-', '...-', '.--', '-..-', \n",
    "         '-.--', '--..', '-----', '.----', '..---', '...--', \n",
    "         '....-', '.....', '-....', '--...', '---..', '----.']\n",
    "\n",
    "my_dict = dict(zip(letters, morse))\n",
    "string = input().upper()\n",
    "\n",
    "result = ''\n",
    "\n",
    "for letter in string:\n",
    "    if letter in my_dict:\n",
    "        result += my_dict[letter]\n",
    "        result += ' '\n",
    "    \n",
    "print(result)"
   ]
  },
  {
   "cell_type": "markdown",
   "id": "593af563",
   "metadata": {},
   "source": [
    "# 8. \n",
    "Дополните приведенный код, чтобы в переменной result хранился словарь, в котором ключи – числа от 1 до 15 (включительно), а значения представляют собой квадраты ключей.\n",
    "\n",
    "<strong> Примечание. </strong> Выводить содержимое словаря result не нужно."
   ]
  },
  {
   "cell_type": "code",
   "execution_count": 21,
   "id": "651fe355",
   "metadata": {},
   "outputs": [],
   "source": [
    "result = {i: i**2 for i in range(1, 16)}"
   ]
  },
  {
   "cell_type": "markdown",
   "id": "fbe10c0b",
   "metadata": {},
   "source": [
    "# 9. \n",
    "Дополните приведенный код так, чтобы он объединил содержимое двух словарей dict1 и dict2 по ключам, складывая значения по одному и тому же ключу, в случае, если ключ присутствует в обоих словарях. Результирующий словарь необходимо присвоить переменной result.\n",
    "\n",
    "<strong> Примечание. </strong> Выводить содержимое словаря result не нужно."
   ]
  },
  {
   "cell_type": "code",
   "execution_count": 32,
   "id": "18de871e",
   "metadata": {},
   "outputs": [],
   "source": [
    "dict1 = {'a': 100, 'z': 333, 'b': 200, 'c': 300, 'd': 45, 'e': 98, 't': 76, 'q': 34, 'f': 90, 'm': 230}\n",
    "dict2 = {'a': 300, 'b': 200, 'd': 400, 't': 777, 'c': 12, 'p': 123, 'w': 111, 'z': 666}\n",
    "\n",
    "result = dict2.copy()\n",
    "result.update(dict1)\n",
    "\n",
    "for item in dict2:\n",
    "    if item in dict1:\n",
    "        result[item] = dict1[item] + dict2[item]"
   ]
  },
  {
   "cell_type": "markdown",
   "id": "608605ef",
   "metadata": {},
   "source": [
    "# 10. \n",
    "Дополните приведенный код так, чтобы в переменной result хранился словарь, в котором для каждого символа строки text будет подсчитано количество его вхождений.\n",
    "\n",
    "<strong> Примечание. </strong> Выводить содержимое словаря result не нужно."
   ]
  },
  {
   "cell_type": "code",
   "execution_count": 38,
   "id": "a135819c",
   "metadata": {},
   "outputs": [],
   "source": [
    "text = 'footballcyberpunkextraterritorialityconversationalistblockophthalmoscopicinterdependencemamauserfff'\n",
    "\n",
    "result = {}\n",
    "\n",
    "for char in text:\n",
    "    result[char] = result.get(char, 0) + 1"
   ]
  },
  {
   "cell_type": "markdown",
   "id": "f10d6e11",
   "metadata": {},
   "source": [
    "# 11. \n",
    "Дополните приведенный код, чтобы он вывел наиболее часто встречающееся слово строки s. Если таких слов несколько, должно быть выведено то, что меньше в лексикографическом порядке."
   ]
  },
  {
   "cell_type": "code",
   "execution_count": 69,
   "id": "154117b0",
   "metadata": {},
   "outputs": [
    {
     "name": "stdout",
     "output_type": "stream",
     "text": [
      "banana\n"
     ]
    }
   ],
   "source": [
    "s = 'orange strawberry barley gooseberry apple apricot barley currant orange melon pomegranate banana banana orange barley apricot plum grapefruit banana quince strawberry barley grapefruit banana grapes melon strawberry apricot currant currant gooseberry raspberry apricot currant orange lime quince grapefruit barley banana melon pomegranate barley banana orange barley apricot plum banana quince lime grapefruit strawberry gooseberry apple barley apricot currant orange melon pomegranate banana banana orange apricot barley plum banana grapefruit banana quince currant orange melon pomegranate barley plum banana quince barley lime grapefruit pomegranate barley'\n",
    "\n",
    "my_dict = {}\n",
    "s_list = list(s.split())\n",
    "\n",
    "for i in s_list:\n",
    "    my_dict[i] = my_dict.get(i, 0) + 1\n",
    "    \n",
    "max_value = max(my_dict.values())\n",
    "max_key = []\n",
    "\n",
    "for (key, value) in my_dict.items():\n",
    "    if value == max_value:\n",
    "        max_key.append(key)\n",
    "        \n",
    "print(min(max_key))"
   ]
  },
  {
   "cell_type": "markdown",
   "id": "74825928",
   "metadata": {},
   "source": [
    "_Альтернативное решение:_"
   ]
  },
  {
   "cell_type": "code",
   "execution_count": 79,
   "id": "5418f866",
   "metadata": {},
   "outputs": [
    {
     "name": "stdout",
     "output_type": "stream",
     "text": [
      "('banana', 12)\n"
     ]
    }
   ],
   "source": [
    "s = 'orange strawberry barley gooseberry apple apricot barley currant orange melon pomegranate banana banana orange barley apricot plum grapefruit banana quince strawberry barley grapefruit banana grapes melon strawberry apricot currant currant gooseberry raspberry apricot currant orange lime quince grapefruit barley banana melon pomegranate barley banana orange barley apricot plum banana quince lime grapefruit strawberry gooseberry apple barley apricot currant orange melon pomegranate banana banana orange apricot barley plum banana grapefruit banana quince currant orange melon pomegranate barley plum banana quince barley lime grapefruit pomegranate barley'\n",
    "\n",
    "my_dict = {}\n",
    "s_list = list(s.split())\n",
    "\n",
    "for i in s_list:\n",
    "    my_dict[i] = my_dict.get(i, 0) + 1\n",
    "    \n",
    "max_value = list(my_dict.items())[0]\n",
    "\n",
    "for (key, value) in my_dict.items():\n",
    "    if (max_value[1] < value) or (max_value[1] == value and max_value[0] > key):\n",
    "        max_value = (key, value)\n",
    "\n",
    "print(max_value[0])        "
   ]
  },
  {
   "cell_type": "markdown",
   "id": "95e21f5e",
   "metadata": {},
   "source": [
    "# ????? 12.\n",
    "Вам доступен список pets, содержащий информацию о собаках и их владельцах.  Каждый элемент списка – это кортеж вида (кличка собаки, имя владельца, фамилия владельца, возраст владельца).\n",
    "\n",
    "Дополните приведенный код так, чтобы в переменной result хранился словарь, в котором для каждого владельца будут перечислены его собаки. Ключом словаря должен быть кортеж (имя, фамилия, возраст владельца), а значением – список кличек собак (сохранив исходный порядок следования).\n",
    "\n",
    "<strong> Примечание 1. </strong> Не забывайте: кортежи являются неизменяемыми, поэтому могут быть ключами словаря.\n",
    "\n",
    "<strong> Примечание 2. </strong> Обратите внимание, что у некоторых владельцев по несколько собак.\n",
    "\n",
    "<strong> Примечание 3. </strong> Выводить содержимое словаря result не нужно."
   ]
  },
  {
   "cell_type": "code",
   "execution_count": 151,
   "id": "9c309554",
   "metadata": {},
   "outputs": [],
   "source": [
    "pets = [('Hatiko', 'Parker', 'Wilson', 50),\n",
    "        ('Rusty', 'Josh', 'King', 25),\n",
    "        ('Fido', 'John', 'Smith', 28),\n",
    "        ('Butch', 'Jake', 'Smirnoff', 18),\n",
    "        ('Odi', 'Emma', 'Wright', 18),\n",
    "        ('Balto', 'Josh', 'King', 25),\n",
    "        ('Barry', 'Josh', 'King', 25),\n",
    "        ('Snape', 'Hannah', 'Taylor', 40),\n",
    "        ('Horry', 'Martha', 'Robinson', 73),\n",
    "        ('Giro', 'Alex', 'Martinez', 65),\n",
    "        ('Zooma', 'Simon', 'Nevel', 32),\n",
    "        ('Lassie', 'Josh', 'King', 25),\n",
    "        ('Chase', 'Martha', 'Robinson', 73),\n",
    "        ('Ace', 'Martha', 'Williams', 38),\n",
    "        ('Rocky', 'Simon', 'Nevel', 32)]\n",
    "\n",
    "result = {}\n",
    "\n",
    "for tupl in pets:\n",
    "    key = tuple(list(tupl)[1:])\n",
    "    values = list(tupl)[0]\n",
    "    result.setdefault(key, []).append(values)"
   ]
  },
  {
   "cell_type": "markdown",
   "id": "f7f660a9",
   "metadata": {},
   "source": [
    "# 13. Самое редкое слово 🌶️\n",
    "На вход программе подается строка текста. Напишите программу, которая выводит слово, которое встречается реже всего, без учета регистра. Если таких слов несколько, выведите то, которое меньше в лексикографическом порядке.\n",
    "\n",
    "#### Формат входных данных\n",
    "На вход программе подается строка текста.\n",
    "\n",
    "#### Формат выходных данных\n",
    "Программа должна вывести слово (в нижнем регистре), встречаемое реже всего.\n",
    "\n",
    "<strong> Примечание 1. </strong> Программа не должна быть чувствительной к регистру, слова apple и Apple должна воспринимать как одинаковые.\n",
    "\n",
    "<strong> Примечание 2. </strong> Слово — последовательность букв. Кроме слов в тексте могут присутствовать пробелы и знаки препинания .,!?:;-, которые нужно игнорировать. Других символов в тексте нет."
   ]
  },
  {
   "cell_type": "code",
   "execution_count": 161,
   "id": "c3f24fe3",
   "metadata": {},
   "outputs": [
    {
     "name": "stdout",
     "output_type": "stream",
     "text": [
      "home sweet home sweet.\n",
      "home\n"
     ]
    }
   ],
   "source": [
    "lis = [word.strip('.,!?:;-') for word in input().lower().split()]\n",
    "\n",
    "freq = {}\n",
    "\n",
    "for word in lis:\n",
    "    freq[word] = freq.get(word, 0) + 1\n",
    "    \n",
    "min_key_value = (list(freq.items())[0])\n",
    "\n",
    "for (key, value) in freq.items():\n",
    "    if (min_key_value[1] > value) or (min_key_value[1] == value and min_key_value[0] > key):\n",
    "        min_key_value = (key, value)\n",
    "\n",
    "print(min_key_value[0])"
   ]
  },
  {
   "cell_type": "markdown",
   "id": "0b88cca2",
   "metadata": {},
   "source": [
    "# 14. Исправление дубликатов 🌶️\n",
    "На вход программе подается строка, содержащая строки-идентификаторы. Напишите программу, которая исправляет их так, чтобы в результирующей строке не было дубликатов. Для этого необходимо прибавлять к повторяющимся идентификаторам постфикс _n, где n – количество раз, сколько такой идентификатор уже встречался.\n",
    "\n",
    "#### Формат входных данных\n",
    "На вход программе подается строка текста, содержащая строки-идентификаторы, разделенные символом пробела.\n",
    "\n",
    "#### Формат выходных данных\n",
    "Программа должна вывести исправленную строку, не содержащую дубликатов сохранив при этом исходный порядок."
   ]
  },
  {
   "cell_type": "code",
   "execution_count": 165,
   "id": "fd8a4211",
   "metadata": {},
   "outputs": [
    {
     "name": "stdout",
     "output_type": "stream",
     "text": [
      "a b c a a d c\n",
      "a b c a_1 a_2 d c_1\n"
     ]
    }
   ],
   "source": [
    "lis = list(input().split())\n",
    "dict_of_num = {}\n",
    "res = []\n",
    "\n",
    "for w in lis:\n",
    "    dict_of_num[w] = dict_of_num.get(w,-1) + 1\n",
    "    if dict_of_num[w] > 0:\n",
    "        res.append(w + '_' + str(dict_of_num[w]))\n",
    "    else:\n",
    "        res.append(str(w))\n",
    "\n",
    "print(*res)"
   ]
  },
  {
   "cell_type": "markdown",
   "id": "b8f5d2e7",
   "metadata": {},
   "source": [
    "# 15. Словарь программиста\n",
    "Программисты, как вы уже знаете, постоянно учатся, а в общении между собой используют весьма специфический язык. Чтобы систематизировать ваш пополняющийся профессиональный лексикон, мы придумали эту задачу. Напишите программу создания небольшого словаря сленговых программерских выражений, чтобы она потом по запросу возвращала значения из этого словаря.\n",
    "\n",
    "#### Формат входных данных\n",
    "В первой строке задано одно целое число n — количество слов в словаре. В следующих n строках записаны слова и их определения, разделенные двоеточием и символом пробела. В следующей строке записано целое число m — количество поисковых слов, чье определение нужно вывести. В следующих m строках записаны сами слова, по одному на строке.\n",
    "\n",
    "#### Формат выходных данных\n",
    "Для каждого слова, независимо от регистра символов, если оно присутствует в словаре, необходимо вывести его определение. Если слова в словаре нет, программа должна вывести \"Не найдено\", без кавычек.\n",
    "\n",
    "<strong> Примечание. </strong> Гарантируется, что в определяемом слове или фразе отсутствует двоеточие (:), следом за которым идёт пробел."
   ]
  },
  {
   "cell_type": "code",
   "execution_count": 69,
   "id": "b32d4871",
   "metadata": {},
   "outputs": [
    {
     "name": "stdout",
     "output_type": "stream",
     "text": [
      "5\n",
      "Змея: язык программирования Python\n",
      "Баг: от англ. bug — жучок, клоп, ошибка в программе\n",
      "Конфа: конференция\n",
      "Костыль: код, который нужен, чтобы исправить несовершенство ранее написанного кода\n",
      "Бета: бета-версия, приложение на стадии публичного тестирования\n",
      "3\n",
      "Змея\n",
      "Жаба\n",
      "костыль\n",
      "язык программирования Python\n",
      "Не найдено\n",
      "код, который нужен, чтобы исправить несовершенство ранее написанного кода\n"
     ]
    }
   ],
   "source": [
    "n = int(input())\n",
    "dictionary = {}\n",
    "for _ in range(n):\n",
    "    item = input()\n",
    "    key_value = list(map(str, item.split(': ')))\n",
    "    dictionary.setdefault(key_value[0].lower(), key_value[1])\n",
    "\n",
    "m = int(input())\n",
    "lis = []\n",
    "for _ in range(m):\n",
    "    item = input().lower()\n",
    "    lis.append(dictionary.setdefault(item, 'Не найдено'))\n",
    "\n",
    "print(*lis, sep='\\n')"
   ]
  },
  {
   "cell_type": "markdown",
   "id": "c233394b",
   "metadata": {},
   "source": [
    "# 16. Анаграммы 1\n",
    "Анаграмма – слово (словосочетание), образованное путём перестановки букв, составляющих другое слово (или словосочетание). Например, английские слова evil и live – это анаграммы.\n",
    "\n",
    "На вход программе подаются два слова. Напишите программу, которая определяет, являются ли они анаграммами.\n",
    "\n",
    "#### Формат входных данных\n",
    "На вход программе подаются два слова, каждое на отдельной строке.\n",
    "\n",
    "##### Формат выходных данных\n",
    "Программа должна вывести YES если слова являются анаграммами и NO в противном случае."
   ]
  },
  {
   "cell_type": "code",
   "execution_count": 72,
   "id": "d7e7a88d",
   "metadata": {},
   "outputs": [
    {
     "name": "stdout",
     "output_type": "stream",
     "text": [
      "rat\n",
      "cat\n",
      "NO\n"
     ]
    }
   ],
   "source": [
    "n, m = input(), input()\n",
    "n_dict, m_dict = {}, {}\n",
    "n_list, m_list = list(n), list(m)\n",
    "\n",
    "for i in n_list:\n",
    "    n_dict[i] = n_dict.get(i, 0) + 1\n",
    "    \n",
    "for j in m_list:\n",
    "    m_dict[j] = m_dict.get(j, 0) + 1\n",
    "    \n",
    "if n_dict == m_dict:\n",
    "    print('YES')\n",
    "else:\n",
    "    print('NO')"
   ]
  },
  {
   "cell_type": "markdown",
   "id": "d6ec15ed",
   "metadata": {},
   "source": [
    "# 17. Анаграммы 2\n",
    "На вход программе подаются два предложения. Напишите программу, которая определяет, являются они анаграммами или нет. Ваша программа должна игнорировать регистр символов, знаки препинания и пробелы.\n",
    "\n",
    "#### Формат входных данных\n",
    "На вход программе подаются два предложения, каждое на отдельной строке.\n",
    "\n",
    "#### Формат выходных данных\n",
    "Программа должна вывести YES , если предложения – анаграммы и NO в противном случае.\n",
    "\n",
    "<strong> Примечание. </strong> Кроме слов в тексте могут присутствовать пробелы и знаки препинания .,!?:;-. Других символов в тексте нет."
   ]
  },
  {
   "cell_type": "code",
   "execution_count": 83,
   "id": "80843960",
   "metadata": {},
   "outputs": [
    {
     "name": "stdout",
     "output_type": "stream",
     "text": [
      "Вижу зверей\n",
      "Живу резвей\n",
      "YES\n"
     ]
    }
   ],
   "source": [
    "n, m = input().lower(), input().lower()\n",
    "n_dict, m_dict = {}, {}\n",
    "n_list, m_list = list(n), list(m)\n",
    "\n",
    "for i in n_list:\n",
    "    if i.isalpha():\n",
    "        n_dict[i] = n_dict.get(i, 0) + 1\n",
    "    \n",
    "for j in m_list:\n",
    "    if j.isalpha():\n",
    "        m_dict[j] = m_dict.get(j, 0) + 1\n",
    "    \n",
    "if n_dict == m_dict:\n",
    "    print('YES')\n",
    "else:\n",
    "    print('NO')"
   ]
  },
  {
   "cell_type": "markdown",
   "id": "998a44a4",
   "metadata": {},
   "source": [
    "# 18. Словарь синонимов\n",
    "Вам дан словарь, состоящий из пар слов-синонимов. Повторяющихся слов в словаре нет. Напишите программу, которая для одного данного слова определяет его синоним.\n",
    "\n",
    "#### Формат входных данных\n",
    "На вход программе подается количество пар синонимов n. Далее следует n строк, каждая строка содержит два слова-синонима. После этого следует одно слово, синоним которого надо найти.\n",
    "\n",
    "##### Формат выходных данных\n",
    "Программа должна вывести одно слово, синоним введенного.\n",
    "\n",
    "<strong> Примечание 1. </strong> Гарантируется, что синоним введенного слова существует в словаре.\n",
    "\n",
    "<strong> Примечание 2. </strong> Все слова в словаре начинаются с заглавной буквы."
   ]
  },
  {
   "cell_type": "code",
   "execution_count": 88,
   "id": "d8ea2f89",
   "metadata": {},
   "outputs": [
    {
     "name": "stdout",
     "output_type": "stream",
     "text": [
      "3\n",
      "Kind Affable\n",
      "Intellect Mind\n",
      "Popular Celebrated\n",
      "Popular\n",
      "Celebrated\n"
     ]
    }
   ],
   "source": [
    "n = int(input())\n",
    "dictionary = {}\n",
    "for _ in range(n):\n",
    "    item = input()\n",
    "    key_value = list(map(str, item.split()))\n",
    "    dictionary.setdefault(key_value[0], key_value[1])\n",
    "    dictionary.setdefault(key_value[1], key_value[0])\n",
    "\n",
    "print(dictionary[input()])"
   ]
  },
  {
   "cell_type": "markdown",
   "id": "417005b5",
   "metadata": {},
   "source": [
    "# ????? 19. Страны и города\n",
    "На вход программе подается список стран и городов каждой страны. Затем даны названия городов. Напишите программу, которая для каждого города выводит, в какой стране он находится.\n",
    "\n",
    "#### Формат входных данных\n",
    "Программа получает на вход количество стран n. Далее идет n строк, каждая строка начинается с названия страны, затем идут названия городов этой страны. В следующей строке записано число m, далее идут m запросов — названия каких-то m городов, из перечисленных выше.\n",
    "\n",
    "#### Формат выходных данных\n",
    "Программа должна вывести название страны, в которой находится данный город в соответствии с примером."
   ]
  },
  {
   "cell_type": "code",
   "execution_count": 167,
   "id": "316693dc",
   "metadata": {},
   "outputs": [
    {
     "name": "stdout",
     "output_type": "stream",
     "text": [
      "2\n",
      "Германия Берлин Мюнхен Гамбург Дортмунд\n",
      "Нидерланды Амстердам Гаага Роттердам Алкмар\n",
      "4\n",
      "Амстердам\n"
     ]
    },
    {
     "ename": "KeyError",
     "evalue": "0",
     "output_type": "error",
     "traceback": [
      "\u001b[1;31m---------------------------------------------------------------------------\u001b[0m",
      "\u001b[1;31mKeyError\u001b[0m                                  Traceback (most recent call last)",
      "Input \u001b[1;32mIn [167]\u001b[0m, in \u001b[0;36m<cell line: 13>\u001b[1;34m()\u001b[0m\n\u001b[0;32m     13\u001b[0m \u001b[38;5;28;01mfor\u001b[39;00m i \u001b[38;5;129;01min\u001b[39;00m \u001b[38;5;28mrange\u001b[39m(m):\n\u001b[0;32m     14\u001b[0m     word \u001b[38;5;241m=\u001b[39m \u001b[38;5;28minput\u001b[39m()\n\u001b[1;32m---> 15\u001b[0m     \u001b[38;5;28;01mif\u001b[39;00m word \u001b[38;5;129;01min\u001b[39;00m \u001b[43mdictionary\u001b[49m\u001b[43m[\u001b[49m\u001b[43mi\u001b[49m\u001b[43m]\u001b[49m:\n\u001b[0;32m     16\u001b[0m         lis\u001b[38;5;241m.\u001b[39mappend(dictionary[word])\n\u001b[0;32m     18\u001b[0m \u001b[38;5;28mprint\u001b[39m(\u001b[38;5;241m*\u001b[39mlis, sep\u001b[38;5;241m=\u001b[39m\u001b[38;5;124m'\u001b[39m\u001b[38;5;130;01m\\n\u001b[39;00m\u001b[38;5;124m'\u001b[39m)\n",
      "\u001b[1;31mKeyError\u001b[0m: 0"
     ]
    }
   ],
   "source": [
    "n = int(input())\n",
    "dictionary = {}\n",
    "for _ in range(n):\n",
    "    item = input()\n",
    "    key_value = list(map(str, item.split()))\n",
    "    key = key_value[0]\n",
    "    value = key_value[1:]\n",
    "    dictionary.setdefault(key, value)\n",
    "\n",
    "m = int(input())\n",
    "lis = []\n",
    "\n",
    "for i in range(m):\n",
    "    word = input()\n",
    "    if word in dictionary:\n",
    "        lis.append(dictionary[word])\n",
    "            \n",
    "print(*lis, sep='\\n')"
   ]
  },
  {
   "cell_type": "code",
   "execution_count": 175,
   "id": "6eba0909",
   "metadata": {
    "scrolled": true
   },
   "outputs": [
    {
     "name": "stdout",
     "output_type": "stream",
     "text": [
      "2\n",
      "Германия Берлин Мюнхен Гамбург Дортмунд\n",
      "Нидерланды Амстердам Гаага Роттердам Алкмар\n",
      "4\n",
      "Амстердам\n",
      "Алкмар\n",
      "Гамбург\n",
      "Гаага\n",
      "Нидерланды\n",
      "Нидерланды\n",
      "Германия\n",
      "Нидерланды\n"
     ]
    }
   ],
   "source": [
    "n = int(input())\n",
    "dictionary = {}\n",
    "\n",
    "for i in range(n):\n",
    "    key_value = list(map(str,  input().split()))\n",
    "    key = key_value[0]\n",
    "    value = key_value[1:]\n",
    "    for j in range(len(value)):\n",
    "        dictionary.setdefault(value[j], key)\n",
    "        \n",
    "m = int(input())\n",
    "lis = []\n",
    "\n",
    "for _ in range(m):\n",
    "    city = input()\n",
    "    if city in dictionary.keys():\n",
    "        lis.append(dictionary[city])\n",
    "\n",
    "print(*lis, sep='\\n')"
   ]
  },
  {
   "cell_type": "markdown",
   "id": "c0f023db",
   "metadata": {},
   "source": [
    "# 20. Телефонная книга\n",
    "Тимур записал телефоны всех своих друзей, чтобы автоматизировать поиск нужного номера.\n",
    "\n",
    "У каждого из друзей Тимура может быть один или более телефонных номеров. Напишите программу, которая поможет Тимуру находить все номера определённого друга.\n",
    "\n",
    "#### Формат входных данных\n",
    "В первой строке задано одно целое число n — количество номеров телефонов, информацию о которых Тимур сохранил в телефонной книге. В следующих nn строках заданы телефоны и имена их владельцев через пробел. В следующей строке записано целое число m — количество поисковых запросов от Тимура. В следующих m строках записаны сами запросы, по одному на строке. Каждый запрос — это имя друга, чьи телефоны Тимур хочет найти.\n",
    "\n",
    "#### Формат выходных данных\n",
    "Для каждого запроса от Тимура выведите в отдельной строке все телефоны, принадлежащие человеку с этим именем (независимо от регистра имени). Если в телефонной книге нет телефонов человека с таким именем, выведите в соответствующей строке «абонент не найден» (без кавычек).\n",
    "\n",
    "<strong> Примечание 1. </strong> Телефоны одного человека выводите в одну строку через пробел в том порядке, в каком они были заданы во входных данных.\n",
    "\n",
    "<strong> Примечание 2. </strong> Количество строк в ответе должно быть равно числу m.\n",
    "\n",
    "<strong> Примечание 3. </strong> Телефон — это несколько цифр, записанных подряд, а имя может состоять из букв русского или английского алфавита. Записи не повторяются.\n",
    "\n",
    " "
   ]
  },
  {
   "cell_type": "code",
   "execution_count": 122,
   "id": "c6a85c8f",
   "metadata": {},
   "outputs": [
    {
     "name": "stdout",
     "output_type": "stream",
     "text": [
      "3\n",
      "79184219577 Женя\n",
      "79194249271 Руслан\n",
      "79281234567 Женя\n",
      "3\n",
      "Руслан\n",
      "женя\n",
      "Рустам\n",
      "79194249271\n",
      "79184219577 79281234567\n",
      "абонент не найден\n"
     ]
    }
   ],
   "source": [
    "n = int(input())\n",
    "dictionary = {}\n",
    "\n",
    "for _ in range(n):\n",
    "    value_key = list(map(str, input().lower().split()))\n",
    "    key = value_key[1]\n",
    "    value = value_key[0]\n",
    "    dictionary.setdefault(key, []).append(value)\n",
    "\n",
    "m = int(input())\n",
    "lis = []\n",
    "\n",
    "for _ in range(m):\n",
    "    word = input().lower()\n",
    "    add = dictionary.get(word, ['абонент не найден'])\n",
    "    lis.append(add)\n",
    "\n",
    "for i in range(m):\n",
    "        print(*lis[i])"
   ]
  },
  {
   "cell_type": "markdown",
   "id": "f107a52c",
   "metadata": {},
   "source": [
    "# 21. Секретное слово\n",
    "Напишите программу для расшифровки секретного слова методом частотного анализа.\n",
    "\n",
    "#### Формат входных данных\n",
    "В первой строке задано зашифрованное слово. Во второй строке задано одно целое число n – количество букв в словаре. В следующих n строках записано, сколько раз конкретная буква алфавита встречается в этом слове – <буква>: <частота>.\n",
    "\n",
    "#### Формат выходных данных\n",
    "Программа должна вывести дешифрованное слово.\n",
    "\n",
    "<strong> Примечание. </strong> Гарантируется, что частоты букв не повторяются."
   ]
  },
  {
   "cell_type": "code",
   "execution_count": 146,
   "id": "d992fb90",
   "metadata": {},
   "outputs": [
    {
     "name": "stdout",
     "output_type": "stream",
     "text": [
      "*!*!*?\n",
      "3\n",
      "а: 3\n",
      "н: 2\n",
      "с: 1\n",
      "ананас\n"
     ]
    }
   ],
   "source": [
    "secret_word, n = list(input()), int(input())\n",
    "\n",
    "freq = {}\n",
    "for char in secret_word:\n",
    "    freq[char] = freq.get(char, 0) + 1\n",
    "\n",
    "dic = {}\n",
    "for _ in range(n):\n",
    "    k_v = list(map(str, input().lower().split(': ')))\n",
    "    dic.setdefault(k_v[0], k_v[1])\n",
    "\n",
    "inv_dic = {str(value): str(key) for key, value in dic.items()}\n",
    "\n",
    "res = []\n",
    "\n",
    "for char in secret_word:\n",
    "    temp = str(freq[char])\n",
    "    res.append(str(inv_dic[temp]))\n",
    "    \n",
    "print(''.join(res))"
   ]
  }
 ],
 "metadata": {
  "kernelspec": {
   "display_name": "Python 3 (ipykernel)",
   "language": "python",
   "name": "python3"
  },
  "language_info": {
   "codemirror_mode": {
    "name": "ipython",
    "version": 3
   },
   "file_extension": ".py",
   "mimetype": "text/x-python",
   "name": "python",
   "nbconvert_exporter": "python",
   "pygments_lexer": "ipython3",
   "version": "3.9.12"
  }
 },
 "nbformat": 4,
 "nbformat_minor": 5
}
