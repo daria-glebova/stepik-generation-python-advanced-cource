{
 "cells": [
  {
   "cell_type": "markdown",
   "id": "405050a3",
   "metadata": {},
   "source": [
    "# 1.\n",
    "Дополните приведенный код так, чтобы он вывел сумму минимального и максимального ключа в словаре my_dict."
   ]
  },
  {
   "cell_type": "code",
   "execution_count": 1,
   "id": "6a0c5fd6",
   "metadata": {},
   "outputs": [
    {
     "name": "stdout",
     "output_type": "stream",
     "text": [
      "99.12\n"
     ]
    }
   ],
   "source": [
    "my_dict = {1.12: 'aa', 67.9: 45, 3.11: 'ccc', 7.9: 'dd', 9.2: 'ee', 7.1: 'ff', 0.12: 'qq', 1.91: 'aa', 10.12: [1, 2, 3], 99.0: {9, 0, 1}}\n",
    "\n",
    "print(min(my_dict) + max(my_dict))"
   ]
  },
  {
   "cell_type": "markdown",
   "id": "1b2c051c",
   "metadata": {},
   "source": [
    "# 2.\n",
    "Дополните приведенный код, чтобы он вывел имена всех пользователей (в алфавитном порядке), чей номер оканчивается на 8.\n",
    "\n",
    "<strong> Примечание. </strong> Имена необходимо вывести на одной строке, разделяя символом пробела."
   ]
  },
  {
   "cell_type": "code",
   "execution_count": 2,
   "id": "21146116",
   "metadata": {},
   "outputs": [
    {
     "name": "stdout",
     "output_type": "stream",
     "text": [
      "Helga LJ Maria Riyad Ruslan\n"
     ]
    }
   ],
   "source": [
    "users = [{'name': 'Todd', 'phone': '551-1414', 'email': 'todd@gmail.com'},\n",
    "         {'name': 'Helga', 'phone': '555-1618', 'email': 'helga@mail.net'},\n",
    "         {'name': 'Olivia', 'phone': '449-3141', 'email': ''},\n",
    "         {'name': 'LJ', 'phone': '555-2718', 'email': 'lj@gmail.net'},\n",
    "         {'name': 'Ruslan', 'phone': '422-145-9098', 'email': 'rus-lan.cha@yandex.ru'},\n",
    "         {'name': 'John', 'phone': '233-421-32', 'email': ''},\n",
    "         {'name': 'Lara', 'phone': '+7998-676-2532', 'email': 'g.lara89@gmail.com'},\n",
    "         {'name': 'Alina', 'phone': '+7948-799-2434', 'email': 'ali.ch.b@gmail.com'},\n",
    "         {'name': 'Robert', 'phone': '420-2011', 'email': ''},\n",
    "         {'name': 'Riyad', 'phone': '128-8890-128', 'email': 'r.mahrez@mail.net'},\n",
    "         {'name': 'Khabib', 'phone': '+7995-600-9080', 'email': 'kh.nurmag@gmail.com'},\n",
    "         {'name': 'Olga', 'phone': '6449-314-1213', 'email': ''},\n",
    "         {'name': 'Roman', 'phone': '+7459-145-8059', 'email': 'roma988@mail.ru'},\n",
    "         {'name': 'Maria', 'phone': '12-129-3148', 'email': 'm.sharapova@gmail.com'},\n",
    "         {'name': 'Fedor', 'phone': '+7445-341-0545', 'email': ''},\n",
    "         {'name': 'Tim', 'phone': '242-449-3141', 'email': 'timm.ggg@yandex.ru'}]\n",
    "\n",
    "result = []\n",
    "for i in users:\n",
    "    if i['phone'][-1] == '8':\n",
    "        result.append(i['name'])\n",
    "\n",
    "print(*sorted(result))"
   ]
  },
  {
   "cell_type": "markdown",
   "id": "fd3f17bd",
   "metadata": {},
   "source": [
    "# 3.\n",
    "Дополните приведенный код, чтобы он вывел имена всех пользователей (в алфавитном порядке), у которых нет информации об электронной почте. \n",
    "\n",
    "<strong> Примечание 1. </strong> Ключ email может отсутствовать в словаре.\n",
    "\n",
    "<strong> Примечание 2. </strong> Имена необходимо вывести на одной строке, разделяя символом пробела."
   ]
  },
  {
   "cell_type": "code",
   "execution_count": 6,
   "id": "af741cdd",
   "metadata": {},
   "outputs": [
    {
     "name": "stdout",
     "output_type": "stream",
     "text": [
      "Alina Fedor Helga John Olga Olivia Robert Roman\n"
     ]
    }
   ],
   "source": [
    "users = [{'name': 'Todd', 'phone': '551-1414', 'email': 'todd@gmail.com'},\n",
    "         {'name': 'Helga', 'phone': '555-1618'},\n",
    "         {'name': 'Olivia', 'phone': '449-3141', 'email': ''},\n",
    "         {'name': 'LJ', 'phone': '555-2718', 'email': 'lj@gmail.net'},\n",
    "         {'name': 'Ruslan', 'phone': '422-145-9098', 'email': 'rus-lan.cha@yandex.ru'},\n",
    "         {'name': 'John', 'phone': '233-421-32', 'email': ''},\n",
    "         {'name': 'Lara', 'phone': '+7998-676-2532', 'email': 'g.lara89@gmail.com'},\n",
    "         {'name': 'Alina', 'phone': '+7948-799-2434'},\n",
    "         {'name': 'Robert', 'phone': '420-2011', 'email': ''},\n",
    "         {'name': 'Riyad', 'phone': '128-8890-128', 'email': 'r.mahrez@mail.net'},\n",
    "         {'name': 'Khabib', 'phone': '+7995-600-9080', 'email': 'kh.nurmag@gmail.com'},\n",
    "         {'name': 'Olga', 'phone': '6449-314-1213', 'email': ''},\n",
    "         {'name': 'Roman', 'phone': '+7459-145-8059'},\n",
    "         {'name': 'Maria', 'phone': '12-129-3148', 'email': 'm.sharapova@gmail.com'},\n",
    "         {'name': 'Fedor', 'phone': '+7445-341-0545', 'email': ''},\n",
    "         {'name': 'Tim', 'phone': '242-449-3141', 'email': 'timm.ggg@yandex.ru'}]\n",
    "\n",
    "result = []\n",
    "\n",
    "for i in users:\n",
    "    if 'email' in i:\n",
    "        if i['email'] == '':\n",
    "            result.append(i['name'])\n",
    "    else:\n",
    "        result.append(i['name'])\n",
    "\n",
    "print(*sorted(result))"
   ]
  },
  {
   "cell_type": "markdown",
   "id": "30cdfc36",
   "metadata": {},
   "source": [
    "# 4. Строковое представление\n",
    "Напишите программу, которая будет превращать натуральное число в строку, заменяя все цифры в числе на слова:\n",
    "\n",
    "- 0 на zero;\n",
    "- 1 на one;\n",
    "- 2 на two;\n",
    "- 3 на three;\n",
    "- 4 на four;\n",
    "- 5 на five;\n",
    "- 6 на six;\n",
    "- 7 на seven;\n",
    "- 8 на eight;\n",
    "- 9 на nine.\n",
    "\n",
    "#### Формат входных данных\n",
    "На вход программе подается натуральное число.\n",
    "\n",
    "#### Формат выходных данных\n",
    "Программа должна вывести строковое представление числа.\n",
    "\n",
    "<strong> Примечание. </strong> Используйте словарь вместо условного оператора."
   ]
  },
  {
   "cell_type": "code",
   "execution_count": 8,
   "id": "a32fba1d",
   "metadata": {},
   "outputs": [
    {
     "name": "stdout",
     "output_type": "stream",
     "text": [
      "230\n",
      "two three zero\n"
     ]
    }
   ],
   "source": [
    "my_dict = {\"0\": \"zero\",\n",
    "           \"1\": \"one\",\n",
    "           \"2\": \"two\",\n",
    "           \"3\": \"three\",\n",
    "           \"4\": \"four\",\n",
    "           \"5\": \"five\",\n",
    "           \"6\": \"six\",\n",
    "           \"7\": \"seven\",\n",
    "           \"8\": \"eight\",\n",
    "           \"9\": \"nine\"}\n",
    "\n",
    "my_list = [i for i in input()]\n",
    "result = []\n",
    "\n",
    "for num in my_list:\n",
    "    result.append(my_dict[num])\n",
    "\n",
    "print(*result)"
   ]
  },
  {
   "cell_type": "markdown",
   "id": "3f0843ed",
   "metadata": {},
   "source": [
    "# 5. Информация об учебных курсах\n",
    "Напишите программу, которая по номеру курса выводит информацию о данном курсе. \n",
    "\n",
    "#### Формат входных данных\n",
    "На вход программе подается одна строка – номер курса.\n",
    "\n",
    "#### Формат выходных данных\n",
    "Программа должна вывести номер курса, затем номер аудитории, имя преподавателя и время проведения курса в соответствии с примерами.\n",
    "\n",
    "<strong> Примечание 1. </strong> Используйте словарь вместо условного оператора.\n",
    "\n",
    "<strong> Примечание 2. </strong> Для удобного вывода используйте строковый метод format() или f-строки."
   ]
  },
  {
   "cell_type": "code",
   "execution_count": 9,
   "id": "ad523eaf",
   "metadata": {},
   "outputs": [
    {
     "name": "stdout",
     "output_type": "stream",
     "text": [
      "CS102\n",
      "CS102: 4501, Альварадо, 9:00\n"
     ]
    }
   ],
   "source": [
    "my_dict = {\"CS101\": \"3004, Хайнс, 8:00\",\n",
    "               \"CS102\": \"4501, Альварадо, 9:00\",\n",
    "               \"CS103\": \"6755, Рич, 10:00\",\n",
    "               \"NT110\": \"1244, Берк, 11:00\",\n",
    "               \"CM241\": \"1411, Ли, 13:00\"}\n",
    "Key = input()\n",
    "print('{}: {}'.format(Key, my_dict[Key]))"
   ]
  },
  {
   "cell_type": "markdown",
   "id": "87298ef1",
   "metadata": {},
   "source": [
    "# 6. Набор сообщений\n",
    "На мобильных кнопочных телефонах текстовые сообщения можно отправлять с помощью цифровой клавиатуры. Поскольку с каждой клавишей связано несколько букв, для большинства букв требуется несколько нажатий клавиш. При однократном нажатии цифры генерируется первый символ, указанный для этой клавиши. Нажатие цифры 2, 3, 4 или 5 раз генерирует второй, третий, четвертый или пятый символ клавиши.\n",
    "\n",
    "Напишите программу, которая отображает нажатия клавиш, необходимые для введенного сообщения.\n",
    "\n",
    "#### Формат входных данных\n",
    "На вход программе подается одна строка – текстовое сообщение.\n",
    "\n",
    "#### Формат выходных данных\n",
    "Программа должна вывести нажатия клавиш, необходимых для введенного сообщения.\n",
    "\n",
    "<strong> Примечание 1. </strong> Ваша программа должна обрабатывать как прописные, так и строчные буквы.\n",
    "\n",
    "<strong> Примечание 2. </strong> Ваша программа должна игнорировать любые символы, не указанные в приведенной выше таблице."
   ]
  },
  {
   "cell_type": "code",
   "execution_count": 10,
   "id": "aa1b957e",
   "metadata": {},
   "outputs": [
    {
     "name": "stdout",
     "output_type": "stream",
     "text": [
      "Hello, World!\n",
      "4433555555666110966677755531111\n"
     ]
    }
   ],
   "source": [
    "my_dict = {'.': '1', ',': '11', '?': '111', '!': '1111', ':': '11111',\n",
    "           'A': '2', 'B': '22', 'C': '222',\n",
    "           'D': '3','E': '33', 'F': '333',\n",
    "           'G': '4', 'H': '44', 'I': '444',\n",
    "           'J': '5', 'K': '55', 'L': '555',\n",
    "           'M': '6', 'N': '66', 'O': '666',\n",
    "           'P': '7', 'Q': '77', 'R': '777', 'S': '7777',\n",
    "           'T': '8', 'U': '88', 'V': '888',\n",
    "           'W': '9', 'X': '99', 'Y': '999', 'Z': '9999',\n",
    "           ' ': '0'}\n",
    "\n",
    "string = input().upper().replace('\"', '')\n",
    "result = ''\n",
    "\n",
    "for letter in string:\n",
    "    result += my_dict[letter]\n",
    "    \n",
    "print(result)"
   ]
  },
  {
   "cell_type": "markdown",
   "id": "417cc7fb",
   "metadata": {},
   "source": [
    "# 7. Код Морзе\n",
    "Код Морзе для представления цифр и букв использует тире и точки.\n",
    "\n",
    "Напишите программу для кодирования текстового сообщения в соответствии с кодом Морзе.\n",
    "\n",
    "#### Формат входных данных\n",
    "На вход программе подается одна строка – текстовое сообщение.\n",
    "\n",
    "#### Формат выходных данных\n",
    "Программа должна вывести закодированное с помощью кода Морзе сообщение, оставляя пробел между каждым закодированным символом (последовательностью тире и точек).\n",
    "\n",
    "<srong> Примечание 1. </srong> Ваша программа должна игнорировать любые символы, не перечисленные в таблице."
   ]
  },
  {
   "cell_type": "code",
   "execution_count": 15,
   "id": "c0277f1b",
   "metadata": {},
   "outputs": [
    {
     "name": "stdout",
     "output_type": "stream",
     "text": [
      "Agent 007\n",
      ".- --. . -. - ----- ----- --... \n"
     ]
    }
   ],
   "source": [
    "letters = [c for c in 'ABCDEFGHIJKLMNOPQRSTUVWXYZ0123456789']\n",
    "morse = ['.-', '-...', '-.-.', '-..', '.', '..-.', '--.', '....', \n",
    "         '..', '.---', '-.-', '.-..', '--', '-.', '---', '.--.', \n",
    "         '--.-', '.-.', '...', '-', '..-', '...-', '.--', '-..-', \n",
    "         '-.--', '--..', '-----', '.----', '..---', '...--', \n",
    "         '....-', '.....', '-....', '--...', '---..', '----.']\n",
    "\n",
    "my_dict = dict(zip(letters, morse))\n",
    "string = input().upper()\n",
    "\n",
    "result = ''\n",
    "\n",
    "for letter in string:\n",
    "    if letter in my_dict:\n",
    "        result += my_dict[letter]\n",
    "        result += ' '\n",
    "    \n",
    "print(result)"
   ]
  },
  {
   "cell_type": "markdown",
   "id": "593af563",
   "metadata": {},
   "source": [
    "# 8. \n",
    "Дополните приведенный код, чтобы в переменной result хранился словарь, в котором ключи – числа от 1 до 15 (включительно), а значения представляют собой квадраты ключей.\n",
    "\n",
    "<strong> Примечание. </strong> Выводить содержимое словаря result не нужно."
   ]
  },
  {
   "cell_type": "code",
   "execution_count": 21,
   "id": "651fe355",
   "metadata": {},
   "outputs": [],
   "source": [
    "result = {i: i**2 for i in range(1, 16)}"
   ]
  },
  {
   "cell_type": "markdown",
   "id": "fbe10c0b",
   "metadata": {},
   "source": [
    "# 9. \n",
    "Дополните приведенный код так, чтобы он объединил содержимое двух словарей dict1 и dict2 по ключам, складывая значения по одному и тому же ключу, в случае, если ключ присутствует в обоих словарях. Результирующий словарь необходимо присвоить переменной result.\n",
    "\n",
    "<strong> Примечание. </strong> Выводить содержимое словаря result не нужно."
   ]
  },
  {
   "cell_type": "code",
   "execution_count": 32,
   "id": "18de871e",
   "metadata": {},
   "outputs": [],
   "source": [
    "dict1 = {'a': 100, 'z': 333, 'b': 200, 'c': 300, 'd': 45, 'e': 98, 't': 76, 'q': 34, 'f': 90, 'm': 230}\n",
    "dict2 = {'a': 300, 'b': 200, 'd': 400, 't': 777, 'c': 12, 'p': 123, 'w': 111, 'z': 666}\n",
    "\n",
    "result = dict2.copy()\n",
    "result.update(dict1)\n",
    "\n",
    "for item in dict2:\n",
    "    if item in dict1:\n",
    "        result[item] = dict1[item] + dict2[item]"
   ]
  },
  {
   "cell_type": "markdown",
   "id": "608605ef",
   "metadata": {},
   "source": [
    "# 10. \n",
    "Дополните приведенный код так, чтобы в переменной result хранился словарь, в котором для каждого символа строки text будет подсчитано количество его вхождений.\n",
    "\n",
    "<strong> Примечание. </strong> Выводить содержимое словаря result не нужно."
   ]
  },
  {
   "cell_type": "code",
   "execution_count": 38,
   "id": "a135819c",
   "metadata": {},
   "outputs": [],
   "source": [
    "text = 'footballcyberpunkextraterritorialityconversationalistblockophthalmoscopicinterdependencemamauserfff'\n",
    "\n",
    "result = {}\n",
    "\n",
    "for char in text:\n",
    "    result[char] = result.get(char, 0) + 1"
   ]
  },
  {
   "cell_type": "markdown",
   "id": "f10d6e11",
   "metadata": {},
   "source": [
    "# 11. \n",
    "Дополните приведенный код, чтобы он вывел наиболее часто встречающееся слово строки s. Если таких слов несколько, должно быть выведено то, что меньше в лексикографическом порядке."
   ]
  },
  {
   "cell_type": "code",
   "execution_count": 69,
   "id": "154117b0",
   "metadata": {},
   "outputs": [
    {
     "name": "stdout",
     "output_type": "stream",
     "text": [
      "banana\n"
     ]
    }
   ],
   "source": [
    "s = 'orange strawberry barley gooseberry apple apricot barley currant orange melon pomegranate banana banana orange barley apricot plum grapefruit banana quince strawberry barley grapefruit banana grapes melon strawberry apricot currant currant gooseberry raspberry apricot currant orange lime quince grapefruit barley banana melon pomegranate barley banana orange barley apricot plum banana quince lime grapefruit strawberry gooseberry apple barley apricot currant orange melon pomegranate banana banana orange apricot barley plum banana grapefruit banana quince currant orange melon pomegranate barley plum banana quince barley lime grapefruit pomegranate barley'\n",
    "\n",
    "my_dict = {}\n",
    "s_list = list(s.split())\n",
    "\n",
    "for i in s_list:\n",
    "    my_dict[i] = my_dict.get(i, 0) + 1\n",
    "    \n",
    "max_value = max(my_dict.values())\n",
    "max_key = []\n",
    "\n",
    "for (key, value) in my_dict.items():\n",
    "    if value == max_value:\n",
    "        max_key.append(key)\n",
    "        \n",
    "print(min(max_key))"
   ]
  },
  {
   "cell_type": "markdown",
   "id": "74825928",
   "metadata": {},
   "source": [
    "_Альтернативное решение:_"
   ]
  },
  {
   "cell_type": "code",
   "execution_count": 79,
   "id": "5418f866",
   "metadata": {},
   "outputs": [
    {
     "name": "stdout",
     "output_type": "stream",
     "text": [
      "('banana', 12)\n"
     ]
    }
   ],
   "source": [
    "s = 'orange strawberry barley gooseberry apple apricot barley currant orange melon pomegranate banana banana orange barley apricot plum grapefruit banana quince strawberry barley grapefruit banana grapes melon strawberry apricot currant currant gooseberry raspberry apricot currant orange lime quince grapefruit barley banana melon pomegranate barley banana orange barley apricot plum banana quince lime grapefruit strawberry gooseberry apple barley apricot currant orange melon pomegranate banana banana orange apricot barley plum banana grapefruit banana quince currant orange melon pomegranate barley plum banana quince barley lime grapefruit pomegranate barley'\n",
    "\n",
    "my_dict = {}\n",
    "s_list = list(s.split())\n",
    "\n",
    "for i in s_list:\n",
    "    my_dict[i] = my_dict.get(i, 0) + 1\n",
    "    \n",
    "max_value = list(my_dict.items())[0]\n",
    "\n",
    "for (key, value) in my_dict.items():\n",
    "    if (max_value[1] < value) or (max_value[1] == value and max_value[0] > key):\n",
    "        max_value = (key, value)\n",
    "\n",
    "print(max_value[0])        "
   ]
  },
  {
   "cell_type": "markdown",
   "id": "95e21f5e",
   "metadata": {},
   "source": [
    "# 12.\n",
    "Вам доступен список pets, содержащий информацию о собаках и их владельцах.  Каждый элемент списка – это кортеж вида (кличка собаки, имя владельца, фамилия владельца, возраст владельца).\n",
    "\n",
    "Дополните приведенный код так, чтобы в переменной result хранился словарь, в котором для каждого владельца будут перечислены его собаки. Ключом словаря должен быть кортеж (имя, фамилия, возраст владельца), а значением – список кличек собак (сохранив исходный порядок следования).\n",
    "\n",
    "<strong> Примечание 1. </strong> Не забывайте: кортежи являются неизменяемыми, поэтому могут быть ключами словаря.\n",
    "\n",
    "<strong> Примечание 2. </strong> Обратите внимание, что у некоторых владельцев по несколько собак.\n",
    "\n",
    "<strong> Примечание 3. </strong> Выводить содержимое словаря result не нужно."
   ]
  },
  {
   "cell_type": "code",
   "execution_count": 151,
   "id": "9c309554",
   "metadata": {},
   "outputs": [],
   "source": [
    "pets = [('Hatiko', 'Parker', 'Wilson', 50),\n",
    "        ('Rusty', 'Josh', 'King', 25),\n",
    "        ('Fido', 'John', 'Smith', 28),\n",
    "        ('Butch', 'Jake', 'Smirnoff', 18),\n",
    "        ('Odi', 'Emma', 'Wright', 18),\n",
    "        ('Balto', 'Josh', 'King', 25),\n",
    "        ('Barry', 'Josh', 'King', 25),\n",
    "        ('Snape', 'Hannah', 'Taylor', 40),\n",
    "        ('Horry', 'Martha', 'Robinson', 73),\n",
    "        ('Giro', 'Alex', 'Martinez', 65),\n",
    "        ('Zooma', 'Simon', 'Nevel', 32),\n",
    "        ('Lassie', 'Josh', 'King', 25),\n",
    "        ('Chase', 'Martha', 'Robinson', 73),\n",
    "        ('Ace', 'Martha', 'Williams', 38),\n",
    "        ('Rocky', 'Simon', 'Nevel', 32)]\n",
    "\n",
    "result = {}\n",
    "\n",
    "for tupl in pets:\n",
    "    key = tuple(list(tupl)[1:])\n",
    "    values = list(tupl)[0]\n",
    "    result.setdefault(key, []).append(values)"
   ]
  },
  {
   "cell_type": "markdown",
   "id": "f7f660a9",
   "metadata": {},
   "source": [
    "# 13. Самое редкое слово 🌶️\n",
    "На вход программе подается строка текста. Напишите программу, которая выводит слово, которое встречается реже всего, без учета регистра. Если таких слов несколько, выведите то, которое меньше в лексикографическом порядке.\n",
    "\n",
    "#### Формат входных данных\n",
    "На вход программе подается строка текста.\n",
    "\n",
    "#### Формат выходных данных\n",
    "Программа должна вывести слово (в нижнем регистре), встречаемое реже всего.\n",
    "\n",
    "<strong> Примечание 1. </strong> Программа не должна быть чувствительной к регистру, слова apple и Apple должна воспринимать как одинаковые.\n",
    "\n",
    "<strong> Примечание 2. </strong> Слово — последовательность букв. Кроме слов в тексте могут присутствовать пробелы и знаки препинания .,!?:;-, которые нужно игнорировать. Других символов в тексте нет."
   ]
  },
  {
   "cell_type": "code",
   "execution_count": 161,
   "id": "c3f24fe3",
   "metadata": {},
   "outputs": [
    {
     "name": "stdout",
     "output_type": "stream",
     "text": [
      "home sweet home sweet.\n",
      "home\n"
     ]
    }
   ],
   "source": [
    "lis = [word.strip('.,!?:;-') for word in input().lower().split()]\n",
    "\n",
    "freq = {}\n",
    "\n",
    "for word in lis:\n",
    "    freq[word] = freq.get(word, 0) + 1\n",
    "    \n",
    "min_key_value = (list(freq.items())[0])\n",
    "\n",
    "for (key, value) in freq.items():\n",
    "    if (min_key_value[1] > value) or (min_key_value[1] == value and min_key_value[0] > key):\n",
    "        min_key_value = (key, value)\n",
    "\n",
    "print(min_key_value[0])"
   ]
  },
  {
   "cell_type": "markdown",
   "id": "0b88cca2",
   "metadata": {},
   "source": [
    "# 14. Исправление дубликатов 🌶️\n",
    "На вход программе подается строка, содержащая строки-идентификаторы. Напишите программу, которая исправляет их так, чтобы в результирующей строке не было дубликатов. Для этого необходимо прибавлять к повторяющимся идентификаторам постфикс _n, где n – количество раз, сколько такой идентификатор уже встречался.\n",
    "\n",
    "#### Формат входных данных\n",
    "На вход программе подается строка текста, содержащая строки-идентификаторы, разделенные символом пробела.\n",
    "\n",
    "#### Формат выходных данных\n",
    "Программа должна вывести исправленную строку, не содержащую дубликатов сохранив при этом исходный порядок."
   ]
  },
  {
   "cell_type": "code",
   "execution_count": 165,
   "id": "fd8a4211",
   "metadata": {},
   "outputs": [
    {
     "name": "stdout",
     "output_type": "stream",
     "text": [
      "a b c a a d c\n",
      "a b c a_1 a_2 d c_1\n"
     ]
    }
   ],
   "source": [
    "lis = list(input().split())\n",
    "dict_of_num = {}\n",
    "res = []\n",
    "\n",
    "for w in lis:\n",
    "    dict_of_num[w] = dict_of_num.get(w,-1) + 1\n",
    "    if dict_of_num[w] > 0:\n",
    "        res.append(w + '_' + str(dict_of_num[w]))\n",
    "    else:\n",
    "        res.append(str(w))\n",
    "\n",
    "print(*res)"
   ]
  },
  {
   "cell_type": "markdown",
   "id": "b8f5d2e7",
   "metadata": {},
   "source": [
    "# 15. Словарь программиста\n",
    "Программисты, как вы уже знаете, постоянно учатся, а в общении между собой используют весьма специфический язык. Чтобы систематизировать ваш пополняющийся профессиональный лексикон, мы придумали эту задачу. Напишите программу создания небольшого словаря сленговых программерских выражений, чтобы она потом по запросу возвращала значения из этого словаря.\n",
    "\n",
    "#### Формат входных данных\n",
    "В первой строке задано одно целое число n — количество слов в словаре. В следующих n строках записаны слова и их определения, разделенные двоеточием и символом пробела. В следующей строке записано целое число m — количество поисковых слов, чье определение нужно вывести. В следующих m строках записаны сами слова, по одному на строке.\n",
    "\n",
    "#### Формат выходных данных\n",
    "Для каждого слова, независимо от регистра символов, если оно присутствует в словаре, необходимо вывести его определение. Если слова в словаре нет, программа должна вывести \"Не найдено\", без кавычек.\n",
    "\n",
    "<strong> Примечание. </strong> Гарантируется, что в определяемом слове или фразе отсутствует двоеточие (:), следом за которым идёт пробел."
   ]
  },
  {
   "cell_type": "code",
   "execution_count": 69,
   "id": "b32d4871",
   "metadata": {},
   "outputs": [
    {
     "name": "stdout",
     "output_type": "stream",
     "text": [
      "5\n",
      "Змея: язык программирования Python\n",
      "Баг: от англ. bug — жучок, клоп, ошибка в программе\n",
      "Конфа: конференция\n",
      "Костыль: код, который нужен, чтобы исправить несовершенство ранее написанного кода\n",
      "Бета: бета-версия, приложение на стадии публичного тестирования\n",
      "3\n",
      "Змея\n",
      "Жаба\n",
      "костыль\n",
      "язык программирования Python\n",
      "Не найдено\n",
      "код, который нужен, чтобы исправить несовершенство ранее написанного кода\n"
     ]
    }
   ],
   "source": [
    "n = int(input())\n",
    "dictionary = {}\n",
    "for _ in range(n):\n",
    "    item = input()\n",
    "    key_value = list(map(str, item.split(': ')))\n",
    "    dictionary.setdefault(key_value[0].lower(), key_value[1])\n",
    "\n",
    "m = int(input())\n",
    "lis = []\n",
    "for _ in range(m):\n",
    "    item = input().lower()\n",
    "    lis.append(dictionary.setdefault(item, 'Не найдено'))\n",
    "\n",
    "print(*lis, sep='\\n')"
   ]
  },
  {
   "cell_type": "markdown",
   "id": "c233394b",
   "metadata": {},
   "source": [
    "# 16. Анаграммы 1\n",
    "Анаграмма – слово (словосочетание), образованное путём перестановки букв, составляющих другое слово (или словосочетание). Например, английские слова evil и live – это анаграммы.\n",
    "\n",
    "На вход программе подаются два слова. Напишите программу, которая определяет, являются ли они анаграммами.\n",
    "\n",
    "#### Формат входных данных\n",
    "На вход программе подаются два слова, каждое на отдельной строке.\n",
    "\n",
    "##### Формат выходных данных\n",
    "Программа должна вывести YES если слова являются анаграммами и NO в противном случае."
   ]
  },
  {
   "cell_type": "code",
   "execution_count": 72,
   "id": "d7e7a88d",
   "metadata": {},
   "outputs": [
    {
     "name": "stdout",
     "output_type": "stream",
     "text": [
      "rat\n",
      "cat\n",
      "NO\n"
     ]
    }
   ],
   "source": [
    "n, m = input(), input()\n",
    "n_dict, m_dict = {}, {}\n",
    "n_list, m_list = list(n), list(m)\n",
    "\n",
    "for i in n_list:\n",
    "    n_dict[i] = n_dict.get(i, 0) + 1\n",
    "    \n",
    "for j in m_list:\n",
    "    m_dict[j] = m_dict.get(j, 0) + 1\n",
    "    \n",
    "if n_dict == m_dict:\n",
    "    print('YES')\n",
    "else:\n",
    "    print('NO')"
   ]
  },
  {
   "cell_type": "markdown",
   "id": "d6ec15ed",
   "metadata": {},
   "source": [
    "# 17. Анаграммы 2\n",
    "На вход программе подаются два предложения. Напишите программу, которая определяет, являются они анаграммами или нет. Ваша программа должна игнорировать регистр символов, знаки препинания и пробелы.\n",
    "\n",
    "#### Формат входных данных\n",
    "На вход программе подаются два предложения, каждое на отдельной строке.\n",
    "\n",
    "#### Формат выходных данных\n",
    "Программа должна вывести YES , если предложения – анаграммы и NO в противном случае.\n",
    "\n",
    "<strong> Примечание. </strong> Кроме слов в тексте могут присутствовать пробелы и знаки препинания .,!?:;-. Других символов в тексте нет."
   ]
  },
  {
   "cell_type": "code",
   "execution_count": 83,
   "id": "80843960",
   "metadata": {},
   "outputs": [
    {
     "name": "stdout",
     "output_type": "stream",
     "text": [
      "Вижу зверей\n",
      "Живу резвей\n",
      "YES\n"
     ]
    }
   ],
   "source": [
    "n, m = input().lower(), input().lower()\n",
    "n_dict, m_dict = {}, {}\n",
    "n_list, m_list = list(n), list(m)\n",
    "\n",
    "for i in n_list:\n",
    "    if i.isalpha():\n",
    "        n_dict[i] = n_dict.get(i, 0) + 1\n",
    "    \n",
    "for j in m_list:\n",
    "    if j.isalpha():\n",
    "        m_dict[j] = m_dict.get(j, 0) + 1\n",
    "    \n",
    "if n_dict == m_dict:\n",
    "    print('YES')\n",
    "else:\n",
    "    print('NO')"
   ]
  },
  {
   "cell_type": "markdown",
   "id": "998a44a4",
   "metadata": {},
   "source": [
    "# 18. Словарь синонимов\n",
    "Вам дан словарь, состоящий из пар слов-синонимов. Повторяющихся слов в словаре нет. Напишите программу, которая для одного данного слова определяет его синоним.\n",
    "\n",
    "#### Формат входных данных\n",
    "На вход программе подается количество пар синонимов n. Далее следует n строк, каждая строка содержит два слова-синонима. После этого следует одно слово, синоним которого надо найти.\n",
    "\n",
    "##### Формат выходных данных\n",
    "Программа должна вывести одно слово, синоним введенного.\n",
    "\n",
    "<strong> Примечание 1. </strong> Гарантируется, что синоним введенного слова существует в словаре.\n",
    "\n",
    "<strong> Примечание 2. </strong> Все слова в словаре начинаются с заглавной буквы."
   ]
  },
  {
   "cell_type": "code",
   "execution_count": 88,
   "id": "d8ea2f89",
   "metadata": {},
   "outputs": [
    {
     "name": "stdout",
     "output_type": "stream",
     "text": [
      "3\n",
      "Kind Affable\n",
      "Intellect Mind\n",
      "Popular Celebrated\n",
      "Popular\n",
      "Celebrated\n"
     ]
    }
   ],
   "source": [
    "n = int(input())\n",
    "dictionary = {}\n",
    "for _ in range(n):\n",
    "    item = input()\n",
    "    key_value = list(map(str, item.split()))\n",
    "    dictionary.setdefault(key_value[0], key_value[1])\n",
    "    dictionary.setdefault(key_value[1], key_value[0])\n",
    "\n",
    "print(dictionary[input()])"
   ]
  },
  {
   "cell_type": "markdown",
   "id": "417005b5",
   "metadata": {},
   "source": [
    "# 19. Страны и города\n",
    "На вход программе подается список стран и городов каждой страны. Затем даны названия городов. Напишите программу, которая для каждого города выводит, в какой стране он находится.\n",
    "\n",
    "#### Формат входных данных\n",
    "Программа получает на вход количество стран n. Далее идет n строк, каждая строка начинается с названия страны, затем идут названия городов этой страны. В следующей строке записано число m, далее идут m запросов — названия каких-то m городов, из перечисленных выше.\n",
    "\n",
    "#### Формат выходных данных\n",
    "Программа должна вывести название страны, в которой находится данный город в соответствии с примером."
   ]
  },
  {
   "cell_type": "code",
   "execution_count": 175,
   "id": "6eba0909",
   "metadata": {
    "scrolled": true
   },
   "outputs": [
    {
     "name": "stdout",
     "output_type": "stream",
     "text": [
      "2\n",
      "Германия Берлин Мюнхен Гамбург Дортмунд\n",
      "Нидерланды Амстердам Гаага Роттердам Алкмар\n",
      "4\n",
      "Амстердам\n",
      "Алкмар\n",
      "Гамбург\n",
      "Гаага\n",
      "Нидерланды\n",
      "Нидерланды\n",
      "Германия\n",
      "Нидерланды\n"
     ]
    }
   ],
   "source": [
    "n = int(input())\n",
    "dictionary = {}\n",
    "\n",
    "for i in range(n):\n",
    "    key_value = list(map(str,  input().split()))\n",
    "    key = key_value[0]\n",
    "    value = key_value[1:]\n",
    "    for j in range(len(value)):\n",
    "        dictionary.setdefault(value[j], key)\n",
    "        \n",
    "m = int(input())\n",
    "lis = []\n",
    "\n",
    "for _ in range(m):\n",
    "    city = input()\n",
    "    if city in dictionary.keys():\n",
    "        lis.append(dictionary[city])\n",
    "\n",
    "print(*lis, sep='\\n')"
   ]
  },
  {
   "cell_type": "markdown",
   "id": "c0f023db",
   "metadata": {},
   "source": [
    "# 20. Телефонная книга\n",
    "Тимур записал телефоны всех своих друзей, чтобы автоматизировать поиск нужного номера.\n",
    "\n",
    "У каждого из друзей Тимура может быть один или более телефонных номеров. Напишите программу, которая поможет Тимуру находить все номера определённого друга.\n",
    "\n",
    "#### Формат входных данных\n",
    "В первой строке задано одно целое число n — количество номеров телефонов, информацию о которых Тимур сохранил в телефонной книге. В следующих nn строках заданы телефоны и имена их владельцев через пробел. В следующей строке записано целое число m — количество поисковых запросов от Тимура. В следующих m строках записаны сами запросы, по одному на строке. Каждый запрос — это имя друга, чьи телефоны Тимур хочет найти.\n",
    "\n",
    "#### Формат выходных данных\n",
    "Для каждого запроса от Тимура выведите в отдельной строке все телефоны, принадлежащие человеку с этим именем (независимо от регистра имени). Если в телефонной книге нет телефонов человека с таким именем, выведите в соответствующей строке «абонент не найден» (без кавычек).\n",
    "\n",
    "<strong> Примечание 1. </strong> Телефоны одного человека выводите в одну строку через пробел в том порядке, в каком они были заданы во входных данных.\n",
    "\n",
    "<strong> Примечание 2. </strong> Количество строк в ответе должно быть равно числу m.\n",
    "\n",
    "<strong> Примечание 3. </strong> Телефон — это несколько цифр, записанных подряд, а имя может состоять из букв русского или английского алфавита. Записи не повторяются.\n",
    "\n",
    " "
   ]
  },
  {
   "cell_type": "code",
   "execution_count": 122,
   "id": "c6a85c8f",
   "metadata": {},
   "outputs": [
    {
     "name": "stdout",
     "output_type": "stream",
     "text": [
      "3\n",
      "79184219577 Женя\n",
      "79194249271 Руслан\n",
      "79281234567 Женя\n",
      "3\n",
      "Руслан\n",
      "женя\n",
      "Рустам\n",
      "79194249271\n",
      "79184219577 79281234567\n",
      "абонент не найден\n"
     ]
    }
   ],
   "source": [
    "n = int(input())\n",
    "dictionary = {}\n",
    "\n",
    "for _ in range(n):\n",
    "    value_key = list(map(str, input().lower().split()))\n",
    "    key = value_key[1]\n",
    "    value = value_key[0]\n",
    "    dictionary.setdefault(key, []).append(value)\n",
    "\n",
    "m = int(input())\n",
    "lis = []\n",
    "\n",
    "for _ in range(m):\n",
    "    word = input().lower()\n",
    "    add = dictionary.get(word, ['абонент не найден'])\n",
    "    lis.append(add)\n",
    "\n",
    "for i in range(m):\n",
    "        print(*lis[i])"
   ]
  },
  {
   "cell_type": "markdown",
   "id": "f107a52c",
   "metadata": {},
   "source": [
    "# 21. Секретное слово\n",
    "Напишите программу для расшифровки секретного слова методом частотного анализа.\n",
    "\n",
    "#### Формат входных данных\n",
    "В первой строке задано зашифрованное слово. Во второй строке задано одно целое число n – количество букв в словаре. В следующих n строках записано, сколько раз конкретная буква алфавита встречается в этом слове – <буква>: <частота>.\n",
    "\n",
    "#### Формат выходных данных\n",
    "Программа должна вывести дешифрованное слово.\n",
    "\n",
    "<strong> Примечание. </strong> Гарантируется, что частоты букв не повторяются."
   ]
  },
  {
   "cell_type": "code",
   "execution_count": 146,
   "id": "d992fb90",
   "metadata": {},
   "outputs": [
    {
     "name": "stdout",
     "output_type": "stream",
     "text": [
      "*!*!*?\n",
      "3\n",
      "а: 3\n",
      "н: 2\n",
      "с: 1\n",
      "ананас\n"
     ]
    }
   ],
   "source": [
    "secret_word, n = list(input()), int(input())\n",
    "\n",
    "freq = {}\n",
    "for char in secret_word:\n",
    "    freq[char] = freq.get(char, 0) + 1\n",
    "\n",
    "dic = {}\n",
    "for _ in range(n):\n",
    "    k_v = list(map(str, input().lower().split(': ')))\n",
    "    dic.setdefault(k_v[0], k_v[1])\n",
    "\n",
    "inv_dic = {str(value): str(key) for key, value in dic.items()}\n",
    "\n",
    "res = []\n",
    "\n",
    "for char in secret_word:\n",
    "    temp = str(freq[char])\n",
    "    res.append(str(inv_dic[temp]))\n",
    "    \n",
    "print(''.join(res))"
   ]
  },
  {
   "cell_type": "markdown",
   "id": "c3b3c721",
   "metadata": {},
   "source": [
    "# 22. \n",
    "Дополните приведенный код, используя генератор, так чтобы получить словарь result , в котором ключом будет позиция числа в списке numbers (начиная с 0), а значением – его квадрат.\n",
    "\n",
    "<strong> Примечание. </strong> Выводить содержимое словаря result не нужно."
   ]
  },
  {
   "cell_type": "code",
   "execution_count": 7,
   "id": "fbd75e3d",
   "metadata": {},
   "outputs": [],
   "source": [
    "numbers = [34, 10, -4, 6, 10, 23, -90, 100, 21, -35, -95, 1, 36, -38, -19, 1, 6, 87]\n",
    "\n",
    "result = {i: numbers[i]**2 for i in range(len(numbers))}"
   ]
  },
  {
   "cell_type": "markdown",
   "id": "edbc6571",
   "metadata": {},
   "source": [
    "# 23.\n",
    "Дополните приведенный код, используя генератор, чтобы получить словарь result, состоящий из всех элементов словаря colors, кроме тех, у которых значением является None.\n",
    "\n",
    "<strong> Примечание. </strong> Выводить содержимое словаря result не нужно."
   ]
  },
  {
   "cell_type": "code",
   "execution_count": 11,
   "id": "6a26c375",
   "metadata": {},
   "outputs": [],
   "source": [
    "colors = {'c1': 'Red', 'c2': 'Grey', 'c3': None, 'c4': 'Green', 'c5': 'Yellow', 'c6': 'Pink', 'c7': 'Orange', 'c8': None, 'c9': 'White', 'c10': 'Black', 'c11': 'Violet', 'c12': 'Gold', 'c13': None, 'c14': 'Amber', 'c15': 'Azure', 'c16': 'Beige', 'c17': 'Bronze', 'c18': None, 'c19': 'Lilac', 'c20': 'Pearl', 'c21': None, 'c22': 'Sand', 'c23': None}\n",
    "\n",
    "result = {key: value for (key, value) in colors.items() if value}"
   ]
  },
  {
   "cell_type": "markdown",
   "id": "5cedb274",
   "metadata": {},
   "source": [
    "# 24. \n",
    "Дополните приведенный код, используя генератор, чтобы получить словарь result, состоящий из всех элементов словаря favorite_numbers , значения которых являются двузначными числами.\n",
    "\n",
    "<strong> Примечание. </strong> Выводить содержимое словаря result не нужно."
   ]
  },
  {
   "cell_type": "code",
   "execution_count": 15,
   "id": "df48b9e9",
   "metadata": {},
   "outputs": [],
   "source": [
    "favorite_numbers = {'timur': 17, 'ruslan': 7, 'larisa': 19, 'roman': 123, 'rebecca': 293, 'ronald': 76, 'dorothy': 62, 'harold': 36, 'matt': 314, 'kim': 451, 'rosaly': 18, 'rustam': 89, 'soltan': 111, 'amir': 654, 'dima': 390, 'amiran': 777, 'geor': 999, 'sveta': 75, 'rita': 909, 'kirill': 404, 'olga': 271, 'anna': 55, 'madlen': 876}\n",
    "\n",
    "result = {key: value for (key, value) in favorite_numbers.items() if len(str(value)) == 2}"
   ]
  },
  {
   "cell_type": "markdown",
   "id": "c3421888",
   "metadata": {},
   "source": [
    "# 25.\n",
    "Дополните приведенный код, используя генератор, так, чтобы получить словарь result, состоящий из всех элементов словаря months , в которых ключ и значение поменялись местами.\n",
    "\n",
    "<strong> Примечание. </strong> Выводить содержимое словаря result не нужно."
   ]
  },
  {
   "cell_type": "code",
   "execution_count": 18,
   "id": "f65a844b",
   "metadata": {},
   "outputs": [],
   "source": [
    "months = {1: 'January', 2: 'February', 3: 'March', 4: 'April', 5: 'May', 6: 'June', 7: 'July', 8: 'August', 9: 'September', 10: 'October', 11: 'November', 12: 'December'}\n",
    "\n",
    "result = {value: key for (key, value) in months.items()}"
   ]
  },
  {
   "cell_type": "markdown",
   "id": "5bf2d6fb",
   "metadata": {},
   "source": [
    "# 26.\n",
    "В переменной s хранится строка пар число:слово. Дополните приведенный код, используя генератор, чтобы получить словарь result , в котором числа будут ключами, а слова – значениями.\n",
    "\n",
    "<strong> Примечание 1. </strong> Ключи словаря должны быть целыми числами (иметь тип int), значения – строками (иметь тип str).\n",
    "\n",
    "<strong> Примечание 2. </strong> Выводить содержимое словаря result не нужно."
   ]
  },
  {
   "cell_type": "code",
   "execution_count": 32,
   "id": "b8d198cc",
   "metadata": {},
   "outputs": [],
   "source": [
    "s = '1:men 2:kind 90:number 0:sun 34:book 56:mountain 87:wood 54:car 3:island 88:power 7:box 17:star 101:ice'\n",
    "\n",
    "result = {int(i.split(':')[0]): str(i.split(':')[1]) for i in list(s.split())}"
   ]
  },
  {
   "cell_type": "markdown",
   "id": "0151b0c9",
   "metadata": {},
   "source": [
    "\n",
    "# 27.\n",
    "Используя генератор, дополните приведенный код, чтобы получить словарь result , где ключом будет элемент списка numbers, а значением – отсортированный по возрастанию список всех его делителей начиная с 1.\n",
    "\n",
    "<strong> Примечание 1. </strong> Если бы список numbers имел вид: numbers = [1,  6,  18], то результатом был бы словарь\n",
    "\n",
    "result = {1:  [1] ,  6:  [1,  2,  3,  6],  18:  [1,  2,  3,  6,  9,  18]}\n",
    "\n",
    "<strong> Примечание 2. </strong> Выводить содержимое словаря result не нужно. "
   ]
  },
  {
   "cell_type": "code",
   "execution_count": 40,
   "id": "1fe8642d",
   "metadata": {},
   "outputs": [],
   "source": [
    "numbers = [34, 10, 4, 6, 10, 23, 90, 100, 21, 35, 95, 1, 36, 38, 19, 1, 6, 87, 1000, 13456, 360]\n",
    "\n",
    "result = {i: [j for j in range(1, i + 1) if i % j == 0] for i in numbers}"
   ]
  },
  {
   "cell_type": "markdown",
   "id": "9f2c3d22",
   "metadata": {},
   "source": [
    "# 28.\n",
    "Дополните приведенный код, используя генератор, так, чтобы получить словарь result , в котором ключом будет строка – элемент списка words, а значением – список соответствующих кодов ASCII символов данной строки.\n",
    "\n",
    "\n",
    "<strong> Примечание 1. </strong> Если бы список words имел вид: words = ['yes', 'hello'], то результатом был бы словарь\n",
    "\n",
    "result = {'yes': [121, 101, 115], 'hello': [104, 101, 108, 108, 111]}\n",
    "\n",
    "\n",
    "<strong> Примечание 2. </strong> Для получения ASCII кода символа используйте функцию ord().\n",
    "\n",
    "\n",
    "<strong> Примечание 3. </strong> Выводить содержимое словаря result не нужно."
   ]
  },
  {
   "cell_type": "code",
   "execution_count": 43,
   "id": "3a025082",
   "metadata": {},
   "outputs": [],
   "source": [
    "words = ['hello', 'bye', 'yes', 'no', 'python', 'apple', 'maybe', 'stepik', 'beegeek']\n",
    "\n",
    "result = {item: [ord(i) for i in item] for item in words}"
   ]
  },
  {
   "cell_type": "markdown",
   "id": "8c672cca",
   "metadata": {},
   "source": [
    "# 29.\n",
    "Дополните приведенный код, используя генератор, чтобы получить словарь result, состоящий из всех элементов словаря letters , за исключением тех, ключи которых есть в списке remove_keys.\n",
    "\n",
    "<strong> Примечание. </strong> Выводить содержимое словаря result не нужно."
   ]
  },
  {
   "cell_type": "code",
   "execution_count": 45,
   "id": "31a27d44",
   "metadata": {},
   "outputs": [],
   "source": [
    "letters = {0: 'A', 1: 'B', 2: 'C', 3: 'D', 4: 'E', 5: 'F', 6: 'G', 7: 'H', 8: 'I', 9: 'J', 10: 'K', 11: 'L', 12: 'M', 13: 'N', 14: 'O', 15: 'P', 16: 'Q', 17: 'R', 18: 'S', 19: 'T', 20: 'U', 21: 'V', 22: 'W', 23: 'X', 24: 'Y', 26: 'Z'}\n",
    "\n",
    "remove_keys = [1, 5, 7, 12, 17, 19, 21, 24]\n",
    "\n",
    "result = {key: value for (key, value) in letters.items() if key not in remove_keys}"
   ]
  },
  {
   "cell_type": "markdown",
   "id": "af127fe8",
   "metadata": {},
   "source": [
    "# 30.\n",
    "В переменной students хранится словарь, содержащий информацию о росте (в см) и весе (в кг) студентов.\n",
    "\n",
    "Дополните приведенный код, используя генератор, чтобы получить словарь result, состоящий из всех элементов словаря students , где указан рост больше 167 см, а вес меньше 75 кг.\n",
    "\n",
    "<strong> Примечание. </strong> Выводить содержимое словаря result не нужно."
   ]
  },
  {
   "cell_type": "code",
   "execution_count": 48,
   "id": "167ab941",
   "metadata": {},
   "outputs": [],
   "source": [
    "students = {'Timur': (170, 75), 'Ruslan': (180, 105), 'Soltan': (192, 68), 'Roman': (175, 70), 'Madlen': (160, 50), 'Stefani': (165, 70), 'Tom': (190, 90), 'Jerry': (180, 87), 'Anna': (172, 67), 'Scott': (168, 78), 'John': (186, 79), 'Alex': (195, 120), 'Max': (200, 110), 'Barak': (180, 89), 'Donald': (170, 80), 'Rustam': (186, 100), 'Alice': (159, 59), 'Rita': (170, 80), 'Mary': (175, 69), 'Jane': (190, 80)}\n",
    "\n",
    "result = {key: value for (key, value) in students.items() if (value[0] > 167) and (value[1] < 75)}"
   ]
  },
  {
   "cell_type": "markdown",
   "id": "c77a1de4",
   "metadata": {},
   "source": [
    "# 31.\n",
    "Список tuples содержит кортежи, состоящие из трех чисел.\n",
    "\n",
    "Дополните приведенный код, используя генератор, чтобы получить словарь result, в котором ключом является первый элемент каждого кортежа, а значением – кортеж из оставшихся двух элементов.\n",
    "\n",
    "<strong> Примечание. </strong> Выводить содержимое словаря result не нужно."
   ]
  },
  {
   "cell_type": "code",
   "execution_count": 51,
   "id": "3b26b65e",
   "metadata": {},
   "outputs": [],
   "source": [
    "tuples = [(1, 2, 3), (4, 5, 6), (7, 8, 9), (10, 11, 12), (13, 14, 15), (16, 17, 18), (19, 20, 21), (22, 23, 24), (25, 26, 27), (28, 29, 30), (31, 32, 33), (34, 35, 36)]\n",
    "\n",
    "result = {int(tup[0]): tuple(tup[1:]) for tup in tuples}"
   ]
  },
  {
   "cell_type": "markdown",
   "id": "a2fbfdae",
   "metadata": {},
   "source": [
    "# 32. \n",
    "Даны три списка student_ids, student_names, student_grades, содержащие информацию о студентах.\n",
    "\n",
    "Дополните приведенный код, используя генератор, так чтобы получить список result, содержащий вложенные словари в соответствии с образцом: [{'S001': {'Camila Rodriguez': 86}}, {'S002': {'Juan Cruz': 98}},...].\n",
    "\n",
    "<strong> Примечание 1. </strong> Для параллельной итерации по всем трем спискам одновременно можно использовать встроенную функцию zip().\n",
    "\n",
    "<strong> Примечание 2. </strong> Выводить содержимое списка result не нужно."
   ]
  },
  {
   "cell_type": "code",
   "execution_count": 14,
   "id": "b15ece97",
   "metadata": {},
   "outputs": [],
   "source": [
    "student_ids = ['S001', 'S002', 'S003', 'S004', 'S005', 'S006', 'S007', 'S008', 'S009', 'S010', 'S011', 'S012', 'S013'] \n",
    "student_names = ['Camila Rodriguez', 'Juan Cruz', 'Dan Richards', 'Sam Boyle', 'Batista Cesare', 'Francesco Totti', 'Khalid Hussain', 'Ethan Hawke', 'David Bowman', 'James Milner', 'Michael Owen', 'Gary Oldman', 'Tom Hardy'] \n",
    "student_grades = [86, 98, 89, 92, 45, 67, 89, 90, 100, 98, 10, 96, 93]\n",
    "\n",
    "result = [{student[0]: {student[1]: student[2]}} for student in zip(student_ids, student_names, student_grades)]"
   ]
  },
  {
   "cell_type": "code",
   "execution_count": null,
   "id": "efba4ae5",
   "metadata": {},
   "outputs": [],
   "source": []
  }
 ],
 "metadata": {
  "kernelspec": {
   "display_name": "Python 3 (ipykernel)",
   "language": "python",
   "name": "python3"
  },
  "language_info": {
   "codemirror_mode": {
    "name": "ipython",
    "version": 3
   },
   "file_extension": ".py",
   "mimetype": "text/x-python",
   "name": "python",
   "nbconvert_exporter": "python",
   "pygments_lexer": "ipython3",
   "version": "3.9.12"
  }
 },
 "nbformat": 4,
 "nbformat_minor": 5
}
