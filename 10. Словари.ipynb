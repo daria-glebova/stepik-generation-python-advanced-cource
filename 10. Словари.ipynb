{
 "cells": [
  {
   "cell_type": "markdown",
   "id": "405050a3",
   "metadata": {},
   "source": [
    "# 1.\n",
    "Дополните приведенный код так, чтобы он вывел сумму минимального и максимального ключа в словаре my_dict."
   ]
  },
  {
   "cell_type": "code",
   "execution_count": 1,
   "id": "6a0c5fd6",
   "metadata": {},
   "outputs": [
    {
     "name": "stdout",
     "output_type": "stream",
     "text": [
      "99.12\n"
     ]
    }
   ],
   "source": [
    "my_dict = {1.12: 'aa', 67.9: 45, 3.11: 'ccc', 7.9: 'dd', 9.2: 'ee', 7.1: 'ff', 0.12: 'qq', 1.91: 'aa', 10.12: [1, 2, 3], 99.0: {9, 0, 1}}\n",
    "\n",
    "print(min(my_dict) + max(my_dict))"
   ]
  },
  {
   "cell_type": "markdown",
   "id": "1b2c051c",
   "metadata": {},
   "source": [
    "# 2.\n",
    "Дополните приведенный код, чтобы он вывел имена всех пользователей (в алфавитном порядке), чей номер оканчивается на 8.\n",
    "\n",
    "<strong> Примечание. </strong> Имена необходимо вывести на одной строке, разделяя символом пробела."
   ]
  },
  {
   "cell_type": "code",
   "execution_count": 2,
   "id": "21146116",
   "metadata": {},
   "outputs": [
    {
     "name": "stdout",
     "output_type": "stream",
     "text": [
      "Helga LJ Maria Riyad Ruslan\n"
     ]
    }
   ],
   "source": [
    "users = [{'name': 'Todd', 'phone': '551-1414', 'email': 'todd@gmail.com'},\n",
    "         {'name': 'Helga', 'phone': '555-1618', 'email': 'helga@mail.net'},\n",
    "         {'name': 'Olivia', 'phone': '449-3141', 'email': ''},\n",
    "         {'name': 'LJ', 'phone': '555-2718', 'email': 'lj@gmail.net'},\n",
    "         {'name': 'Ruslan', 'phone': '422-145-9098', 'email': 'rus-lan.cha@yandex.ru'},\n",
    "         {'name': 'John', 'phone': '233-421-32', 'email': ''},\n",
    "         {'name': 'Lara', 'phone': '+7998-676-2532', 'email': 'g.lara89@gmail.com'},\n",
    "         {'name': 'Alina', 'phone': '+7948-799-2434', 'email': 'ali.ch.b@gmail.com'},\n",
    "         {'name': 'Robert', 'phone': '420-2011', 'email': ''},\n",
    "         {'name': 'Riyad', 'phone': '128-8890-128', 'email': 'r.mahrez@mail.net'},\n",
    "         {'name': 'Khabib', 'phone': '+7995-600-9080', 'email': 'kh.nurmag@gmail.com'},\n",
    "         {'name': 'Olga', 'phone': '6449-314-1213', 'email': ''},\n",
    "         {'name': 'Roman', 'phone': '+7459-145-8059', 'email': 'roma988@mail.ru'},\n",
    "         {'name': 'Maria', 'phone': '12-129-3148', 'email': 'm.sharapova@gmail.com'},\n",
    "         {'name': 'Fedor', 'phone': '+7445-341-0545', 'email': ''},\n",
    "         {'name': 'Tim', 'phone': '242-449-3141', 'email': 'timm.ggg@yandex.ru'}]\n",
    "\n",
    "result = []\n",
    "for i in users:\n",
    "    if i['phone'][-1] == '8':\n",
    "        result.append(i['name'])\n",
    "\n",
    "print(*sorted(result))"
   ]
  },
  {
   "cell_type": "markdown",
   "id": "fd3f17bd",
   "metadata": {},
   "source": [
    "# 3.\n",
    "Дополните приведенный код, чтобы он вывел имена всех пользователей (в алфавитном порядке), у которых нет информации об электронной почте. \n",
    "\n",
    "<strong> Примечание 1. </strong> Ключ email может отсутствовать в словаре.\n",
    "\n",
    "<strong> Примечание 2. </strong> Имена необходимо вывести на одной строке, разделяя символом пробела."
   ]
  },
  {
   "cell_type": "code",
   "execution_count": 6,
   "id": "af741cdd",
   "metadata": {},
   "outputs": [
    {
     "name": "stdout",
     "output_type": "stream",
     "text": [
      "Alina Fedor Helga John Olga Olivia Robert Roman\n"
     ]
    }
   ],
   "source": [
    "users = [{'name': 'Todd', 'phone': '551-1414', 'email': 'todd@gmail.com'},\n",
    "         {'name': 'Helga', 'phone': '555-1618'},\n",
    "         {'name': 'Olivia', 'phone': '449-3141', 'email': ''},\n",
    "         {'name': 'LJ', 'phone': '555-2718', 'email': 'lj@gmail.net'},\n",
    "         {'name': 'Ruslan', 'phone': '422-145-9098', 'email': 'rus-lan.cha@yandex.ru'},\n",
    "         {'name': 'John', 'phone': '233-421-32', 'email': ''},\n",
    "         {'name': 'Lara', 'phone': '+7998-676-2532', 'email': 'g.lara89@gmail.com'},\n",
    "         {'name': 'Alina', 'phone': '+7948-799-2434'},\n",
    "         {'name': 'Robert', 'phone': '420-2011', 'email': ''},\n",
    "         {'name': 'Riyad', 'phone': '128-8890-128', 'email': 'r.mahrez@mail.net'},\n",
    "         {'name': 'Khabib', 'phone': '+7995-600-9080', 'email': 'kh.nurmag@gmail.com'},\n",
    "         {'name': 'Olga', 'phone': '6449-314-1213', 'email': ''},\n",
    "         {'name': 'Roman', 'phone': '+7459-145-8059'},\n",
    "         {'name': 'Maria', 'phone': '12-129-3148', 'email': 'm.sharapova@gmail.com'},\n",
    "         {'name': 'Fedor', 'phone': '+7445-341-0545', 'email': ''},\n",
    "         {'name': 'Tim', 'phone': '242-449-3141', 'email': 'timm.ggg@yandex.ru'}]\n",
    "\n",
    "result = []\n",
    "\n",
    "for i in users:\n",
    "    if 'email' in i:\n",
    "        if i['email'] == '':\n",
    "            result.append(i['name'])\n",
    "    else:\n",
    "        result.append(i['name'])\n",
    "\n",
    "print(*sorted(result))"
   ]
  },
  {
   "cell_type": "markdown",
   "id": "30cdfc36",
   "metadata": {},
   "source": [
    "# 4. Строковое представление\n",
    "Напишите программу, которая будет превращать натуральное число в строку, заменяя все цифры в числе на слова:\n",
    "\n",
    "- 0 на zero;\n",
    "- 1 на one;\n",
    "- 2 на two;\n",
    "- 3 на three;\n",
    "- 4 на four;\n",
    "- 5 на five;\n",
    "- 6 на six;\n",
    "- 7 на seven;\n",
    "- 8 на eight;\n",
    "- 9 на nine.\n",
    "\n",
    "#### Формат входных данных\n",
    "На вход программе подается натуральное число.\n",
    "\n",
    "#### Формат выходных данных\n",
    "Программа должна вывести строковое представление числа.\n",
    "\n",
    "<strong> Примечание. </strong> Используйте словарь вместо условного оператора."
   ]
  },
  {
   "cell_type": "code",
   "execution_count": 8,
   "id": "a32fba1d",
   "metadata": {},
   "outputs": [
    {
     "name": "stdout",
     "output_type": "stream",
     "text": [
      "230\n",
      "two three zero\n"
     ]
    }
   ],
   "source": [
    "my_dict = {\"0\": \"zero\",\n",
    "           \"1\": \"one\",\n",
    "           \"2\": \"two\",\n",
    "           \"3\": \"three\",\n",
    "           \"4\": \"four\",\n",
    "           \"5\": \"five\",\n",
    "           \"6\": \"six\",\n",
    "           \"7\": \"seven\",\n",
    "           \"8\": \"eight\",\n",
    "           \"9\": \"nine\"}\n",
    "\n",
    "my_list = [i for i in input()]\n",
    "result = []\n",
    "\n",
    "for num in my_list:\n",
    "    result.append(my_dict[num])\n",
    "\n",
    "print(*result)"
   ]
  }
 ],
 "metadata": {
  "kernelspec": {
   "display_name": "Python 3 (ipykernel)",
   "language": "python",
   "name": "python3"
  },
  "language_info": {
   "codemirror_mode": {
    "name": "ipython",
    "version": 3
   },
   "file_extension": ".py",
   "mimetype": "text/x-python",
   "name": "python",
   "nbconvert_exporter": "python",
   "pygments_lexer": "ipython3",
   "version": "3.9.12"
  }
 },
 "nbformat": 4,
 "nbformat_minor": 5
}
