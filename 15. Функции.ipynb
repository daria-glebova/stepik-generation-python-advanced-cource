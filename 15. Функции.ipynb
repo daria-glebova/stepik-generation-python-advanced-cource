{
 "cells": [
  {
   "cell_type": "markdown",
   "id": "6274c74a",
   "metadata": {},
   "source": [
    "# 1.\n",
    "\n",
    "Напишите функцию matrix(), которая создает, заполняет и возвращает матрицу заданного размера. При этом (в зависимости от переданных аргументов) она должна вести себя так:\n",
    "\n",
    "\n",
    "- matrix() — возвращает матрицу 1× 1, в которой единственное число равно нулю;\n",
    "- matrix(n) — возвращает матрицу n × n, заполненную нулями;\n",
    "- matrix(n, m) — возвращает матрицу из n строк и m столбцов, заполненную нулями;\n",
    "- matrix(n, m, value) — возвращает матрицу из n строк и m столбцов, в которой каждый элемент равен числу value.\n",
    "\n",
    "При создании функции пользуйтесь аргументами по умолчанию.\n",
    "\n",
    "<strong> Примечание 1. </strong> Приведенный ниже код:\n",
    "\n",
    "print(matrix())                   # матрица 1 × 1 из 0\n",
    "\n",
    "print(matrix(3))                  # матрица 3 × 3 из 0\n",
    "\n",
    "print(matrix(2, 5))               # матрица 2 × 5 из 0\n",
    "\n",
    "print(matrix(3, 4, 9))            # матрица 3 × 4 из 9\n",
    "\n",
    "\n",
    "должен выводить:\n",
    "\n",
    "[[0]]\n",
    "\n",
    "[[0, 0, 0], [0, 0, 0], [0, 0, 0]]\n",
    "\n",
    "[[0, 0, 0, 0, 0], [0, 0, 0, 0, 0]]\n",
    "\n",
    "[[9, 9, 9, 9], [9, 9, 9, 9], [9, 9, 9, 9]]\n",
    "\n",
    "<strong> Примечание 2. </strong> Вызывать функцию matrix() не нужно, требуется только реализовать ее."
   ]
  },
  {
   "cell_type": "code",
   "execution_count": 12,
   "id": "5518bf42",
   "metadata": {},
   "outputs": [
    {
     "name": "stdout",
     "output_type": "stream",
     "text": [
      "[[9, 9, 9, 9], [9, 9, 9, 9], [9, 9, 9, 9]]\n"
     ]
    }
   ],
   "source": [
    "def matrix(n=1, m=None, value=0):\n",
    "    \n",
    "    if m is None:\n",
    "        matrix = [[value] * n for _ in range(n)]\n",
    "    \n",
    "    else:\n",
    "        matrix = [[value] * m for _ in range(n)]\n",
    "    \n",
    "    return matrix\n",
    "\n",
    "print(matrix(3,4,9))"
   ]
  },
  {
   "cell_type": "markdown",
   "id": "f425298d",
   "metadata": {},
   "source": [
    "# 2.\n",
    "\n",
    "Напишите функцию count_args(), которая принимает произвольное количество аргументов и возвращает количество переданных в нее аргументов.\n",
    "\n",
    "<strong> Примечание 1. </strong> Обратите внимание, что функция должна принимать не список, а именно произвольное количество аргументов.\n",
    "\n",
    "<strong> Примечание 2. </strong> Следующий программный код:\n",
    "\n",
    "print(count_args())\n",
    "\n",
    "print(count_args(10))\n",
    "\n",
    "print(count_args('stepik', 'beegeek'))\n",
    "\n",
    "print(count_args([], (''), 'a', 12, False))\n",
    "\n",
    "\n",
    "должен выводить:\n",
    "\n",
    "0\n",
    "\n",
    "1\n",
    "\n",
    "2\n",
    "\n",
    "5\n",
    "\n",
    "<strong> Примечание 3. </strong> Вызывать функцию count_args() не нужно, требуется только реализовать."
   ]
  },
  {
   "cell_type": "code",
   "execution_count": null,
   "id": "8c8780ea",
   "metadata": {},
   "outputs": [],
   "source": [
    "def count_args(*args):\n",
    "    return(len(args))"
   ]
  },
  {
   "cell_type": "markdown",
   "id": "ee7be45b",
   "metadata": {},
   "source": [
    "# 3.\n",
    "\n",
    "Напишите функцию sq_sum(), которая принимает произвольное количество числовых аргументов и возвращает сумму их квадратов.\n",
    "\n",
    "<strong> Примечание 1. </strong> Обратите внимание, что функция должна принимать не список, а именно произвольное количество аргументов.\n",
    "\n",
    "<strong> Примечание 2. </strong> Следующий программный код:\n",
    "\n",
    "print(sq_sum())\n",
    "\n",
    "print(sq_sum(2))\n",
    "\n",
    "print(sq_sum(1.5, 2.5))\n",
    "\n",
    "print(sq_sum(1, 2, 3))\n",
    "\n",
    "print(sq_sum(1, 2, 3, 4, 5, 6, 7, 8, 9, 10))\n",
    "\n",
    "должен выводить:\n",
    "\n",
    "0\n",
    "\n",
    "4\n",
    "\n",
    "8.5\n",
    "\n",
    "14\n",
    "\n",
    "385\n",
    "\n",
    "<strong> Примечание 3. </strong> Вызывать функцию sq_sum() не нужно, требуется только реализовать."
   ]
  },
  {
   "cell_type": "code",
   "execution_count": null,
   "id": "a8da66e7",
   "metadata": {},
   "outputs": [],
   "source": [
    "def sq_sum(*args):\n",
    "    Sum = 0\n",
    "    for i in args:\n",
    "        Sum += i**2\n",
    "    return Sum"
   ]
  },
  {
   "cell_type": "markdown",
   "id": "1efa0f99",
   "metadata": {},
   "source": [
    "# 4.\n",
    "\n",
    "Напишите функцию mean(), которая принимает произвольное количество аргументов и возвращает среднее арифметическое переданных в нее числовых (int или float) аргументов.\n",
    "\n",
    "<strong> Примечание 1. </strong> Обратите внимание, что функция должна принимать не список, а именно произвольное количество аргументов.\n",
    "\n",
    "<strong> Примечание 2. </strong> Функция должна игнорировать аргументы всех типов, кроме int или float.\n",
    "\n",
    "<strong> Примечание 3. </strong> Следующий программный код:\n",
    "\n",
    "print(mean())\n",
    "\n",
    "print(mean(7))\n",
    "\n",
    "print(mean(1.5, True, ['stepik'], 'beegeek', 2.5, (1, 2)))\n",
    "\n",
    "print(mean(True, ['stepik'], 'beegeek', (1, 2)))\n",
    "\n",
    "print(mean(-1, 2, 3, 10, ('5')))\n",
    "\n",
    "print(mean(1, 2, 3, 4, 5, 6, 7, 8, 9, 10))\n",
    "\n",
    "должен выводить:\n",
    "\n",
    "0.0\n",
    "\n",
    "7.0\n",
    "\n",
    "2.0\n",
    "\n",
    "0.0\n",
    "\n",
    "3.5\n",
    "\n",
    "5.5\n",
    "\n",
    "<strong> Примечание 4. </strong> Для проверки типа можно использовать встроенную функцию type().\n",
    "\n",
    "<strong> Примечание 5. </strong> Вызывать функцию mean() не нужно, требуется только реализовать"
   ]
  },
  {
   "cell_type": "code",
   "execution_count": null,
   "id": "c8e3665f",
   "metadata": {},
   "outputs": [],
   "source": [
    "def mean(*args):\n",
    "    Sum = 0\n",
    "    count = 0\n",
    "    for arg in args:\n",
    "        if type(arg) == int or type(arg) == float:\n",
    "            Sum += arg\n",
    "            count += 1\n",
    "    if count == 0:\n",
    "        avg = 0\n",
    "    else:\n",
    "        avg = Sum / count\n",
    "    return avg"
   ]
  },
  {
   "cell_type": "markdown",
   "id": "0873e44a",
   "metadata": {},
   "source": [
    "# 5. \n",
    "\n",
    "Напишите функцию greet(), которая принимает произвольное количество аргументов строк имен (как минимум одно) и возвращает приветствие в соответствии с образцом.\n",
    "\n",
    "<strong> Примечание 1. </strong> Обратите внимание, что функция должна принимать не список, а именно произвольное количество аргументов.\n",
    "\n",
    "<strong> Примечание 2. </strong> Следующий программный код:\n",
    "\n",
    "print(greet('Timur'))\n",
    "\n",
    "print(greet('Timur', 'Roman'))\n",
    "\n",
    "print(greet('Timur', 'Roman', 'Ruslan'))\n",
    "\n",
    "должен выводить:\n",
    "\n",
    "Hello, Timur!\n",
    "\n",
    "Hello, Timur and Roman!\n",
    "\n",
    "Hello, Timur and Roman and Ruslan!\n",
    "\n",
    "<strong> Примечание 3. </strong> Функция greet() должна принимать как минимум один обязательный аргумент!\n",
    "\n",
    "<strong> Примечание 4. </strong> Вызывать функцию greet() не нужно, требуется только реализовать."
   ]
  },
  {
   "cell_type": "code",
   "execution_count": null,
   "id": "9894c298",
   "metadata": {},
   "outputs": [],
   "source": [
    "def greet(name, *args):\n",
    "    \n",
    "    arg = ['Hello,', name]\n",
    "    \n",
    "    if len(args) > 0:\n",
    "        for a in args:\n",
    "            arg.extend(['and'])\n",
    "            arg.extend([a])\n",
    "            \n",
    "    greet = ' '.join(arg)\n",
    "    \n",
    "    return greet + '!'"
   ]
  },
  {
   "cell_type": "markdown",
   "id": "ac77016b",
   "metadata": {},
   "source": [
    "# 6. \n",
    "\n",
    "Напишите функцию print_products(), которая принимает произвольное количество аргументов и выводит список продуктов (любая непустая строка) по образцу: <номер продукта>) <название продукта> (нумерация продуктов начинается с единицы). Если среди переданных аргументов нет ни одного продукта, необходимо вывести текст Нет продуктов.\n",
    "\n",
    "<strong> Примечание 1. </strong> Обратите внимание, что функция должна принимать не список, а именно произвольное количество аргументов.\n",
    "\n",
    "<strong> Примечание 2. </strong> Числа, списки, кортежи, словари, множества и другие нестроковые объекты продуктами не являются и их нужно игнорировать.\n",
    "\n",
    "<strong> Примечание 3. </strong> Следующий программный код:\n",
    "\n",
    "print_products('Бананы', [1, 2], ('Stepik',), 'Яблоки', '', 'Макароны', 5, True)\n",
    "\n",
    "должен выводить:\n",
    "\n",
    "1) Бананы\n",
    "\n",
    "2) Яблоки\n",
    "\n",
    "3) Макароны\n",
    "\n",
    "Следующий программный код:\n",
    "\n",
    "print_products([4], {}, 1, 2, {'Beegeek'}, '') \n",
    "\n",
    "должен выводить:\n",
    "\n",
    "Нет продуктов\n",
    "\n",
    "<strong> Примечание 4. </strong> Обратите внимание: функция print_products() должна выводить (печатать) нужное значение, а не возвращать его.\n",
    "\n",
    "<strong> Примечание 5. </strong> Вызывать функцию print_products() не нужно, требуется только реализовать."
   ]
  },
  {
   "cell_type": "code",
   "execution_count": null,
   "id": "ed433d06",
   "metadata": {},
   "outputs": [],
   "source": [
    "def print_products(*args):\n",
    "    \n",
    "    strings = []\n",
    "    for i in args:\n",
    "        if type(i) == str and len(i) > 0:\n",
    "            strings.append(i)\n",
    "    \n",
    "    if len(args) == 0 or len(strings) == 0:\n",
    "        print('Нет продуктов')\n",
    "    else:\n",
    "        for count, value in enumerate(strings, 1):\n",
    "            print(str(count) + ') ' + str(value))"
   ]
  },
  {
   "cell_type": "markdown",
   "id": "aef31a6d",
   "metadata": {},
   "source": [
    "# 7. \n",
    "\n",
    "Напишите функцию info_kwargs(), которая принимает произвольное количество именованных аргументов и печатает именованные аргументы в соответствии с образцом: <имя аргумента>: <значение аргумента>, при этом имена аргументов следуют в алфавитном порядке (по возрастанию).\n",
    "\n",
    "<strong> Примечание 1. </strong> Обратите внимание, что функция должна принимать не список, а именно произвольное количество именованных аргументов.\n",
    "\n",
    "<strong> Примечание 2. </strong> Следующий программный код:\n",
    "\n",
    "info_kwargs(first_name='Timur', last_name='Guev', age=28, job='teacher') \n",
    "\n",
    "должен выводить:\n",
    "\n",
    "age: 28\n",
    "\n",
    "first_name: Timur\n",
    "\n",
    "job: teacher\n",
    "\n",
    "last_name: Guev\n",
    "\n",
    "<strong> Примечание 3. </strong> Вызывать функцию info_kwargs() не нужно, требуется только реализовать."
   ]
  },
  {
   "cell_type": "code",
   "execution_count": null,
   "id": "9bb0a0a5",
   "metadata": {},
   "outputs": [],
   "source": [
    "def info_kwargs(**kwargs):\n",
    "    for (key, value) in sorted(kwargs.items()):\n",
    "        print(str(key) + ': ' + str(value))"
   ]
  },
  {
   "cell_type": "markdown",
   "id": "5c58c8b1",
   "metadata": {},
   "source": [
    "# 8. \n",
    "\n",
    "Дан список numbers, содержащий кортежи чисел. Напишите программу, которая с помощью встроенных функций min() и max() выводит те кортежи (каждый на отдельной строке), которые имеют минимальное и максимальное среднее арифметическое значение элементов.\n",
    "\n",
    "<strong> Примечание. </strong> Используйте необязательный аргумент key."
   ]
  },
  {
   "cell_type": "code",
   "execution_count": null,
   "id": "653b58f7",
   "metadata": {},
   "outputs": [],
   "source": [
    "from statistics import mean\n",
    "\n",
    "numbers = [(10, 10, 10), (30, 45, 56), (81, 39), (1, 2, 3), (12,), (-2, -4, 100), (1, 2, 99), (89, 9, 34), (10, 20, 30, -2), (50, 40, 50), (34, 78, 65), (-5, 90, -1, -5), (1, 2, 3, 4, 5, 6), (-9, 8, 4), (90, 1, -45, -21)]\n",
    "\n",
    "print(min(numbers, key=mean))\n",
    "print(max(numbers, key=mean))"
   ]
  },
  {
   "cell_type": "markdown",
   "id": "27d4f646",
   "metadata": {},
   "source": [
    "# 9.\n",
    "\n",
    "Напишите программу, которая сортирует список points координат точек плоскости в соответствии с расстоянием от начала координат (точки (0; 0)). Программа должна вывести отсортированный список.\n",
    "\n",
    "<strong> Примечание 1. </strong> Расстояние от начала координат O(0; 0) до точки A(x; y) равно OA = sqrt(x^2 + y^2).\n",
    "\n",
    "<strong> Примечание 2. </strong> Используйте необязательный аргумент key."
   ]
  },
  {
   "cell_type": "code",
   "execution_count": 46,
   "id": "d2f572d4",
   "metadata": {},
   "outputs": [
    {
     "name": "stdout",
     "output_type": "stream",
     "text": [
      "[(0, 0), (0, 1), (-1, 1), (2, 0), (3, 0), (-1, 3), (-3, 2), (4, 3), (3, 6), (5, 6), (-9, 1), (8, 8), (12, 0)]\n"
     ]
    }
   ],
   "source": [
    "import math\n",
    "\n",
    "points = [(-1, 1), (5, 6), (12, 0), (4, 3), (0, 1), (-3, 2), (0, 0), (-1, 3), (2, 0), (3, 0), (-9, 1), (3, 6), (8, 8)]\n",
    "\n",
    "def s_points(tupl):\n",
    "    s = math.sqrt(tupl[0]**2 + tupl[1]**2)\n",
    "    return s\n",
    "\n",
    "print(sorted(points, key=s_points))"
   ]
  },
  {
   "cell_type": "markdown",
   "id": "4c1bd629",
   "metadata": {},
   "source": [
    "# 10.\n",
    "\n",
    "Дан список numbers, содержащий кортежи чисел. Напишите программу, которая сортирует и выводит список numbers в соответствии с суммой минимального и максимального элемента кортежа.\n",
    "\n",
    "<strong> Примечание 1. </strong> В этой задаче мы считаем, что кортеж (2, 1, 3) меньше кортежа (6, 4, 5), так как 1+3 < 4+6. При этом кортеж (1, 2, 9) равен кортежу (4, 5, 6), так как 1+9 = 4+6.\n",
    "\n",
    "<strong> Примечание 2. </strong> Используйте необязательный аргумент key."
   ]
  },
  {
   "cell_type": "code",
   "execution_count": 49,
   "id": "d95d3c3e",
   "metadata": {},
   "outputs": [
    {
     "name": "stdout",
     "output_type": "stream",
     "text": [
      "[(1, 2, 3), (10, 10, 10), (10, 20, 30), (12, 45, 67), (-5, 90, -1), (30, 45, 56), (50, 40, 50), (-2, -4, 100), (1, 2, 99), (34, 78, 65), (81, 80, 39), (89, 90, 34)]\n"
     ]
    }
   ],
   "source": [
    "numbers = [(10, 10, 10), (30, 45, 56), (81, 80, 39), (1, 2, 3), (12, 45, 67), (-2, -4, 100), (1, 2, 99), (89, 90, 34), (10, 20, 30), (50, 40, 50), (34, 78, 65), (-5, 90, -1)]\n",
    "\n",
    "def sort_tupl(num):\n",
    "    s = min(num) + max(num)\n",
    "    return s\n",
    "\n",
    "print(sorted(numbers, key=sort_tupl))"
   ]
  },
  {
   "cell_type": "markdown",
   "id": "5aca27fa",
   "metadata": {},
   "source": [
    "# 11. Сортируй как хочешь\n",
    "\n",
    "Список athletes содержит сведения о спортсменах в виде кортежей: (имя, возраст, рост, вес).\n",
    "\n",
    "Напишите программу сортировки списка спортсменов по указанному полю:\n",
    "\n",
    "1: по имени;\n",
    "\n",
    "2: по возрасту;\n",
    "\n",
    "3: по росту;\n",
    "\n",
    "4: по весу.\n",
    "\n",
    "#### Формат входных данных\n",
    "На вход программе подается натуральное число от 1 до 4 – номер поля по которому требуется отсортировать список.\n",
    "\n",
    "#### Формат выходных данных\n",
    "Программа должна вывести отсортированный по заданному полю список в соответствии с примерами.\n",
    "\n",
    "<strong> Примечание. </strong> Решите задачу без использования условного оператора."
   ]
  },
  {
   "cell_type": "code",
   "execution_count": 59,
   "id": "0aef8b5e",
   "metadata": {},
   "outputs": [
    {
     "name": "stdout",
     "output_type": "stream",
     "text": [
      "3\n",
      "Рустам 10 128 30\n",
      "Дима 10 130 35\n",
      "Тимур 11 135 39\n",
      "Руслан 9 140 33\n",
      "Матвей 17 168 68\n",
      "Амир 16 170 70\n",
      "Рома 16 188 100\n",
      "Петя 15 190 90\n"
     ]
    }
   ],
   "source": [
    "athletes = [('Дима', 10, 130, 35), ('Тимур', 11, 135, 39), ('Руслан', 9, 140, 33), ('Рустам', 10, 128, 30), ('Амир', 16, 170, 70), ('Рома', 16, 188, 100), ('Матвей', 17, 168, 68), ('Петя', 15, 190, 90)]\n",
    "\n",
    "def name(a):\n",
    "    result = a[0]\n",
    "    return result\n",
    "\n",
    "def age(a):\n",
    "    result = a[1]\n",
    "    return result\n",
    "\n",
    "def height(a):\n",
    "    result = a[2]\n",
    "    return result\n",
    "\n",
    "def weight(a):\n",
    "    result = a[3]\n",
    "    return result\n",
    "\n",
    "commands = {'1': name, '2': age, '3': height, '4': weight}\n",
    "\n",
    "for tupl in sorted(athletes, key=commands[input()]):\n",
    "    print(*tupl)"
   ]
  },
  {
   "cell_type": "markdown",
   "id": "e0349888",
   "metadata": {},
   "source": [
    "# 12. Математические функции\n",
    "\n",
    "Напишите программу, которая принимает число и название функции, а выводит результат применения функции к данному числу.\n",
    "\n",
    "Список возможных функций:\n",
    "\n",
    "- квадрат: функция принимает число и возвращает его квадрат;\n",
    "\n",
    "- куб: функция принимает число и возвращает его куб;\n",
    "\n",
    "- корень: функция принимает число и возвращает корень квадратный из этого числа;\n",
    "\n",
    "- модуль: функция принимает число и возвращает его модуль;\n",
    "\n",
    "- синус: функция принимает число (в радианах) и возвращает синус этого числа.\n",
    "\n",
    "#### Формат входных данных\n",
    "На вход программе подается целое число и название функции, записанные на отдельных строках.\n",
    "\n",
    "#### Формат выходных данных\n",
    "Программа должна выдать результат применения функции к числу.\n",
    "\n",
    "<strong> Примечание. </strong> Решите задачу без использования условного оператора."
   ]
  },
  {
   "cell_type": "code",
   "execution_count": 11,
   "id": "25cb9484",
   "metadata": {},
   "outputs": [
    {
     "name": "stdout",
     "output_type": "stream",
     "text": [
      "1\n",
      "синус\n",
      "0.8414709848078965\n"
     ]
    }
   ],
   "source": [
    "import math\n",
    "\n",
    "def square(number):\n",
    "    result = number**2\n",
    "    return result\n",
    "\n",
    "\n",
    "def cube(number):\n",
    "    result = number**3\n",
    "    return result\n",
    "\n",
    "\n",
    "def square_root(number):\n",
    "    result = math.sqrt(number)\n",
    "    return result \n",
    "\n",
    "def module(number):\n",
    "    result = abs(number)\n",
    "    return result\n",
    "\n",
    "def sin(number):\n",
    "    result = math.sin(number)\n",
    "    return result\n",
    "    \n",
    "num, name = int(input()), str(input())\n",
    "\n",
    "names = {'квадрат': square, 'куб': cube, 'корень': square_root, 'модуль': module, 'синус': sin}\n",
    "\n",
    "print(names[name](num))"
   ]
  },
  {
   "cell_type": "markdown",
   "id": "24748755",
   "metadata": {},
   "source": [
    "# 13. Интересная сортировка-1\n",
    "На вход программе подается строка натуральных чисел. Из элементов строки формируется список чисел.\n",
    "\n",
    "Напишите программу сортировки списка чисел в порядке неубывания суммы их цифр. При этом, если два числа имеют одинаковую сумму цифр, следует сохранить их взаиморасположение в начальном списке.\n",
    "\n",
    "#### Формат входных данных\n",
    "На вход программе подается строка текста, содержащая натуральные числа, разделенные пробелами.\n",
    "\n",
    "#### Формат выходных данных\n",
    "Программа должна вывести отсортированный список чисел в соответствии с условием задачи, разделяя его элементы одним пробелом."
   ]
  },
  {
   "cell_type": "code",
   "execution_count": 30,
   "id": "4d890e49",
   "metadata": {},
   "outputs": [
    {
     "name": "stdout",
     "output_type": "stream",
     "text": [
      "12 14 79 7 4 123 45 90 111\n",
      "12 111 4 14 123 7 45 90 79\n"
     ]
    }
   ],
   "source": [
    "def Summ(string):\n",
    "    \n",
    "    Sum = 0\n",
    "    \n",
    "    for i in string:\n",
    "        Sum += int(i)\n",
    "    \n",
    "    return Sum\n",
    "\n",
    "lis = input().split()\n",
    "\n",
    "print(*sorted(lis, key=Summ))"
   ]
  },
  {
   "cell_type": "markdown",
   "id": "a11d4d7f",
   "metadata": {},
   "source": [
    "# 14. Интересная сортировка-2\n",
    "На вход программе подается строка натуральных чисел. Из элементов строки формируется список чисел.\n",
    "\n",
    "Напишите программу сортировки списка чисел в порядке неубывания суммы их цифр. При этом, если у двух чисел одинаковая сумма цифр, их следует вывести в порядке неубывания.\n",
    "\n",
    "#### Формат входных данных\n",
    "На вход программе подается строка текста, содержащая натуральные числа, разделенные пробелами.\n",
    "\n",
    "#### Формат выходных данных\n",
    "Программа должна вывести отсортированный список чисел в соответствии с условием задачи, разделяя его элементы одним пробелом."
   ]
  },
  {
   "cell_type": "code",
   "execution_count": 68,
   "id": "a36fa4a1",
   "metadata": {},
   "outputs": [
    {
     "name": "stdout",
     "output_type": "stream",
     "text": [
      "111 14 79 7 4 123 90 45 12 171\n",
      "12 111 4 14 123 7 45 90 171 79\n"
     ]
    }
   ],
   "source": [
    "def Summ(string):\n",
    "    \n",
    "    Sum = 0\n",
    "    \n",
    "    for i in str(string):\n",
    "        Sum += int(i)\n",
    "    \n",
    "    return Sum\n",
    "\n",
    "l = input().split()\n",
    "\n",
    "lis = []\n",
    "\n",
    "for i in l:\n",
    "    j = int(i)\n",
    "    lis.append(j)\n",
    "\n",
    "lis.sort()\n",
    "\n",
    "lis.sort(key=Summ)\n",
    "\n",
    "print(*lis)"
   ]
  },
  {
   "cell_type": "markdown",
   "id": "4efd0baf",
   "metadata": {},
   "source": [
    "# 15. \n",
    "\n",
    "Напишите программу, которая с помощью функции map() округляет все элементы списка numbers до 2 десятичных знаков, а затем выводит их, каждый на отдельной строке."
   ]
  },
  {
   "cell_type": "code",
   "execution_count": 1,
   "id": "71c0f7c7",
   "metadata": {},
   "outputs": [
    {
     "name": "stdout",
     "output_type": "stream",
     "text": [
      "3.57\n",
      "5.58\n",
      "4.01\n",
      "56.24\n",
      "9.01\n",
      "32.12\n",
      "23.22\n",
      "90.1\n",
      "45.45\n",
      "314.15\n",
      "2.72\n",
      "1.42\n"
     ]
    }
   ],
   "source": [
    "def map(function, items):\n",
    "    result = []\n",
    "    for item in items:\n",
    "        result.append(function(item))\n",
    "    return result\n",
    "\n",
    "numbers = [3.56773, 5.57668, 4.00914, 56.24241, 9.01344, 32.12013, 23.22222, 90.09873, 45.45, 314.1528, 2.71828, 1.41546]\n",
    "\n",
    "def round_2(x):\n",
    "    return round(x, 2)\n",
    "\n",
    "for i in map(round_2, numbers):\n",
    "    print(i)"
   ]
  },
  {
   "cell_type": "markdown",
   "id": "4b34e0b7",
   "metadata": {},
   "source": [
    "# 16. \n",
    "\n",
    "Напишите программу, которая с помощью функций filter() и map() отбирает из заданного списка numbers трёхзначные числа, дающие при делении на 5 остаток 2, и выводит их кубы, каждый в отдельной строке.\n",
    "\n",
    "<strong> Примечание. </strong> Остаток 2 при делении на 5 должно давать само число, а не его куб."
   ]
  },
  {
   "cell_type": "code",
   "execution_count": 2,
   "id": "ee1f4cb8",
   "metadata": {},
   "outputs": [
    {
     "name": "stdout",
     "output_type": "stream",
     "text": [
      "283593393\n",
      "758550528\n",
      "154854153\n",
      "8869743\n",
      "16974593\n",
      "12487168\n",
      "6028568\n",
      "849278123\n",
      "2863288\n",
      "57960603\n",
      "575930368\n"
     ]
    }
   ],
   "source": [
    "def map(function, items):\n",
    "    result = []\n",
    "    for item in items:\n",
    "        result.append(function(item))\n",
    "    return result\n",
    "\n",
    "\n",
    "def filter(function, items):\n",
    "    result = []\n",
    "    for item in items:\n",
    "        if function(item):\n",
    "            result.append(item)\n",
    "    return result\n",
    "\n",
    "\n",
    "numbers = [1014, 1321, 675, 1215, 56, 1386, 1385, 431, 1058, 486, 1434, 696, 1016, \n",
    "           1084, 424, 1189, 475, 95, 1434, 1462, 815, 776, 657, 1225, 912, 537, \n",
    "           1478, 1176, 544, 488, 668, 944, 207, 266, 1309, 1027, 257, 1374, 1289, \n",
    "           1155, 230, 866, 708, 144, 1434, 1163, 345, 394, 560, 338, 232, 182, 1438, \n",
    "           1127, 928, 1309, 98, 530, 1013, 898, 669, 105, 130, 1363, 947, 72, 1278, \n",
    "           166, 904, 349, 831, 1207, 1496, 370, 725, 926, 175, 959, 1282, 336, 1268, \n",
    "           351, 1439, 186, 273, 1008, 231, 138, 142, 433, 456, 1268, 1018, 1274, 387, \n",
    "           120, 340, 963, 832, 1127]\n",
    "\n",
    "def xxx_division_5_modulo_2(num):\n",
    "    return (len(str(num)) == 3) and int(num) % 5 == 2 \n",
    "\n",
    "def cube(num):\n",
    "    return num**3\n",
    "\n",
    "for i in map(cube, filter(xxx_division_5_modulo_2, numbers)):\n",
    "    print(i)"
   ]
  },
  {
   "cell_type": "markdown",
   "id": "be6a8cef",
   "metadata": {},
   "source": [
    "# 17. \n",
    "\n",
    "Напишите программу для вычисления и вывода суммы квадратов элементов списка numbers.\n",
    "\n",
    "<strong> Примечание. </strong> Попробуйте решить задачу двумя способами: с помощью функции reduce(), и с помощью функций map() и sum()."
   ]
  },
  {
   "cell_type": "code",
   "execution_count": 6,
   "id": "6b49f444",
   "metadata": {},
   "outputs": [
    {
     "name": "stdout",
     "output_type": "stream",
     "text": [
      "319563\n"
     ]
    }
   ],
   "source": [
    "def reduce(operation, items, initial_value):\n",
    "    acc = initial_value\n",
    "    for item in items:\n",
    "        acc = operation(acc, item)\n",
    "    return acc\n",
    "\n",
    "numbers = [97, 42, 9, 32, 3, 45, 31, 77, -1, 11, -2, 75, 5, 51, 34, 28, 46, 1, -8, 84, 16, 51, 90, 56, 65, 90, 23, 35, 11, -10, 70, 90, 90, 12, 96, 58, -8, -4, 91, 76, 94, 60, 72, 43, 4, -6, -5, 51, 58, 60, 30, 38, 67, 62, 36, 72, 34, 82, 62, -1, 60, 82, 87, 81, -7, 57, 26, 36, 17, 43, 80, 40, 75, 94, 91, 64, 38, 72, 29, 84, 38, 35, 7, 54, 31, 95, 78, 27, 82, 1, 64, 94, 31, 29, -8, 98, 24, 61, 7, 73]\n",
    "\n",
    "def sum_of_squares(num1, num2):\n",
    "    result = num1 + num2**2\n",
    "    return result\n",
    "\n",
    "print(reduce(sum_of_squares, numbers, 0))"
   ]
  },
  {
   "cell_type": "markdown",
   "id": "15b93f92",
   "metadata": {},
   "source": [
    "_Альтернативное решение:_"
   ]
  },
  {
   "cell_type": "code",
   "execution_count": 7,
   "id": "03bfcf23",
   "metadata": {},
   "outputs": [
    {
     "name": "stdout",
     "output_type": "stream",
     "text": [
      "319563\n"
     ]
    }
   ],
   "source": [
    "def reduce(operation, items, initial_value):\n",
    "    acc = initial_value\n",
    "    for item in items:\n",
    "        acc = operation(acc, item)\n",
    "    return acc\n",
    "\n",
    "numbers = [97, 42, 9, 32, 3, 45, 31, 77, -1, 11, -2, 75, 5, 51, 34, 28, 46, 1, -8, 84, 16, 51, 90, 56, 65, 90, 23, 35, 11, -10, 70, 90, 90, 12, 96, 58, -8, -4, 91, 76, 94, 60, 72, 43, 4, -6, -5, 51, 58, 60, 30, 38, 67, 62, 36, 72, 34, 82, 62, -1, 60, 82, 87, 81, -7, 57, 26, 36, 17, 43, 80, 40, 75, 94, 91, 64, 38, 72, 29, 84, 38, 35, 7, 54, 31, 95, 78, 27, 82, 1, 64, 94, 31, 29, -8, 98, 24, 61, 7, 73]\n",
    "\n",
    "def square(x):\n",
    "    return x**2\n",
    "\n",
    "print(sum(map(square, numbers)))"
   ]
  },
  {
   "cell_type": "markdown",
   "id": "7534dcde",
   "metadata": {},
   "source": [
    "# 18.\n",
    "\n",
    "Напишите программу для вычисления и вывода суммы квадратов двузначных чисел, которые делятся на 7 без остатка.\n",
    "\n",
    "<strong> Примечание 1. </strong> При решении задачи используйте функции filter(), map() и sum().\n",
    "\n",
    "<strong> Примечание 2. </strong> На 7 должно делиться исходное двузначное число, а не его квадрат.\n",
    "\n",
    "<strong> Примечание 3. </strong> Не забывайте про отрицательные двузначные числа."
   ]
  },
  {
   "cell_type": "code",
   "execution_count": 17,
   "id": "a8d5248f",
   "metadata": {},
   "outputs": [
    {
     "name": "stdout",
     "output_type": "stream",
     "text": [
      "25137\n"
     ]
    }
   ],
   "source": [
    "def map(function, items):\n",
    "    result = []\n",
    "    for item in items:\n",
    "        result.append(function(item))\n",
    "    return result\n",
    "\n",
    "\n",
    "def filter(function, items):\n",
    "    result = []\n",
    "    for item in items:\n",
    "        if function(item):\n",
    "            result.append(item)\n",
    "    return result\n",
    "\n",
    "\n",
    "numbers = [77, 293, 28, 242, 213, 285, 71, 286, 144, 276, 61, 298, 280, 214, 156, 227, 228, 51, -4, 202, 58, 99, 270, 219, 94, 253, 53, 235, 9, 158, 49, 183, 166, 205, 183, 266, 180, 6, 279, 200, 208, 231, 178, 201, 260, -35, 152, 115, 79, 284, 181, 92, 286, 98, 271, 259, 258, 196, -8, 43, 2, 128, 143, 43, 297, 229, 60, 254, -9, 5, 187, 220, -8, 111, 285, 5, 263, 187, 192, -9, 268, -9, 23, 71, 135, 7, -161, 65, 135, 29, 148, 242, 33, 35, 211, 5, 161, 46, 159, 23, 169, 23, 172, 184, -7, 228, 129, 274, 73, 197, 272, 54, 278, 26, 280, 13, 171, 2, 79, -2, 183, 10, 236, 276, 4, 29, -10, 41, 269, 94, 279, 129, 39, 92, -63, 263, 219, 57, 18, 236, 291, 234, 10, 250, 0, 64, 172, 216, 30, 15, 229, 205, 123, -105]\n",
    "\n",
    "def xx_division_5(num):\n",
    "    return (len(str(abs(num))) == 2) and (num % 7 == 0)\n",
    "\n",
    "def square(x):\n",
    "    return x**2\n",
    "\n",
    "print(sum(map(square, filter(xx_division_5, numbers))))"
   ]
  },
  {
   "cell_type": "markdown",
   "id": "b54bcf45",
   "metadata": {},
   "source": [
    "# 19. \n",
    "\n",
    "Напишите функцию func_apply(), принимающую на вход функцию и список значений и возвращающую список, в котором каждое значение будет результатом применения переданной функции к переданному списку.\n",
    "\n",
    "<strong> Примечание 1. </strong> Приведенный ниже код, при условии, что функция func_apply() написана правильно\n",
    "\n",
    "def add3(x):\n",
    "\n",
    "    return x + 3\n",
    "\n",
    "\n",
    "def mul7(x):\n",
    "\n",
    "    return x * 7\n",
    "\n",
    "\n",
    "print(func_apply(mul7, [1, 2, 3, 4, 5, 6]))\n",
    "\n",
    "print(func_apply(add3, [1, 2, 3, 4, 5, 6]))\n",
    "\n",
    "print(func_apply(str, [1, 2, 3, 4, 5, 6]))\n",
    "\n",
    "должен выводить:\n",
    "\n",
    "[7, 14, 21, 28, 35, 42]\n",
    "\n",
    "[4, 5, 6, 7, 8, 9]\n",
    "\n",
    "['1', '2', '3', '4', '5', '6']\n",
    "\n",
    "<strong> Примечание 2. </strong> Вызывать функцию func_apply() не нужно, требуется только реализовать ее."
   ]
  },
  {
   "cell_type": "code",
   "execution_count": null,
   "id": "616d2b36",
   "metadata": {},
   "outputs": [],
   "source": [
    "def func_apply(func, lis):\n",
    "    res = []\n",
    "    for i in lis:\n",
    "        res.append(func(i))\n",
    "    return res"
   ]
  },
  {
   "cell_type": "markdown",
   "id": "e3f08b6e",
   "metadata": {},
   "source": [
    "# 20. \n",
    "\n",
    "Требовалось написать программу, которая:\n",
    "\n",
    "- преобразует список floats в список чисел, возведенных в квадрат и округленных с точностью до одного десятичного знака;\n",
    "\n",
    "- фильтрует список words  и оставляет только палиндромы длиной более 4 символов;\n",
    "\n",
    "- находит произведение чисел из списка numbers.\n",
    "\n",
    "Программист торопился и написал программу неправильно. Доработайте его программу."
   ]
  },
  {
   "cell_type": "code",
   "execution_count": 9,
   "id": "70ccb667",
   "metadata": {},
   "outputs": [
    {
     "name": "stdout",
     "output_type": "stream",
     "text": [
      "[18.9, 37.1, 10.6, 95.5, 4.7, 78.9, 21.1, 1171.7, 146.9, 21.8, 6.0, 86.9]\n",
      "['racecar', 'civic', 'TATTARRATTAT', 'malayalam']\n",
      "24840\n"
     ]
    }
   ],
   "source": [
    "from functools import reduce \n",
    "\n",
    "floats = [4.35, 6.09, 3.25, 9.77, 2.16, 8.88, 4.59, 34.23, 12.12, 4.67, 2.45, 9.32]\n",
    "words = ['racecar', 'akinremi', 'deed', 'temidayo', 'omoseun', 'civic', 'TATTARRATTAT', 'malayalam', 'nun']\n",
    "numbers = [4, 6, 9, 23, 5]\n",
    "\n",
    "map_result = list(map(lambda num: round(num**2, 1), floats))\n",
    "filter_result = list(filter(lambda name: name == name[::-1] if len(name) > 4 else False, words))\n",
    "reduce_result = reduce(lambda num1, num2: num1 * num2, numbers, 1)\n",
    "\n",
    "print(map_result)\n",
    "print(filter_result)\n",
    "print(reduce_result)"
   ]
  },
  {
   "cell_type": "markdown",
   "id": "7998c64e",
   "metadata": {},
   "source": [
    "# 21.\n",
    "\n",
    "Напишите программу, которая с помощью встроенных функций filter(), map(), sorted() и reduce() выводит в алфавитном порядке список primary городов с населением более 10 000 000 человек, в формате:\n",
    "\n",
    "Cities: Beijing, Buenos Aires, ...\n",
    "    \n",
    "<strong> Примечание 1. </strong> Тестирующая система никак не \"покарает\" вас за неиспользование встроенных функций filter(), map(), sorted() и reduce(), однако лучше сделать это задание честно 😃.\n",
    "\n",
    "<strong> Примечание 2. </strong> Ставить запятую в конце вывода не нужно."
   ]
  },
  {
   "cell_type": "code",
   "execution_count": 27,
   "id": "868584c0",
   "metadata": {},
   "outputs": [
    {
     "name": "stdout",
     "output_type": "stream",
     "text": [
      "Cities: Beijing, Buenos Aires, Cairo, Dhaka, Manila, Mexico City, Moscow, Tokyo\n"
     ]
    }
   ],
   "source": [
    "from functools import reduce\n",
    "\n",
    "data = [['Tokyo', 35676000, 'primary'],\n",
    "        ['New York', 19354922, 'nan'],\n",
    "        ['Mexico City', 19028000, 'primary'],\n",
    "        ['Mumbai', 18978000, 'admin'],\n",
    "        ['Sao Paulo', 18845000, 'admin'],\n",
    "        ['Delhi', 15926000, 'admin'],\n",
    "        ['Shanghai', 14987000, 'admin'],\n",
    "        ['Kolkata', 14787000, 'admin'],\n",
    "        ['Los Angeles', 12815475, 'nan'],\n",
    "        ['Dhaka', 12797394, 'primary'],\n",
    "        ['Buenos Aires', 12795000, 'primary'],\n",
    "        ['Karachi', 12130000, 'admin'],\n",
    "        ['Cairo', 11893000, 'primary'],\n",
    "        ['Rio de Janeiro', 11748000, 'admin'],\n",
    "        ['Osaka', 11294000, 'admin'],\n",
    "        ['Beijing', 11106000, 'primary'],\n",
    "        ['Manila', 11100000, 'primary'],\n",
    "        ['Moscow', 10452000, 'primary'],\n",
    "        ['Istanbul', 10061000, 'admin'],\n",
    "        ['Paris', 9904000, 'primary']]\n",
    "\n",
    "data_relevant = filter(lambda city: city[0] if city[1] > 10000000 and city[2] == 'primary' else False, data)\n",
    "data_relevant_sorted = sorted(data_relevant)\n",
    "Cities_relevant_sorted = list(map(lambda city: city[0], data_relevant_sorted))\n",
    "print('Cities:', reduce(lambda city1, city2: city1 + ', ' + city2, Cities_relevant_sorted))"
   ]
  },
  {
   "cell_type": "markdown",
   "id": "e0c4e9fb",
   "metadata": {},
   "source": [
    "# 22.\n",
    "\n",
    "Напишите функцию func, используя синтаксис анонимных функций, которая принимает целочисленный аргумент и возвращает значение True, если он делится без остатка на 19 или на 13 и False в противном случае.\n",
    "\n",
    "<strong> Примечание 1. </strong> Следующий программный код:\n",
    "\n",
    "print(func(19))\n",
    "\n",
    "print(func(13))\n",
    "\n",
    "print(func(20))\n",
    "\n",
    "print(func(15))\n",
    "\n",
    "print(func(247))\n",
    "\n",
    "должен выводить:\n",
    "\n",
    "True\n",
    "\n",
    "True\n",
    "\n",
    "False\n",
    "\n",
    "False\n",
    "\n",
    "True\n",
    "\n",
    "<strong> Примечание 2. </strong> Вызывать анонимную функцию не нужно."
   ]
  },
  {
   "cell_type": "code",
   "execution_count": null,
   "id": "62724762",
   "metadata": {},
   "outputs": [],
   "source": [
    "func = lambda x: True if (x % 19 == 0) or (x % 13 == 0) else False"
   ]
  },
  {
   "cell_type": "markdown",
   "id": "4b66628e",
   "metadata": {},
   "source": [
    "# 23.\n",
    "\n",
    "Напишите функцию func, используя синтаксис анонимных функций, которая принимает строковый аргумент и возвращает значение True, если переданный аргумент начинается и заканчивается на английскую букву a (регистр буквы неважен) и False в противном случае.\n",
    "\n",
    "<strong> Примечание 1. </strong> Следующий программный код:\n",
    "\n",
    "print(func('abcd'))\n",
    "\n",
    "print(func('bcda'))\n",
    "\n",
    "print(func('abcda'))\n",
    "\n",
    "print(func('Abcd'))\n",
    "\n",
    "print(func('bcdA'))\n",
    "\n",
    "print(func('abcdA'))\n",
    "\n",
    "должен выводить:\n",
    "\n",
    "False\n",
    "\n",
    "False\n",
    "\n",
    "True\n",
    "\n",
    "False\n",
    "\n",
    "False\n",
    "\n",
    "True\n",
    "\n",
    "<strong> Примечание 2. </strong> Вызывать анонимную функцию не нужно."
   ]
  },
  {
   "cell_type": "code",
   "execution_count": null,
   "id": "f23d8b40",
   "metadata": {},
   "outputs": [],
   "source": [
    "func = lambda string: True if (string.lower()[0] == 'a') and (string.lower()[-1] == 'a') else False"
   ]
  },
  {
   "cell_type": "markdown",
   "id": "1ee09af2",
   "metadata": {},
   "source": [
    "# 24. \n",
    "\n",
    "Напишите функцию is_non_negative_num, используя синтаксис анонимных функций, которая принимает строковый аргумент и возвращает значение True, если переданный аргумент является неотрицательным числом (целым или вещественным) и False в противном случае.\n",
    "\n",
    "<strong> Примечание 1. </strong> Следующий программный код:\n",
    "\n",
    "print(is_non_negative_num('10.34ab'))\n",
    "\n",
    "print(is_non_negative_num('10.45'))\n",
    "\n",
    "print(is_non_negative_num('-18'))\n",
    "\n",
    "print(is_non_negative_num('-34.67'))\n",
    "\n",
    "print(is_non_negative_num('987'))\n",
    "\n",
    "print(is_non_negative_num('abcd'))\n",
    "\n",
    "print(is_non_negative_num('123.122.12'))\n",
    "\n",
    "print(is_non_negative_num('123.122'))\n",
    "\n",
    "должен выводить:\n",
    "\n",
    "False\n",
    "\n",
    "True\n",
    "\n",
    "False\n",
    "\n",
    "False\n",
    "\n",
    "True\n",
    "\n",
    "False\n",
    "\n",
    "False\n",
    "\n",
    "True\n",
    "\n",
    "<strong> Примечание 2. </strong> Неотрицательные числа — это положительные числа и число нуль.\n",
    "\n",
    "<strong> Примечание 3. </strong> Вызывать анонимную функцию не нужно."
   ]
  },
  {
   "cell_type": "code",
   "execution_count": null,
   "id": "5ed7fc82",
   "metadata": {},
   "outputs": [],
   "source": [
    "import regex as re\n",
    "\n",
    "is_non_negative_num = lambda string: True if (re.search('^(?=.+)(?:[1-9]\\d*|0)?(?:\\.\\d+)?$', string)) else False"
   ]
  },
  {
   "cell_type": "markdown",
   "id": "ae6e63e1",
   "metadata": {},
   "source": [
    "# 25. \n",
    "\n",
    "Напишите функцию is_num, используя синтаксис анонимных функций, которая принимает строковый аргумент и возвращает значение True, если переданный аргумент является числом (целым или вещественным) и False в противном случае.\n",
    "\n",
    "<strong> Примечание 1. </strong> Следующий программный код:\n",
    "\n",
    "print(is_num('10.34ab'))\n",
    "\n",
    "print(is_num('10.45'))\n",
    "\n",
    "print(is_num('-18'))\n",
    "\n",
    "print(is_num('-34.67'))\n",
    "\n",
    "print(is_num('987'))\n",
    "\n",
    "print(is_num('abcd'))\n",
    "\n",
    "print(is_num('123.122.12'))\n",
    "\n",
    "print(is_num('-123.122'))\n",
    "\n",
    "print(is_num('--13.2'))\n",
    "\n",
    "должен выводить:\n",
    "\n",
    "False\n",
    "\n",
    "True\n",
    "\n",
    "True\n",
    "\n",
    "True\n",
    "\n",
    "True\n",
    "\n",
    "False\n",
    "\n",
    "False\n",
    "\n",
    "True\n",
    "\n",
    "False\n",
    "\n",
    "<strong> Примечание 2 </strong> Используйте вспомогательную функцию из прошлого степа.\n",
    "\n",
    "<strong> Примечание 3. </strong>  Вызывать анонимную функцию не нужно.\n"
   ]
  },
  {
   "cell_type": "code",
   "execution_count": null,
   "id": "e9505428",
   "metadata": {},
   "outputs": [],
   "source": [
    "import regex as re\n",
    "\n",
    "is_num = lambda string: True if (re.search('^-?\\d{1,}(\\.\\d{1,})?$', string)) else False"
   ]
  },
  {
   "cell_type": "markdown",
   "id": "cd3389ce",
   "metadata": {},
   "source": [
    "# 26. \n",
    "\n",
    "Напишите программу, которая с помощью встроенных функций filter() и sorted() выводит слова из списка words, имеющие длину ровно 6 символов. Слова следует вывести в алфавитном порядке на одной строке, разделив символом пробела.\n",
    "\n",
    "<strong> Примечание. </strong> Используйте анонимную функцию в качестве критерия фильтрации."
   ]
  },
  {
   "cell_type": "code",
   "execution_count": 55,
   "id": "f6697906",
   "metadata": {},
   "outputs": [
    {
     "name": "stdout",
     "output_type": "stream",
     "text": [
      "abduct aboard abound abroad abrupt absent absorb accept access beside bestow betray beware beyond friday monday sunday\n"
     ]
    }
   ],
   "source": [
    "words = ['beverage', 'monday', 'abroad', 'bias', 'abuse', 'abolish', 'abuse', 'abuse', 'bid', 'wednesday', 'able', 'betray', 'accident', 'abduct', 'bigot', 'bet', 'abandon', 'besides', 'access', 'friday', 'bestow', 'abound', 'absent', 'beware', 'abundant', 'abnormal', 'aboard', 'about', 'accelerate', 'abort', 'thursday', 'tuesday', 'sunday', 'berth', 'beyond', 'benevolent', 'abate', 'abide', 'bicycle', 'beside', 'accept', 'berry', 'bewilder', 'abrupt', 'saturday', 'accessory', 'absorb']\n",
    "\n",
    "words_relevant = filter(lambda word: word if (len(word) == 6) else False, words)\n",
    "\n",
    "print(*sorted(words_relevant), sep=' ')"
   ]
  },
  {
   "cell_type": "markdown",
   "id": "c2d46672",
   "metadata": {},
   "source": [
    "# 27.\n",
    "\n",
    "Напишите программу, которая с помощью встроенных функций map() и filter() удаляет из списка numbers все нечетные элементы, большие 47, а все четные элементы нацело делит на два (целочисленное деление – //). Полученные числа следует вывести на одной строке, разделив символом пробела и сохранив исходный порядок.\n",
    "\n",
    "<strong> Примечание. </strong> Используйте анонимную функцию в качестве критерия фильтрации."
   ]
  },
  {
   "cell_type": "code",
   "execution_count": 61,
   "id": "2fd8f0e4",
   "metadata": {},
   "outputs": [
    {
     "name": "stdout",
     "output_type": "stream",
     "text": [
      "23 17 17 28 13 1 3 41 37 40 27 47 17 50 18 33 33 41 40 40 20 17 16 8 5 8 20 18 4 19 4 33 21 36 16 41 35 32 39 27 43 35 24 17 19 20 45 28 40 45 27 13 3 2 23 26 39 37 15 33 29 44 47 37 22 1 19 18 16 5 33 30 47 4 18 47 23 33\n"
     ]
    }
   ],
   "source": [
    "numbers = [46, 61, 34, 17, 56, 26, 93, 1, 3, 82, 71, 37, 80, 27, 77, 94, 34, 100, 36, 81, 33, 81, 66, 83, 41, 80, 80, 93, 40, 34, 32, 16, 5, 16, 40, 93, 36, 65, 8, 19, 8, 75, 66, 21, 72, 32, 41, 59, 35, 64, 49, 78, 83, 27, 57, 53, 43, 35, 48, 17, 19, 40, 90, 57, 77, 56, 80, 95, 90, 27, 26, 6, 4, 23, 52, 39, 63, 74, 15, 66, 29, 88, 94, 37, 44, 2, 38, 36, 32, 49, 5, 33, 60, 94, 89, 8, 36, 94, 46, 33]\n",
    "\n",
    "numbers_relevant = filter(lambda num: num if (num < 47 and num % 2 == 1) or (num % 2 == 0) else False, numbers)\n",
    "\n",
    "result = list(map(lambda num: num // 2 if (num % 2 == 0) else num, numbers_relevant))\n",
    "\n",
    "print(*result, sep=' ')"
   ]
  },
  {
   "cell_type": "markdown",
   "id": "e640946b",
   "metadata": {},
   "source": [
    "# 28.\n",
    "\n",
    "Список data содержит информацию о численности населения некоторых штатов США. Напишите программу сортировки по убыванию списка data на основании последнего символа в названии штата. Затем распечатайте элементы этого списка, каждый на новой строке в формате:\n",
    "\n",
    "<название штата>: <численность населения>\n",
    "\n",
    "Vermont: 626299\n",
    "\n",
    "Massachusetts: 7029917\n",
    "\n",
    "...\n",
    "\n",
    "<strong> Примечание 1. </strong> Сортировка производится в лексикографическом порядке (по алфавиту) по убыванию на основании последнего символа в названии штата. При этом, если два штата имеют одинаковый последний символ, следует сохранить их взаиморасположение в начальном списке.\n",
    "\n",
    "<strong> Примечание 2. </strong> Используйте анонимную функцию в качестве критерия сортировки."
   ]
  },
  {
   "cell_type": "code",
   "execution_count": 84,
   "id": "10352b64",
   "metadata": {},
   "outputs": [
    {
     "name": "stdout",
     "output_type": "stream",
     "text": [
      "Vermont: 626299\n",
      "Massachusetts: 7029917\n",
      "Ohio: 11799448\n",
      "Michigan: 10077331\n",
      "Washington: 7705281\n",
      "New York: 19542209\n",
      "Hawaii: 1420491\n",
      "Tennessee: 6910840\n",
      "Alabama: 4887871\n",
      "West Virginia: 1805832\n",
      "California: 39865590\n",
      "Georgia: 10711908\n",
      "Virginia: 10439388\n",
      "Arizona: 7151502\n"
     ]
    }
   ],
   "source": [
    "data = [(19542209, 'New York'), (4887871, 'Alabama'), (1420491, 'Hawaii'), (626299, 'Vermont'), (1805832, 'West Virginia'), (39865590, 'California'), (11799448, 'Ohio'), (10711908, 'Georgia'), (10077331, 'Michigan'), (10439388, 'Virginia'), (7705281, 'Washington'), (7151502, 'Arizona'), (7029917, 'Massachusetts'), (6910840, 'Tennessee')]\n",
    "\n",
    "data_sorted = sorted(data, key=lambda tupl: tupl[-1][-1], reverse=True)\n",
    "\n",
    "data_as_list_of_dict = [[value, key] for key, value in data_sorted]\n",
    "\n",
    "for i in data_as_list_of_dict: \n",
    "    print(f\"{i[0]}: {i[1]}\")"
   ]
  }
 ],
 "metadata": {
  "kernelspec": {
   "display_name": "Python 3 (ipykernel)",
   "language": "python",
   "name": "python3"
  },
  "language_info": {
   "codemirror_mode": {
    "name": "ipython",
    "version": 3
   },
   "file_extension": ".py",
   "mimetype": "text/x-python",
   "name": "python",
   "nbconvert_exporter": "python",
   "pygments_lexer": "ipython3",
   "version": "3.9.12"
  }
 },
 "nbformat": 4,
 "nbformat_minor": 5
}
