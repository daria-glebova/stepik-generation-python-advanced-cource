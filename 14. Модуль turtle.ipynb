{
 "cells": [
  {
   "cell_type": "markdown",
   "id": "e6f7b7ac",
   "metadata": {},
   "source": [
    "# 1.\n",
    "Напишите программу, которая рисует прямоугольник."
   ]
  },
  {
   "cell_type": "code",
   "execution_count": null,
   "id": "77193474",
   "metadata": {},
   "outputs": [],
   "source": [
    "import turtle\n",
    "\n",
    "def rectangle(width, height):\n",
    "    \n",
    "    for _ in range(2):\n",
    "        turtle.forward(width)\n",
    "        turtle.right(90)\n",
    "        turtle.forward(height)\n",
    "        turtle.right(90)\n",
    "        \n",
    "rectangle(float(input()), float(input()))"
   ]
  },
  {
   "cell_type": "markdown",
   "id": "550f1b9b",
   "metadata": {},
   "source": [
    "# 2.\n",
    "Напишите программу, которая рисует правильный треугольник.\n",
    "\n",
    "<strong> Примечание 1. </strong> Программу нужно оформить в виде функции triangle(side), где side – длина стороны треугольника в пикселях.\n",
    "\n",
    "<strong> Примечание 2. </strong> Величина каждого угла правильного треугольника равна 60 градусам."
   ]
  },
  {
   "cell_type": "code",
   "execution_count": null,
   "id": "9609b706",
   "metadata": {},
   "outputs": [],
   "source": [
    "import turtle\n",
    "\n",
    "def triangle(side):\n",
    "    \n",
    "        turtle.right(60)\n",
    "        turtle.forward(side)\n",
    "        turtle.right(120)\n",
    "        turtle.forward(side)\n",
    "        turtle.right(120)\n",
    "        turtle.forward(side)\n",
    "\n",
    "triangle(float(input()))"
   ]
  },
  {
   "cell_type": "markdown",
   "id": "ec9d02cc",
   "metadata": {},
   "source": [
    "# 3.\n",
    "Напишите программу, которая рисует изображенную фигуру, состоящую из трех квадратов.\n",
    "\n",
    "<strong> Примечание 1. </strong> Напишите функцию square(side), где side – длина стороны квадрата в пикселях.\n",
    "\n",
    "<strong> Примечание 2. </strong> Поэксперементируйте с углом поворота черепашки при переходе от одного квадрата к другому."
   ]
  },
  {
   "cell_type": "code",
   "execution_count": null,
   "id": "f7700490",
   "metadata": {},
   "outputs": [],
   "source": [
    "import turtle\n",
    "\n",
    "def square(side):\n",
    "    \n",
    "    turtle.left(160)\n",
    "    \n",
    "    for _ in range(3):\n",
    "        for _ in range(4):\n",
    "            turtle.forward(side)\n",
    "            turtle.right(90)\n",
    "        turtle.right(25)\n",
    "        \n",
    "square(float(input()))"
   ]
  },
  {
   "cell_type": "markdown",
   "id": "bf1c5e80",
   "metadata": {},
   "source": [
    "# 4. \n",
    "Напишите программу, которая рисует изображенную фигуру из восьми квадратов.\n",
    "\n",
    "<strong> Примечание. </strong> Используйте функцию square(side) из предыдущей задачи. "
   ]
  },
  {
   "cell_type": "code",
   "execution_count": null,
   "id": "a2342741",
   "metadata": {},
   "outputs": [],
   "source": [
    "import turtle\n",
    "\n",
    "def square(side):\n",
    "\n",
    "    for _ in range(8):\n",
    "        for _ in range(4):\n",
    "            turtle.forward(side)\n",
    "            turtle.right(90)\n",
    "        turtle.right(45)\n",
    "        \n",
    "square(float(input()))"
   ]
  },
  {
   "cell_type": "markdown",
   "id": "e0a1e590",
   "metadata": {},
   "source": [
    "# 5. \n",
    "Напишите программу, которая рисует правильный шестиугольник.\n",
    "\n",
    "<strong> Примечание 1. </strong> Программу нужно оформить в виде функции hexagon(side), где side – длина стороны в пикселях.\n",
    "\n",
    "<strong> Примечание 2. </strong> Величина каждого угла правильного шестиугольника равна 120 градусам."
   ]
  },
  {
   "cell_type": "code",
   "execution_count": null,
   "id": "b97bfa1e",
   "metadata": {},
   "outputs": [],
   "source": [
    "import turtle\n",
    "\n",
    "def hexagon(side):\n",
    "    \n",
    "    for _ in range(6):\n",
    "        turtle.forward(side)\n",
    "        turtle.right(60)\n",
    "                 \n",
    "hexagon(float(input()))"
   ]
  },
  {
   "cell_type": "markdown",
   "id": "2915e99b",
   "metadata": {},
   "source": [
    "# 6.\n",
    "Напишите программу, которая рисует соты.\n",
    "\n",
    "<strong> Подсказка. </strong> Убедись, что функция рисования шестиугольника возвращает черепашку в исходную точку."
   ]
  },
  {
   "cell_type": "code",
   "execution_count": null,
   "id": "9772aecb",
   "metadata": {},
   "outputs": [],
   "source": [
    "import turtle\n",
    "\n",
    "def honeycombs(side):\n",
    "    \n",
    "    for _ in range(7):\n",
    "        for _ in range(6):\n",
    "            turtle.forward(side)\n",
    "            turtle.right(60)\n",
    "        turtle.forward(side)\n",
    "        turtle.left(60)\n",
    "            \n",
    "honeycombs(float(input()))"
   ]
  },
  {
   "cell_type": "markdown",
   "id": "f4405cee",
   "metadata": {},
   "source": [
    "# 7.\n",
    "Напишите программу, которая рисует ромб с углами 60 и 120 градусов."
   ]
  },
  {
   "cell_type": "code",
   "execution_count": null,
   "id": "43000ad7",
   "metadata": {},
   "outputs": [],
   "source": [
    "import turtle\n",
    "\n",
    "def rhombus(side):\n",
    "    \n",
    "    for _ in range(2):\n",
    "        turtle.forward(side)\n",
    "        turtle.right(60)\n",
    "        turtle.forward(side)\n",
    "        turtle.right(120)\n",
    "           \n",
    "rhombus(float(input()))"
   ]
  },
  {
   "cell_type": "markdown",
   "id": "255d5254",
   "metadata": {},
   "source": [
    "# 8.\n",
    "Напишите программу, которая рисует снежинку из 10 ромбов."
   ]
  },
  {
   "cell_type": "code",
   "execution_count": null,
   "id": "206f14c1",
   "metadata": {},
   "outputs": [],
   "source": [
    "import turtle\n",
    "\n",
    "def snowflake(side):\n",
    "    \n",
    "    for _ in range(10):\n",
    "        for _ in range(2):\n",
    "            turtle.forward(side)\n",
    "            turtle.right(60)\n",
    "            turtle.forward(side)\n",
    "            turtle.right(120)\n",
    "        turtle.right(36)\n",
    "        \n",
    "rhombus(float(input()))"
   ]
  },
  {
   "cell_type": "markdown",
   "id": "0a61b46e",
   "metadata": {},
   "source": [
    "# 9.\n",
    "Напишите программу, которая рисует лучи звезды."
   ]
  },
  {
   "cell_type": "code",
   "execution_count": null,
   "id": "da2d9279",
   "metadata": {},
   "outputs": [],
   "source": [
    "import turtle\n",
    "\n",
    "def rays(length):\n",
    "    \n",
    "    for _ in range(12):\n",
    "        turtle.forward(length)\n",
    "        turtle.backward(length)\n",
    "        turtle.right(30)\n",
    "        \n",
    "rays(float(input()))"
   ]
  },
  {
   "cell_type": "markdown",
   "id": "0f468c73",
   "metadata": {},
   "source": [
    "# 10.\n",
    "Напишите программу, которая рисует правильную пятиконечную звезду.\n",
    "\n",
    "<strong> Примечание. </strong> Используйте угол поворота в 144∘."
   ]
  },
  {
   "cell_type": "code",
   "execution_count": null,
   "id": "43f98bd3",
   "metadata": {},
   "outputs": [],
   "source": [
    "import turtle\n",
    "\n",
    "def star(length):\n",
    "    \n",
    "    for _ in range(5):\n",
    "        turtle.forward(length)\n",
    "        turtle.right(144)\n",
    "        \n",
    "star(float(input()))"
   ]
  },
  {
   "cell_type": "markdown",
   "id": "701e38d4",
   "metadata": {},
   "source": [
    "# 11. "
   ]
  },
  {
   "cell_type": "code",
   "execution_count": null,
   "id": "691f278f",
   "metadata": {},
   "outputs": [],
   "source": [
    "import turtle\n",
    "\n",
    "def pattern(side):\n",
    "    \n",
    "    turtle.left(90)\n",
    "    \n",
    "    for _ in range(30):\n",
    "        for _ in range(4):\n",
    "            turtle.forward(side)\n",
    "            turtle.left(90)\n",
    "        side += 10\n",
    "        \n",
    "pattern(float(input()))"
   ]
  },
  {
   "cell_type": "markdown",
   "id": "54e7b337",
   "metadata": {},
   "source": [
    "# 12."
   ]
  },
  {
   "cell_type": "code",
   "execution_count": null,
   "id": "11d888ca",
   "metadata": {},
   "outputs": [],
   "source": [
    "import turtle\n",
    "\n",
    "def pattern1(side):\n",
    "    \n",
    "    turtle.left(90)\n",
    "    \n",
    "    for _ in range(30):\n",
    "        turtle.forward(side)\n",
    "        turtle.left(90)\n",
    "        side += 5\n",
    "        \n",
    "pattern1(float(input()))"
   ]
  },
  {
   "cell_type": "markdown",
   "id": "ea876b1b",
   "metadata": {},
   "source": [
    "# 13.\n",
    "Напишите программу, которая рисует пунктирную линию."
   ]
  },
  {
   "cell_type": "code",
   "execution_count": null,
   "id": "af07506c",
   "metadata": {},
   "outputs": [],
   "source": [
    "import turtle\n",
    "\n",
    "def dotted_line(count):\n",
    "    \n",
    "    for _ in range(count):\n",
    "        turtle.shape('circle')\n",
    "        turtle.stamp()\n",
    "        turtle.penup()\n",
    "        turtle.forward(25)\n",
    "        turtle.pendown()\n",
    "        \n",
    "dotted_line(int(input()))"
   ]
  },
  {
   "cell_type": "markdown",
   "id": "4b75d98f",
   "metadata": {},
   "source": [
    "# 14.\n",
    "Напишите программу, которая рисует прямоугольник с точкой в каждом углу."
   ]
  },
  {
   "cell_type": "code",
   "execution_count": null,
   "id": "ecb93503",
   "metadata": {},
   "outputs": [],
   "source": [
    "import turtle\n",
    "\n",
    "def rectangle(width, height):\n",
    "    \n",
    "    for _ in range(2):\n",
    "        turtle.forward(width)\n",
    "        turtle.right(90)\n",
    "        turtle.dot()\n",
    "        turtle.forward(height)\n",
    "        turtle.right(90)\n",
    "        turtle.dot()\n",
    "        \n",
    "rectangle(float(input()), float(input()))"
   ]
  },
  {
   "cell_type": "markdown",
   "id": "d9eea096",
   "metadata": {},
   "source": [
    "# 15.\n",
    "Напишите программу для рисования паутины в соответствии с примером. Программа должна считывать количество лучей паутины, число n.\n",
    "\n",
    "<strong> Примечание. </strong> Угол заданный каждой парой лучей составляет 360 / n градусов."
   ]
  },
  {
   "cell_type": "code",
   "execution_count": null,
   "id": "5b17e0d8",
   "metadata": {},
   "outputs": [],
   "source": [
    "import turtle\n",
    "\n",
    "def spiderweb(n):\n",
    "    \n",
    "    for _ in range(n):\n",
    "        turtle.forward(80)\n",
    "        turtle.shape('triangle')\n",
    "        turtle.stamp()\n",
    "        turtle.backward(80)\n",
    "        turtle.right(360/n)\n",
    "        \n",
    "spiderweb(int(input()))"
   ]
  },
  {
   "cell_type": "markdown",
   "id": "ae077469",
   "metadata": {},
   "source": [
    "# 16."
   ]
  },
  {
   "cell_type": "code",
   "execution_count": null,
   "id": "e9a45334",
   "metadata": {},
   "outputs": [],
   "source": [
    "import turtle\n",
    "\n",
    "def turtles(n):\n",
    "    \n",
    "    turtle.shape('turtle')\n",
    "    turtle.stamp()\n",
    "    \n",
    "    for _ in range(n):\n",
    "        turtle.penup()\n",
    "        turtle.forward(80)\n",
    "        turtle.stamp()\n",
    "        turtle.backward(80)\n",
    "        turtle.right(360/n)\n",
    "\n",
    "turtles(int(input()))"
   ]
  },
  {
   "cell_type": "markdown",
   "id": "bd5982a5",
   "metadata": {},
   "source": [
    "# 17."
   ]
  },
  {
   "cell_type": "code",
   "execution_count": null,
   "id": "c5b7eb4c",
   "metadata": {},
   "outputs": [],
   "source": [
    "from turtle import *\n",
    "\n",
    "def clocks():\n",
    "    \n",
    "    Screen().bgcolor('light blue')\n",
    "    pensize(3)\n",
    "    shape('turtle')\n",
    "    stamp()\n",
    "    \n",
    "    for _ in range(12):\n",
    "        penup()\n",
    "        forward(80)\n",
    "        pendown()\n",
    "        forward(20)\n",
    "        penup()\n",
    "        forward(20)\n",
    "        stamp()\n",
    "        backward(20)\n",
    "        pendown()\n",
    "        backward(20)\n",
    "        penup()\n",
    "        backward(80)\n",
    "        right(30)\n",
    "\n",
    "clocks()"
   ]
  },
  {
   "cell_type": "markdown",
   "id": "70600247",
   "metadata": {},
   "source": [
    "# 18.\n"
   ]
  },
  {
   "cell_type": "code",
   "execution_count": null,
   "id": "0a07cf73",
   "metadata": {},
   "outputs": [],
   "source": [
    "import turtle\n",
    "\n",
    "def turtles(n):\n",
    "    \n",
    "    turtle.Screen().bgcolor('light green')\n",
    "    turtle.shape('turtle')\n",
    "    turtle.stamp()\n",
    "    a = 5\n",
    "    \n",
    "    for _ in range(n):\n",
    "        turtle.penup()\n",
    "        turtle.forward(a)\n",
    "        turtle.right(90)\n",
    "        turtle.stamp()\n",
    "        turtle.left(90)\n",
    "        turtle.backward(a)\n",
    "        turtle.right(22)\n",
    "        a += 3\n",
    "\n",
    "turtles(int(input()))"
   ]
  },
  {
   "cell_type": "markdown",
   "id": "3f44c748",
   "metadata": {},
   "source": [
    "# 19."
   ]
  },
  {
   "cell_type": "code",
   "execution_count": null,
   "id": "187cf0f6",
   "metadata": {},
   "outputs": [],
   "source": [
    "import turtle\n",
    "\n",
    "def rainbow():\n",
    "    \n",
    "    color = ['red', 'blue', 'yellow', 'green', 'purple', 'orange']\n",
    "    a = 1\n",
    "    b = 5\n",
    "    \n",
    "    for _ in range(5):\n",
    "        for i in color:\n",
    "            turtle.pencolor(i)\n",
    "            turtle.pensize(a)\n",
    "            turtle.forward(b)\n",
    "            b += 5\n",
    "            turtle.right(45)\n",
    "        a += 3\n",
    "        \n",
    "rainbow()"
   ]
  },
  {
   "cell_type": "markdown",
   "id": "e25c33d5",
   "metadata": {},
   "source": [
    "# 20."
   ]
  },
  {
   "cell_type": "code",
   "execution_count": null,
   "id": "9466ffed",
   "metadata": {},
   "outputs": [],
   "source": [
    "from turtle import *\n",
    "\n",
    "n = float(input())\n",
    "\n",
    "right(60)\n",
    "forward(n)\n",
    "right(120)\n",
    "forward(n)\n",
    "right(120)\n",
    "forward(n)\n",
    "penup()\n",
    "right(60)\n",
    "forward(n/3)\n",
    "left(60)\n",
    "forward(n/3)\n",
    "pendown()\n",
    "right(60)\n",
    "forward(n)\n",
    "right(120)\n",
    "forward(n)\n",
    "right(120)\n",
    "forward(n)"
   ]
  },
  {
   "cell_type": "markdown",
   "id": "f1ab1a47",
   "metadata": {},
   "source": [
    "# 21.\n"
   ]
  },
  {
   "cell_type": "code",
   "execution_count": null,
   "id": "94c76432",
   "metadata": {},
   "outputs": [],
   "source": [
    "from turtle import *\n",
    "\n",
    "gt = 200\n",
    "\n",
    "pencolor('red')\n",
    "dot()\n",
    "\n",
    "for _ in range(10):\n",
    "    goto(gt, -150)\n",
    "    pencolor('blue')\n",
    "    dot()\n",
    "    penup()\n",
    "    goto(0, 0)\n",
    "    pencolor('light green')\n",
    "    pendown()\n",
    "    s -= 30"
   ]
  },
  {
   "cell_type": "markdown",
   "id": "5d6f33d8",
   "metadata": {},
   "source": [
    "# 22.\n"
   ]
  },
  {
   "cell_type": "code",
   "execution_count": null,
   "id": "49620c03",
   "metadata": {},
   "outputs": [],
   "source": [
    "from turtle import *\n",
    "\n",
    "pensize(3)\n",
    "\n",
    "pencolor('light blue')\n",
    "circle(30)\n",
    "penup()\n",
    "forward(60)\n",
    "\n",
    "pencolor('black')\n",
    "pendown()\n",
    "circle(30)\n",
    "penup()\n",
    "forward(60)\n",
    "\n",
    "\n",
    "pencolor('red')\n",
    "pendown()\n",
    "circle(30)\n",
    "penup()\n",
    "\n",
    "pencolor('green')\n",
    "backward(30)\n",
    "right(90)\n",
    "forward(30)\n",
    "left(90)\n",
    "pendown()\n",
    "circle(30)\n",
    "penup()\n",
    "\n",
    "\n",
    "pencolor('yellow')\n",
    "backward(60)\n",
    "pendown()\n",
    "circle(30)\n",
    "penup()"
   ]
  },
  {
   "cell_type": "markdown",
   "id": "807c5662",
   "metadata": {},
   "source": [
    "# 23"
   ]
  },
  {
   "cell_type": "code",
   "execution_count": null,
   "id": "61a20bdf",
   "metadata": {},
   "outputs": [],
   "source": [
    "from turtle import *\n",
    "\n",
    "Screen().setup(720, 720)\n",
    "\n",
    "pensize(1)\n",
    "circle(120)\n",
    "circle(70)\n",
    "left(90)\n",
    "penup()\n",
    "\n",
    "forward(20)\n",
    "pendown()\n",
    "forward(70)\n",
    "right(90)\n",
    "circle(13)\n",
    "penup()\n",
    "\n",
    "left(90)\n",
    "forward(45)\n",
    "right(90)\n",
    "forward(55)\n",
    "pensize(10)\n",
    "pendown()\n",
    "dot()\n",
    "penup()\n",
    "\n",
    "right(180)\n",
    "forward(115)\n",
    "pendown()\n",
    "dot()\n",
    "penup()\n",
    "pensize(1)\n",
    "\n",
    "right(90)\n",
    "forward(75)\n",
    "left(90)\n",
    "forward(35)\n",
    "right(180)\n",
    "pendown()\n",
    "circle(40)\n",
    "penup()\n",
    "\n",
    "forward(188)\n",
    "pendown()\n",
    "circle(40)"
   ]
  }
 ],
 "metadata": {
  "kernelspec": {
   "display_name": "Python 3 (ipykernel)",
   "language": "python",
   "name": "python3"
  },
  "language_info": {
   "codemirror_mode": {
    "name": "ipython",
    "version": 3
   },
   "file_extension": ".py",
   "mimetype": "text/x-python",
   "name": "python",
   "nbconvert_exporter": "python",
   "pygments_lexer": "ipython3",
   "version": "3.9.12"
  }
 },
 "nbformat": 4,
 "nbformat_minor": 5
}
