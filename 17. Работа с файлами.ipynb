{
 "cells": [
  {
   "cell_type": "markdown",
   "id": "64d20402",
   "metadata": {},
   "source": [
    "# 1. Содержимое файла\n",
    "На вход программе подается строка с именем текстового файла. Напишите программу, которая выводит на экран его содержимое.\n",
    "\n",
    "#### Формат входных данных\n",
    "На вход программе подается строка текста с именем существующего текстового файла.\n",
    "\n",
    "#### Формат выходных данных\n",
    "Программа должна вывести содержимое указанного файла.\n",
    "\n",
    "<strong> Примечание 1. </strong> Считайте, что исполняемая программа и указанный файл находятся в одной папке.\n",
    "\n",
    "<strong> Примечание 2. </strong> Не забудьте закрыть файл 🙂."
   ]
  },
  {
   "cell_type": "code",
   "execution_count": null,
   "id": "9ee2ce0c",
   "metadata": {},
   "outputs": [],
   "source": [
    "file = open(input())\n",
    "print(*file)\n",
    "file.close()"
   ]
  },
  {
   "cell_type": "markdown",
   "id": "3a5d06bf",
   "metadata": {},
   "source": [
    "# 2. Предпоследняя строка\n",
    "На вход программе подается строка с именем текстового файла. Напишите программу, которая выводит на экран его предпоследнюю строку.\n",
    "\n",
    "#### Формат входных данных\n",
    "На вход программе подается строка текста с именем существующего текстового файла.\n",
    "\n",
    "#### Формат выходных данных\n",
    "Программа должна вывести предпоследнюю строку указанного файла.\n",
    "\n",
    "<strong> Примечание 1. </strong> Считайте, что исполняемая программа и указанный файл находятся в одной папке.\n",
    "\n",
    "<strong> Примечание 2. </strong> Гарантируется, что файл содержит хотя бы две строки.\n",
    "\n",
    "<strong> Примечание 3. </strong> Не забудьте закрыть файл 🙂."
   ]
  },
  {
   "cell_type": "code",
   "execution_count": null,
   "id": "b670d710",
   "metadata": {},
   "outputs": [],
   "source": [
    "file = open(input())\n",
    "lines = file.readlines()\n",
    "print(lines[-2])\n",
    "file.close()"
   ]
  },
  {
   "cell_type": "markdown",
   "id": "bb061571",
   "metadata": {},
   "source": [
    "# 3. Случайная строка\n",
    "Вам доступен текстовый файл lines.txt из нескольких строк. Напишите программу, которая выводит на экран случайную строку из этого файла.\n",
    "\n",
    "#### Формат входных данных\n",
    "На вход программе ничего не подается.\n",
    "\n",
    "#### Формат выходных данных\n",
    "Программа должна вывести случайную строку указанного файла.\n",
    "\n",
    "<strong> Примечание 1. </strong> Считайте, что исполняемая программа и указанный файл находятся в одной папке.\n",
    "\n",
    "<strong> Примечание 2. </strong> Гарантируется, что файл содержит хотя бы одну строку.\n",
    "\n",
    "<strong> Примечание 3. </strong> Не забудьте закрыть файл 🙂.\n",
    "\n",
    "<strong> Примечание 4. </strong> Указанный файл можно скачать по [ссылке](https://stepik.org/media/attachments/lesson/519125/lines.txt)."
   ]
  },
  {
   "cell_type": "code",
   "execution_count": null,
   "id": "7b71e17e",
   "metadata": {},
   "outputs": [],
   "source": [
    "import random\n",
    "\n",
    "file = open('lines.txt')\n",
    "lines = file.readlines()\n",
    "print(random.choice(lines))\n",
    "file.close()"
   ]
  },
  {
   "cell_type": "markdown",
   "id": "35c6b0ac",
   "metadata": {},
   "source": [
    "# 4. Сумма двух-1\n",
    "Вам доступен текстовый файл numbers.txt из двух строк, на каждой из них записано целое число. Напишите программу, выводящую на экран сумму этих чисел.\n",
    "\n",
    "#### Формат входных данных\n",
    "На вход программе ничего не подается.\n",
    "\n",
    "#### Формат выходных данных\n",
    "Программа должна вывести сумму чисел из указанного файла.\n",
    "\n",
    "<strong> Примечание 1. </strong> Считайте, что исполняемая программа и указанный файл находятся в одной папке.\n",
    "\n",
    "<strong> Примечание 2. </strong> Не забудьте закрыть файл 🙂.\n",
    "\n",
    "<strong> Примечание 3. </strong> Указанный файл можно скачать по [ссылке](https://stepik.org/media/attachments/lesson/519125/numbers.txt)."
   ]
  },
  {
   "cell_type": "code",
   "execution_count": null,
   "id": "ff58a45f",
   "metadata": {},
   "outputs": [],
   "source": [
    "file = open('numbers.txt')\n",
    "lines = [int(line) for line in file.readlines()]\n",
    "print(sum(lines))\n",
    "file.close()"
   ]
  },
  {
   "cell_type": "markdown",
   "id": "91b751a3",
   "metadata": {},
   "source": [
    "# 5. Сумма двух-2\n",
    "Вам доступен текстовый файл nums.txt. В файле записано два целых числа, они могут быть разделены символами пробела и конца строки. Напишите программу, выводящую на экран сумму этих чисел.\n",
    "\n",
    "#### Формат входных данных\n",
    "На вход программе ничего не подается.\n",
    "\n",
    "#### Формат выходных данных\n",
    "Программа должна вывести сумму чисел из указанного файла.\n",
    "\n",
    "<strong> Примечание 1. </strong> Считайте, что исполняемая программа и указанный файл находятся в одной папке.\n",
    "\n",
    "<strong> Примечание 2. </strong> Не забудьте закрыть файл 🙂.\n",
    "\n",
    "<strong> Примечание 3. </strong> Указанный файл можно скачать по [ссылке](https://stepik.org/media/attachments/lesson/519125/nums.txt)."
   ]
  },
  {
   "cell_type": "code",
   "execution_count": null,
   "id": "58075988",
   "metadata": {},
   "outputs": [],
   "source": [
    "file = open('numbers.txt')\n",
    "lines = [int(line) for line in file.read().split()]\n",
    "print(sum(lines))\n",
    "file.close()"
   ]
  },
  {
   "cell_type": "markdown",
   "id": "14d2c82a",
   "metadata": {},
   "source": [
    "# 6. Общая стоимость\n",
    "Вам доступен текстовый файл prices.txt с информацией о заказе из интернет магазина. В нем каждая строка с помощью символа табуляции (\\t) разделена на три колонки:\n",
    "\n",
    "- наименование товара;\n",
    "- количество товара (целое число);\n",
    "- цена (в рублях) товара за 1 шт (целое число).\n",
    "\n",
    "Напишите программу, выводящую на экран общую стоимость заказа.\n",
    "\n",
    "#### Формат входных данных\n",
    "На вход программе ничего не подается.\n",
    "\n",
    "#### Формат выходных данных\n",
    "Программа должна вывести общую стоимость заказа.\n",
    "\n",
    "<strong> Примечание 1. </strong> Считайте, что исполняемая программа и указанный файл находятся в одной папке.\n",
    "\n",
    "<strong> Примечание 2. </strong> Не забудьте закрыть файл 🙂.\n",
    "\n",
    "<strong> Примечание 3. </strong> Указанный файл можно скачать по [ссылке](https://stepik.org/media/attachments/lesson/519125/prices.txt)."
   ]
  },
  {
   "cell_type": "code",
   "execution_count": 11,
   "id": "83e99eb2",
   "metadata": {},
   "outputs": [
    {
     "name": "stdout",
     "output_type": "stream",
     "text": [
      "1286800\n"
     ]
    }
   ],
   "source": [
    "file = open('prices.txt', encoding='UTF-8')\n",
    "lines = [line for line in file.read().split()]\n",
    "price = 0\n",
    "for i in range(1, len(lines) - 1, 3):\n",
    "    price += int(lines[i]) * int(lines[i + 1])\n",
    "print(price)\n",
    "file.close()"
   ]
  },
  {
   "cell_type": "markdown",
   "id": "57b765c6",
   "metadata": {},
   "source": [
    "# 7. Переворот строки\n",
    "Вам доступен текстовый файл text.txt с одной строкой текста. Напишите программу, которая выводит на экран эту строку в обратном порядке.\n",
    "\n",
    "#### Формат входных данных\n",
    "На вход программе ничего не подается.\n",
    "\n",
    "#### Формат выходных данных\n",
    "Программа должна вывести строку указанного файла в обратном порядке.\n",
    "\n",
    "<strong> Примечание 1. </strong> Считайте, что исполняемая программа и указанный файл находятся в одной папке.\n",
    "\n",
    "<strong> Примечание 2. </strong> Используйте менеджер контекста 🙂.\n",
    "\n",
    "<strong> Примечание 3. </strong> Указанный файл можно скачать по [ссылке](https://stepik.org/media/attachments/lesson/530408/text.txt)."
   ]
  },
  {
   "cell_type": "code",
   "execution_count": 15,
   "id": "72f6cb2c",
   "metadata": {},
   "outputs": [
    {
     "name": "stdout",
     "output_type": "stream",
     "text": [
      ".enil hcae fo rettel tsrif eht tuo tnirp dna txt.egassem_terces daeR\n"
     ]
    }
   ],
   "source": [
    "with open('text.txt', encoding='UTF-8') as letters:\n",
    "    letter_list = letters.readline()\n",
    "    print(letter_list[::-1])"
   ]
  },
  {
   "cell_type": "markdown",
   "id": "d1feaffa",
   "metadata": {},
   "source": [
    "# 8. Обратный порядок\n",
    "Вам доступен текстовый файл data.txt, в котором записаны строки текста. Напишите программу, выводящую все строки данного файла в обратном порядке: сначала последнюю, затем предпоследнюю и т.д.\n",
    "\n",
    "#### Формат входных данных\n",
    "На вход программе ничего не подается.\n",
    "\n",
    "#### Формат выходных данных\n",
    "Программа должна вывести строки указанного файла в обратном порядке.\n",
    "\n",
    "<strong> Примечание 1. </strong> Считайте, что исполняемая программа и указанный файл находятся в одной папке.\n",
    "\n",
    "<strong> Примечание 2. </strong> Используйте менеджер контекста 🙂.\n",
    "\n",
    "<strong> Примечание 3. </strong> Получить список всех строк файла можно при помощи метода readlines().\n",
    "\n",
    "<strong> Примечание 4. </strong> Не забывайте про символ конца строки '\\n'.\n",
    "\n",
    "<strong> Примечание 5. </strong> Указанный файл можно скачать по [ссылке](https://stepik.org/media/attachments/lesson/530408/data.txt)."
   ]
  },
  {
   "cell_type": "code",
   "execution_count": 28,
   "id": "9b87c60f",
   "metadata": {},
   "outputs": [
    {
     "name": "stdout",
     "output_type": "stream",
     "text": [
      "Complex is better than complicated.\n",
      "Simple is better than complex.\n",
      "Explicit is better than implicit.\n",
      "Beautiful is better than ugly.\n"
     ]
    }
   ],
   "source": [
    "with open('data.txt', encoding='UTF-8') as strings:\n",
    "    string_list = [string.rstrip('\\n') for string in strings.readlines()]\n",
    "    print(*string_list[::-1], sep='\\n')"
   ]
  },
  {
   "cell_type": "markdown",
   "id": "65e23df8",
   "metadata": {},
   "source": [
    "# 9. Длинные строки\n",
    "Вам доступен текстовый файл lines.txt, в котором записаны строки текста. Напишите программу, которая выводит все строки наибольшей длины из файла, не меняя их порядок.\n",
    "\n",
    "#### Формат входных данных\n",
    "На вход программе ничего не подается.\n",
    "\n",
    "#### Формат выходных данных\n",
    "Программа должна вывести строки указанного файла, имеющие наибольшую длину, не меняя их порядка.\n",
    "\n",
    "<strong> Примечание 1. </strong> Считайте, что исполняемая программа и указанный файл находятся в одной папке.\n",
    "\n",
    "<strong> Примечание 2. </strong> Используйте менеджер контекста 🙂.\n",
    "\n",
    "<strong> Примечание 3. </strong> Если бы файл lines.txt содержал строки:\n",
    "\n",
    "One\n",
    "\n",
    "Twenty one\n",
    "\n",
    "Two\n",
    "\n",
    "Twenty two\n",
    "\n",
    "то результатом будет:\n",
    "\n",
    "Twenty one\n",
    "\n",
    "Twenty two\n",
    "\n",
    "<strong> Примечание 4. </strong> Указанный файл можно скачать по [ссылке](https://stepik.org/media/attachments/lesson/530408/lines.txt). "
   ]
  },
  {
   "cell_type": "code",
   "execution_count": 46,
   "id": "7dcca260",
   "metadata": {},
   "outputs": [
    {
     "name": "stdout",
     "output_type": "stream",
     "text": [
      "believe in their..\n",
      "Life is what 12345\n",
      "better than ugly!!\n",
      "Explicit is better\n"
     ]
    }
   ],
   "source": [
    "with open('lines.txt', encoding='UTF-8') as lines:\n",
    "    lines_list = [line.rstrip('\\n') for line in lines.readlines()]\n",
    "    length = max(lines_list, key=len)\n",
    "    result = []\n",
    "    for line in lines_list:\n",
    "        if len(line) >= len(length):\n",
    "            result.append(line)\n",
    "    print(*result, sep='\\n')"
   ]
  },
  {
   "cell_type": "markdown",
   "id": "25cb5aaf",
   "metadata": {},
   "source": [
    "# 10. Сумма чисел в строках\n",
    "Вам доступен текстовый файл numbers.txt, каждая строка которого может содержать одно или несколько целых чисел, разделенных одним или несколькими пробелами.\n",
    "\n",
    "Напишите программу, которая вычисляет сумму чисел в каждой строке и выводит эту сумму на экран (для каждой строки выводится сумма чисел в этой строке).\n",
    "\n",
    "#### Формат входных данных\n",
    "На вход программе ничего не подается.\n",
    "\n",
    "#### Формат выходных данных\n",
    "Программа должна вывести сумму чисел в каждой строке.\n",
    "\n",
    "<strong> Примечание. </strong> Указанный файл можно скачать по [ссылке](https://stepik.org/media/attachments/lesson/530408/numbers.txt). "
   ]
  },
  {
   "cell_type": "code",
   "execution_count": 71,
   "id": "085b4bc0",
   "metadata": {},
   "outputs": [
    {
     "name": "stdout",
     "output_type": "stream",
     "text": [
      "256\n",
      "78\n",
      "114\n",
      "15\n",
      "1089\n"
     ]
    }
   ],
   "source": [
    "with open('numbers.txt', encoding='UTF-8') as numbers:\n",
    "    lines = [line.strip() for line in numbers.readlines()]\n",
    "    result = []\n",
    "    for line in lines:\n",
    "        res = list(line.split())\n",
    "        result.append(res)\n",
    "    for i in range(len(result)):\n",
    "        for j in range(len(result[i])):\n",
    "            result[i][j] = int(result[i][j])\n",
    "        print(sum(result[i]), sep='\\n')"
   ]
  },
  {
   "cell_type": "markdown",
   "id": "16e914b8",
   "metadata": {},
   "source": [
    "# 11. Сумма чисел в файле\n",
    "Вам доступен текстовый файл nums.txt. В файле могут быть записаны целые неотрицательные числа и все, что угодно. Числом назовем последовательность одной и более цифр, идущих подряд (число всегда неотрицательно).\n",
    "\n",
    "Напишите программу, которая вычисляет сумму всех чисел, записанных в файле.\n",
    "\n",
    "#### Формат входных данных\n",
    "На вход программе ничего не подается.\n",
    "\n",
    "#### Формат выходных данных\n",
    "Программа должна вывести сумму всех чисел, записанных в файле.\n",
    "\n",
    "\n",
    "<strong> Примечание. </strong> Указанный файл можно скачать по [ссылке](https://stepik.org/media/attachments/lesson/530408/nums.txt)."
   ]
  },
  {
   "cell_type": "code",
   "execution_count": 81,
   "id": "f3d669cd",
   "metadata": {},
   "outputs": [
    {
     "name": "stdout",
     "output_type": "stream",
     "text": [
      "124410\n"
     ]
    }
   ],
   "source": [
    "import regex as re\n",
    "\n",
    "with open('nums.txt', encoding='UTF-8') as nums:\n",
    "    nums = [line.strip() for line in nums.readlines()]\n",
    "    nums_only = [re.findall('\\\\d+', num) for num in nums]\n",
    "    res = [list(nums) for nums in nums_only]\n",
    "    result = 0\n",
    "    for i in range(len(res)):\n",
    "        for j in range(len(res[i])):\n",
    "            res[i][j] = int(res[i][j])\n",
    "            result += res[i][j]\n",
    "    print(result)"
   ]
  },
  {
   "cell_type": "markdown",
   "id": "c675c82c",
   "metadata": {},
   "source": [
    "# 12. Статистика по файлу\n",
    "Вам доступен текстовый файл file.txt, набранный латиницей. Напишите программу, которая выводит количество букв латинского алфавита, слов и строк. Выведите три найденных числа в формате, приведенном в примере.\n",
    "\n",
    "#### Формат входных данных\n",
    "На вход программе ничего не подается.\n",
    "\n",
    "#### Формат выходных данных\n",
    "Программа должна вывести три найденных числа в формате, приведенном в примере.\n",
    "\n",
    "\n",
    "<strong> Примечание 1. </strong> Словом называется последовательность из непробельных символов. Например, строка\n",
    "\n",
    "abc a21 67pop    qwert bo7ok 83456\n",
    "\n",
    "содержит 6 слов: abc, a21, 67pop, qwert, bo7ok, 83456.\n",
    "\n",
    "<strong> Примечание 2. </strong> Указанный файл можно скачать по [ссылке](https://stepik.org/media/attachments/lesson/530408/file.txt)."
   ]
  },
  {
   "cell_type": "code",
   "execution_count": 136,
   "id": "9ff0a021",
   "metadata": {},
   "outputs": [
    {
     "name": "stdout",
     "output_type": "stream",
     "text": [
      "Input file contains:\n",
      "1069 letters\n",
      "229 words\n",
      "12 lines\n"
     ]
    }
   ],
   "source": [
    "import regex as re\n",
    "\n",
    "with open('file.txt', encoding='UTF-8') as file:\n",
    "    lines = [line.strip() for line in file.readlines()]\n",
    "    words = [len(list(line.split())) for line in lines]\n",
    "    letters = ''.join(lines)\n",
    "    letter_count = len(re.findall('[a-zA-Z]', letters))\n",
    "    print('Input file contains:')\n",
    "    print(letter_count, 'letters')\n",
    "    print(sum(words), 'words')\n",
    "    print(len(lines), 'lines')"
   ]
  },
  {
   "cell_type": "markdown",
   "id": "6c080f7d",
   "metadata": {},
   "source": [
    "# 13. Random name and surname\n",
    "Вам доступны два текстовых файла first_names.txt и last_names.txt, один с именами, другой с фамилиями.\n",
    "\n",
    "Напишите программу, которая c помощью модуля random создает 3 случайные пары имя + фамилия, а затем выводит их, каждую на отдельной строке.\n",
    "\n",
    "#### Формат входных данных\n",
    "На вход программе ничего не подается.\n",
    "\n",
    "#### Формат выходных данных\n",
    "Программа должна вывести текст в формате, приведенном в примере.\n",
    "\n",
    "<strong> Примечание. </strong> Указанные файлы можно скачать по ссылкам ([имена](https://stepik.org/media/attachments/lesson/530408/first_names.txt), [фамилии](https://stepik.org/media/attachments/lesson/530408/last_names.txt)). "
   ]
  },
  {
   "cell_type": "code",
   "execution_count": 93,
   "id": "9dca66e4",
   "metadata": {},
   "outputs": [
    {
     "name": "stdout",
     "output_type": "stream",
     "text": [
      "Abel Swanson\n",
      "Erich Peter\n",
      "Cedric Romano\n"
     ]
    }
   ],
   "source": [
    "import random\n",
    "\n",
    "with open('first_names.txt', encoding='UTF-8') as first_names, open('last_names.txt', encoding='UTF-8') as last_names:\n",
    "    first_names_list = [first_name.split() for first_name in first_names]\n",
    "    last_names_list = [last_name.split() for last_name in last_names]\n",
    "    for _ in range(3):\n",
    "        print(*random.choice(first_names_list), *random.choice(last_names_list))"
   ]
  },
  {
   "cell_type": "markdown",
   "id": "129dca9b",
   "metadata": {},
   "source": [
    "# 14. Необычные страны\n",
    "Вам доступен текстовый файл population.txt с названиями стран и численностью их населения, разделенными символом табуляции '\\t'.\n",
    "\n",
    "Напишите программу выводящую все страны, название которых начинается с буквы 'G', численность населения которых больше чем 500 000 человек, не меняя их порядок.\n",
    "\n",
    "#### Формат входных данных\n",
    "На вход программе ничего не подается.\n",
    "\n",
    "#### Формат выходных данных\n",
    "Программа должна вывести названия стран, удовлетворяющие условиям задачи, каждое на отдельное строке.\n",
    "\n",
    "<strong> Примечание. </strong> Указанный файл можно скачать по [ссылке](https://stepik.org/media/attachments/lesson/530408/population.txt)."
   ]
  },
  {
   "cell_type": "code",
   "execution_count": 129,
   "id": "79773e8e",
   "metadata": {},
   "outputs": [
    {
     "name": "stdout",
     "output_type": "stream",
     "text": [
      "Germany\n",
      "Ghana\n",
      "Guatemala\n",
      "Greece\n",
      "Guinea\n",
      "Georgia\n",
      "Guinea-Bissau\n",
      "Gabon\n",
      "Guyana\n"
     ]
    }
   ],
   "source": [
    "import regex as re\n",
    "\n",
    "with open('population.txt', encoding='UTF-8') as file:\n",
    "    countries = [x.strip().split('\\t')[0] for x in file.readlines() if x[0] == 'G' and int(x.strip().split('\\t')[1]) > 500000]\n",
    "    print(*countries, sep='\\n')"
   ]
  },
  {
   "cell_type": "markdown",
   "id": "c2946345",
   "metadata": {},
   "source": [
    "#  15. CSV-файл\n",
    "Вам доступен CSV-файл data.csv, содержащий информацию в csv формате. Напишите функцию read_csv для чтения данных из этого файла. Она должна возвращать список словарей, интерпретируя первую строку как имена ключей, а каждую последующую строку как значения этих ключей.\n",
    "\n",
    "#### Формат входных данных\n",
    "На вход программе ничего не подается.\n",
    "\n",
    "#### Формат выходных данных\n",
    "Программа должна содержать реализованную функцию read_csv.\n",
    "\n",
    "<strong> Примечание 1. </strong> Вызывать функцию read_csv не нужно.\n",
    "\n",
    "<strong> Примечание 2. </strong> Функция read_csv не должна принимать аргументов. \n",
    "\n",
    "<strong> Примечание 3. </strong> Подробнее прочитать про CSV-файлы можно [тут](https://ru.wikipedia.org/wiki/CSV).\n",
    "\n",
    "<strong> Примечание 4. </strong> Считайте, что все ключи и значения по этим ключам в результирующем словаре имеют строковый тип (str).\n",
    "\n",
    "<strong> Примечание 5. </strong> Указанный файл можно скачать по [ссылке](https://stepik.org/media/attachments/lesson/530408/data.csv).\n",
    "\n",
    "<strong> Примечание 6. </strong> Если бы файл data.csv содержал информацию\n",
    "\n",
    "name,address,age\n",
    "\n",
    "George,4312 Abbey Road,22\n",
    "\n",
    "John,54 Love Ave,21\n",
    "\n",
    "\n",
    "то вызов функции read_csv() вернул бы список:\n",
    "\n",
    "[{'name': 'George', 'address': '4312 Abbey Road', 'age': '22'}, {'name': 'John', 'address': '54 Love Ave', 'age': '21'}]"
   ]
  },
  {
   "cell_type": "code",
   "execution_count": 131,
   "id": "04a594a9",
   "metadata": {},
   "outputs": [
    {
     "name": "stdout",
     "output_type": "stream",
     "text": [
      "[{'policyID': '119736', 'statecode': 'FL', 'county': 'CLAY COUNTY', 'eq_site_limit': '498960', 'hu_site_limit': '498960', 'fl_site_limit': '498960', 'fr_site_limit': '498960', 'tiv_2011': '498960', 'tiv_2012': '792148.9', 'eq_site_deductible': '0', 'hu_site_deductible': '9979.2', 'fl_site_deductible': '0', 'fr_site_deductible': '0', 'point_latitude': '30.102261', 'point_longitude': '-81.711777', 'line': 'Residential', 'construction': 'Masonry', 'point_granularity': '1'}, {'policyID': '448094', 'statecode': 'FL', 'county': 'CLAY COUNTY', 'eq_site_limit': '1322376.3', 'hu_site_limit': '1322376.3', 'fl_site_limit': '1322376.3', 'fr_site_limit': '1322376.3', 'tiv_2011': '1322376.3', 'tiv_2012': '1438163.57', 'eq_site_deductible': '0', 'hu_site_deductible': '0', 'fl_site_deductible': '0', 'fr_site_deductible': '0', 'point_latitude': '30.063936', 'point_longitude': '-81.707664', 'line': 'Residential', 'construction': 'Masonry', 'point_granularity': '3'}, {'policyID': '206893', 'statecode': 'FL', 'county': 'CLAY COUNTY', 'eq_site_limit': '190724.4', 'hu_site_limit': '190724.4', 'fl_site_limit': '190724.4', 'fr_site_limit': '190724.4', 'tiv_2011': '190724.4', 'tiv_2012': '192476.78', 'eq_site_deductible': '0', 'hu_site_deductible': '0', 'fl_site_deductible': '0', 'fr_site_deductible': '0', 'point_latitude': '30.089579', 'point_longitude': '-81.700455', 'line': 'Residential', 'construction': 'Wood', 'point_granularity': '1'}, {'policyID': '333743', 'statecode': 'FL', 'county': 'CLAY COUNTY', 'eq_site_limit': '0', 'hu_site_limit': '79520.76', 'fl_site_limit': '0', 'fr_site_limit': '0', 'tiv_2011': '79520.76', 'tiv_2012': '86854.48', 'eq_site_deductible': '0', 'hu_site_deductible': '0', 'fl_site_deductible': '0', 'fr_site_deductible': '0', 'point_latitude': '30.063236', 'point_longitude': '-81.707703', 'line': 'Residential', 'construction': 'Wood', 'point_granularity': '3'}, {'policyID': '172534', 'statecode': 'FL', 'county': 'CLAY COUNTY', 'eq_site_limit': '0', 'hu_site_limit': '254281.5', 'fl_site_limit': '0', 'fr_site_limit': '254281.5', 'tiv_2011': '254281.5', 'tiv_2012': '246144.49', 'eq_site_deductible': '0', 'hu_site_deductible': '0', 'fl_site_deductible': '0', 'fr_site_deductible': '0', 'point_latitude': '30.060614', 'point_longitude': '-81.702675', 'line': 'Residential', 'construction': 'Wood', 'point_granularity': '1'}, {'policyID': '785275', 'statecode': 'FL', 'county': 'CLAY COUNTY', 'eq_site_limit': '0', 'hu_site_limit': '515035.62', 'fl_site_limit': '0', 'fr_site_limit': '0', 'tiv_2011': '515035.62', 'tiv_2012': '884419.17', 'eq_site_deductible': '0', 'hu_site_deductible': '0', 'fl_site_deductible': '0', 'fr_site_deductible': '0', 'point_latitude': '30.063236', 'point_longitude': '-81.707703', 'line': 'Residential', 'construction': 'Masonry', 'point_granularity': '3'}, {'policyID': '995932', 'statecode': 'FL', 'county': 'CLAY COUNTY', 'eq_site_limit': '0', 'hu_site_limit': '19260000', 'fl_site_limit': '0', 'fr_site_limit': '0', 'tiv_2011': '19260000', 'tiv_2012': '20610000', 'eq_site_deductible': '0', 'hu_site_deductible': '0', 'fl_site_deductible': '0', 'fr_site_deductible': '0', 'point_latitude': '30.102226', 'point_longitude': '-81.713882', 'line': 'Commercial', 'construction': 'Reinforced Concrete', 'point_granularity': '1'}, {'policyID': '223488', 'statecode': 'FL', 'county': 'CLAY COUNTY', 'eq_site_limit': '328500', 'hu_site_limit': '328500', 'fl_site_limit': '328500', 'fr_site_limit': '328500', 'tiv_2011': '328500', 'tiv_2012': '348374.25', 'eq_site_deductible': '0', 'hu_site_deductible': '16425', 'fl_site_deductible': '0', 'fr_site_deductible': '0', 'point_latitude': '30.102217', 'point_longitude': '-81.707146', 'line': 'Residential', 'construction': 'Wood', 'point_granularity': '1'}, {'policyID': '433512', 'statecode': 'FL', 'county': 'CLAY COUNTY', 'eq_site_limit': '315000', 'hu_site_limit': '315000', 'fl_site_limit': '315000', 'fr_site_limit': '315000', 'tiv_2011': '315000', 'tiv_2012': '265821.57', 'eq_site_deductible': '0', 'hu_site_deductible': '15750', 'fl_site_deductible': '0', 'fr_site_deductible': '0', 'point_latitude': '30.118774', 'point_longitude': '-81.704613', 'line': 'Residential', 'construction': 'Wood', 'point_granularity': '1'}, {'policyID': '142071', 'statecode': 'FL', 'county': 'CLAY COUNTY', 'eq_site_limit': '705600', 'hu_site_limit': '705600', 'fl_site_limit': '705600', 'fr_site_limit': '705600', 'tiv_2011': '705600', 'tiv_2012': '1010842.56', 'eq_site_deductible': '14112', 'hu_site_deductible': '35280', 'fl_site_deductible': '0', 'fr_site_deductible': '0', 'point_latitude': '30.100628', 'point_longitude': '-81.703751', 'line': 'Residential', 'construction': 'Masonry', 'point_granularity': '1'}]\n"
     ]
    }
   ],
   "source": [
    "def read_csv():\n",
    "    \n",
    "    lis = [l.rstrip().split(',') for l in open('data.csv', encoding='UTF-8').readlines()]\n",
    "    keys = lis[0]\n",
    "    res = []\n",
    "    \n",
    "    for i in lis[1:]:\n",
    "        res.append(dict(zip(keys, i)))\n",
    "    \n",
    "    return res\n",
    "\n",
    "print(read_csv())"
   ]
  },
  {
   "cell_type": "markdown",
   "id": "371b91d4",
   "metadata": {},
   "source": [
    "# 16. Входная строка\n",
    "Напишите программу, которая считывает строку текста и записывает её в текстовый файл output.txt.\n",
    "\n",
    "#### Формат входных данных\n",
    "На вход программе подается строка текста.\n",
    "\n",
    "#### Формат выходных данных\n",
    "Программа должна создать файл с именем output.txt и записать в него считанную строку текста.\n",
    "\n",
    "<strong> Примечание. </strong> Считайте, что исполняемая программа и указанный файл находятся в одной папке."
   ]
  },
  {
   "cell_type": "code",
   "execution_count": null,
   "id": "c53da029",
   "metadata": {},
   "outputs": [],
   "source": [
    "with open('output.txt', 'w', encoding='UTF-8') as file:\n",
    "    file.write(str(input()))"
   ]
  },
  {
   "cell_type": "markdown",
   "id": "b15c6722",
   "metadata": {},
   "source": [
    "# 17. Случайные числа\n",
    "Напишите программу, записывающую в текстовый файл random.txt 25 случайных чисел в диапазоне от 111 до 777 (включительно), каждое с новой строки.\n",
    "\n",
    "#### Формат входных данных\n",
    "На вход программе ничего не подается.\n",
    "\n",
    "#### Формат выходных данных\n",
    "Программа должна создать файл с именем random.txt и записать в него случайные числа в соответствии с условием задачи.\n",
    "\n",
    "<strong> Примечание 1. </strong> Считайте, что исполняемая программа и указанный файл находятся в одной папке.\n",
    "\n",
    "<strong> Примечание 2. </strong> Для генерации случайных чисел используйте модуль random."
   ]
  },
  {
   "cell_type": "code",
   "execution_count": null,
   "id": "2596b985",
   "metadata": {},
   "outputs": [],
   "source": [
    "import random\n",
    "\n",
    "with open('random.txt', 'w', encoding='UTF-8') as file:\n",
    "    rndm = []\n",
    "    for _ in range(25):\n",
    "        i = str(random.choice(range(111, 777))) + '\\n'\n",
    "        rndm.append(i)\n",
    "    file.writelines(rndm)"
   ]
  },
  {
   "cell_type": "markdown",
   "id": "4626ace4",
   "metadata": {},
   "source": [
    "# 18. Нумерация строк\n",
    "Вам доступен текстовый файл input.txt, состоящий из нескольких строк. Напишите программу для записи содержимого этого файла в файл output.txt в виде нумерованного списка, где перед каждой строкой стоит ее номер, символ ) и пробел. Нумерация строк должна начинаться с 11.\n",
    "\n",
    "#### Формат входных данных\n",
    "На вход программе ничего не подается.\n",
    "\n",
    "#### Формат выходных данных\n",
    "Программа должна создать файл с именем output.txt и записать в него пронумерованные строки файла input.txt.\n",
    "\n",
    "<strong> Примечание 1. </strong> Считайте, что исполняемая программа и указанные файлы находятся в одной папке.\n",
    "\n",
    "<strong> Примечание 2. </strong> Используйте встроенную функцию enumerate().\n",
    "\n",
    "<strong> Примечание 3. </strong> Если бы файл input.txt содержал строки:\n",
    "\n",
    "Beautiful is better than ugly.\n",
    "\n",
    "Explicit is better than implicit.\n",
    "\n",
    "Simple is better than complex.\n",
    "\n",
    "Complex is better than complicated.\n",
    "\n",
    "\n",
    "то файл output.txt имел бы вид:\n",
    "\n",
    "1) Beautiful is better than ugly.\n",
    "\n",
    "2) Explicit is better than implicit.\n",
    "\n",
    "3) Simple is better than complex.\n",
    "\n",
    "4) Complex is better than complicated.\n",
    "\n",
    "<strong> Примечание 4. </strong> Указанный файл можно скачать по [ссылке](https://stepik.org/media/attachments/lesson/519126/input.txt)."
   ]
  },
  {
   "cell_type": "code",
   "execution_count": null,
   "id": "84029c62",
   "metadata": {},
   "outputs": [],
   "source": [
    "lis = []\n",
    "with open('input.txt' , 'r', encoding='UTF-8') as inn:\n",
    "    lines = inn.readlines()\n",
    "    for count, line in enumerate(lines):\n",
    "        lis.append(str(str(count + 1) + ') ' + line))\n",
    "        \n",
    "with open('output.txt', 'w', encoding='UTF-8') as outt:\n",
    "    outt.writelines(lis)"
   ]
  },
  {
   "cell_type": "markdown",
   "id": "07f09428",
   "metadata": {},
   "source": [
    "# 19. Подарок на новый год\n",
    "Вам доступен текстовый файл class_scores.txt с оценками за итоговый тест на строках вида: фамилия оценка (фамилия и оценка разделены пробелом). Оценка - целое число от 0 до 100 включительно.\n",
    "\n",
    "Напишите программу для добавления 5 баллов к каждому результату теста и вывода фамилий и новых результатов тестов в файл new_scores.txt.\n",
    "\n",
    "#### Формат входных данных\n",
    "На вход программе ничего не подается.\n",
    "\n",
    "#### Формат выходных данных\n",
    "Программа должна создать файл с именем new_scores.txt в соответствии с условием задачи.\n",
    "\n",
    "<strong> Примечание 1. </strong> Считайте, что исполняемая программа и указанные файлы находятся в одной папке.\n",
    "\n",
    "<strong> Примечание 2. </strong> Если бы файл class_scores.txt содержал строки:\n",
    "\n",
    "Washington 83\n",
    "\n",
    "Adams 86\n",
    "\n",
    "Kingsman 100\n",
    "\n",
    "MacDonald 95\n",
    "\n",
    "Thomson 98\n",
    "\n",
    "\n",
    "то файл new_scores.txt имел бы вид:\n",
    "\n",
    "    \n",
    "Washington 88\n",
    "\n",
    "Adams 91\n",
    "\n",
    "Kingsman 100\n",
    "\n",
    "MacDonald 100\n",
    "\n",
    "Thomson 100\n",
    "\n",
    "<strong> Примечание 3. </strong> Указанный файл можно скачать по [ссылке](https://stepik.org/media/attachments/lesson/519126/class_scores.txt)."
   ]
  },
  {
   "cell_type": "code",
   "execution_count": null,
   "id": "571ceb12",
   "metadata": {},
   "outputs": [],
   "source": [
    "lis = []\n",
    "with open('class_scores.txt', 'r', encoding='UTF-8') as file_old:\n",
    "    lines = file_old.readlines()\n",
    "    for line in lines:\n",
    "        name_mark = line.split()\n",
    "        mark_new = min(100, int(name_mark[1]) + 5)\n",
    "        line = str(name_mark[0] + ' ' + str(mark_new))\n",
    "        lis.append(line + '\\n')\n",
    "\n",
    "with open('new_scores.txt', 'w', encoding='UTF-8') as file_new:\n",
    "    file_new.writelines(lis)"
   ]
  },
  {
   "cell_type": "markdown",
   "id": "53323e99",
   "metadata": {},
   "source": [
    "# 20. Загадка от Жака Фреско 🌶️\n",
    "Однажды Жака Фреско спросили:\n",
    "\n",
    "\"Если ты такой умный, почему не богатый?\"\n",
    "\n",
    "Жак не стал отвечать на столь провокационный вопрос, вместо этого он задал загадку спрашивающему:\n",
    "\n",
    "\"Были разноцветные козлы. Сколько?\"\n",
    "\n",
    "\"Сколько чего?\"\n",
    "\n",
    "\"Сколько из них составляет более 7% от общего количества козлов?\"\n",
    "\n",
    "Вам доступен текстовый файл goats.txt в первой строке которого написано слово COLOURS, далее идет список всех возможных цветов козлов. Затем идет строка со словом GOATS, и далее непосредственно перечисление козлов разных цветов. Перечень козлов включает только строки из первого списка.\n",
    "\n",
    "Напишите программу создания файла answer.txt и вывода в него списка козлов, которые удовлетворяют условию загадки от Жака Фреско.\n",
    "\n",
    "#### Формат входных данных\n",
    "На вход программе ничего не подается.\n",
    "\n",
    "#### Формат выходных данных\n",
    "Программа должна создать файл с именем answer.txt и вывести в него в алфавитном порядке названия цветов козлов, которые удовлетворяют условию загадки Жака Фреско.\n",
    "\n",
    "<strong> Примечание 1. </strong> Считайте, что исполняемая программа и указанные файлы находятся в одной папке.\n",
    "\n",
    "<strong> Примечание 2. </strong> Указанный файл можно скачать по [ссылке](https://stepik.org/media/attachments/lesson/519126/goats.txt). "
   ]
  },
  {
   "cell_type": "code",
   "execution_count": null,
   "id": "ee4e95bc",
   "metadata": {},
   "outputs": [],
   "source": [
    "with open('goats.txt', 'r', encoding='UTF-8') as file:\n",
    "    lines = file.read().splitlines()\n",
    "    goat_counts = dict()\n",
    "    flag = 1\n",
    "\n",
    "    while lines[flag] != 'GOATS':\n",
    "        goat_counts[lines[flag]] = 0\n",
    "        flag += 1\n",
    "            \n",
    "    for line in lines[flag + 1:]:\n",
    "        goat_counts[line] = goat_counts[line] + 1\n",
    "    \n",
    "Sum = len(lines) - flag - 1\n",
    "\n",
    "with open('answer.txt', 'w', encoding='UTF-8') as answer:\n",
    "    lis = []\n",
    "    for key, value in goat_counts.items():\n",
    "        if value / Sum > 0.07:\n",
    "            lis.append(key + '\\n')\n",
    "            lis.sort()\n",
    "    answer.writelines(lis)"
   ]
  },
  {
   "cell_type": "markdown",
   "id": "2e3104f7",
   "metadata": {},
   "source": [
    "# 21. Конкатенация файлов 🌶️\n",
    "На вход программе подается натуральное число n и n строк с названиями файлов. Напишите программу, которая создает файл output.txt и выводит в него содержимое всех файлов с указанными именами, не меняя их порядка.\n",
    "\n",
    "#### Формат входных данных\n",
    "На вход программе подается натуральное число n и n строк названий существующих файлов.\n",
    "\n",
    "#### Формат выходных данных\n",
    "Программа должна создать файл с именем output.txt в соответствии с условием задачи.\n",
    "\n",
    "<strong> Примечание. </strong> Считайте, что исполняемая программа и указанные файлы находятся в одной папке."
   ]
  },
  {
   "cell_type": "code",
   "execution_count": null,
   "id": "bbcd87ab",
   "metadata": {},
   "outputs": [],
   "source": [
    "lis = []\n",
    "\n",
    "n = int(input())\n",
    "\n",
    "for _ in range(n):\n",
    "    with open(str(input()), 'r', encoding='UTF-8') as file:\n",
    "        lines = file.readlines()\n",
    "        lis.extend(lines)\n",
    "\n",
    "with open('output.txt', 'w', encoding='UTF-8') as output:\n",
    "    output.writelines(lis)"
   ]
  },
  {
   "cell_type": "markdown",
   "id": "8324cd99",
   "metadata": {},
   "source": [
    "# 22. Лог файл 🌶️\n",
    "Вам доступен текстовый файл logfile.txt с информацией о времени входа пользователя в систему и выхода из нее. Каждая строка файла содержит три значения, разделенные запятыми и символом пробела: имя пользователя, время входа, время выхода, где время указано в 24-часовом формате.\n",
    "\n",
    "Напишите программу, которая создает файл output.txt и выводит в него имена всех пользователей (не меняя порядка следования), которые были в сети не менее часа.\n",
    "\n",
    "#### Формат входных данных\n",
    "На вход программе ничего не подается.\n",
    "\n",
    "#### Формат выходных данных\n",
    "Программа должна создать файл с именем output.txt в соответствии с условием задачи.\n",
    "\n",
    "<strong> Примечание 1. </strong> Считайте, что исполняемая программа и указанные файлы находятся в одной папке.\n",
    "\n",
    "<strong> Примечание 2. </strong> Считайте, что каждый пользователь был только раз в системе, то есть в файле нет двух строк с одинаковым пользователем.\n",
    "\n",
    "<strong> Примечание 3. </strong> Указанный файл можно скачать по [ссылке](https://stepik.org/media/attachments/lesson/519126/logfile.txt). "
   ]
  },
  {
   "cell_type": "code",
   "execution_count": 68,
   "id": "0819c589",
   "metadata": {},
   "outputs": [],
   "source": [
    "with open('logfile.txt', 'r', encoding='UTF-8') as file_old:\n",
    "    lines = file_old.readlines()\n",
    "    lis = []\n",
    "    for line in lines:\n",
    "        name, t1, t2 = line.split(', ')\n",
    "\n",
    "        if (int(t2[0:2]) * 60 + int(t2[3:5])) - (int(t1[0:2]) * 60 + int(t1[3:5])) >= 60:\n",
    "            lis.append(name + '\\n')\n",
    "\n",
    "with open('output.txt', 'w', encoding='UTF-8') as file_new:\n",
    "    file_new.writelines(lis)"
   ]
  }
 ],
 "metadata": {
  "kernelspec": {
   "display_name": "Python 3 (ipykernel)",
   "language": "python",
   "name": "python3"
  },
  "language_info": {
   "codemirror_mode": {
    "name": "ipython",
    "version": 3
   },
   "file_extension": ".py",
   "mimetype": "text/x-python",
   "name": "python",
   "nbconvert_exporter": "python",
   "pygments_lexer": "ipython3",
   "version": "3.9.12"
  }
 },
 "nbformat": 4,
 "nbformat_minor": 5
}
