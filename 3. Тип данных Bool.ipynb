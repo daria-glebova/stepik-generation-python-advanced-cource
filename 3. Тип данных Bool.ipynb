{
 "cells": [
  {
   "cell_type": "markdown",
   "id": "94fffb2b",
   "metadata": {},
   "source": [
    "# 1. Предикат делимости\n",
    "Напишите функцию func(num1, num2), принимающую в качестве аргументов два натуральных числа num1 и num2 и возвращающую значение True если число num1 делится без остатка на число num2 и False в противном случае.\n",
    "\n",
    "Результатом вывода программы должно быть \"делится\" (если функция func() вернула True) и \"не делится\" (если функция func() вернула False)."
   ]
  },
  {
   "cell_type": "code",
   "execution_count": 1,
   "id": "1ef47a3d",
   "metadata": {},
   "outputs": [
    {
     "name": "stdout",
     "output_type": "stream",
     "text": [
      "10\n",
      "2\n",
      "делится\n"
     ]
    }
   ],
   "source": [
    "def func(num1, num2):\n",
    "    return num1 % num2 == 0\n",
    "\n",
    "num1, num2 = int(input()), int(input())\n",
    "\n",
    "if func(num1, num2):\n",
    "    print('делится')\n",
    "else: \n",
    "    print('не делится')"
   ]
  }
 ],
 "metadata": {
  "kernelspec": {
   "display_name": "Python 3 (ipykernel)",
   "language": "python",
   "name": "python3"
  },
  "language_info": {
   "codemirror_mode": {
    "name": "ipython",
    "version": 3
   },
   "file_extension": ".py",
   "mimetype": "text/x-python",
   "name": "python",
   "nbconvert_exporter": "python",
   "pygments_lexer": "ipython3",
   "version": "3.9.12"
  }
 },
 "nbformat": 4,
 "nbformat_minor": 5
}
